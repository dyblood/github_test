{
 "cells": [
  {
   "cell_type": "markdown",
   "metadata": {},
   "source": [
    "Scenario\n",
    "\n",
    "As you already know, a stack is a data structure realizing the so-called LIFO (Last In - First Out) model. It's easy and you've already grown perfectly accustomed to it.\n",
    "\n",
    "Let's taste something new now. A queue is a data model characterized by the term FIFO: First In - Fist Out. Note: a regular queue (line) you know from shops or post offices works exactly in the same way - a customer who came first is served first too.\n",
    "\n",
    "Your task is to implement the Queue class with two basic operations:\n",
    "\n",
    "   # put(element), which puts an element at end of the queue;\n",
    "   # get(), which takes an element from the front of the queue and returns it as \n",
    "   #       the result (the queue cannot be empty to successfully perform it.)\n",
    "\n",
    "Follow the hints:\n",
    "\n",
    "  #  use a list as your storage (just like we did in stack)\n",
    "  #  put() should append elements to the beginning of the list, while get() should remove the elements from the list's end;\n",
    "  #  define a new exception named QueueError (choose an exception to derive it from) and raise it when get() tries to operate on an empty list."
   ]
  },
  {
   "cell_type": "code",
   "execution_count": 1,
   "metadata": {},
   "outputs": [
    {
     "name": "stdout",
     "output_type": "stream",
     "text": [
      "1\n",
      "dog\n",
      "False\n",
      "Queue error\n"
     ]
    }
   ],
   "source": [
    "class QueueError(IndexError):\n",
    "    pass\n",
    "\n",
    "\n",
    "class Queue:\n",
    "    def __init__(self):\n",
    "        self.queue = []\n",
    "\n",
    "    def put(self, elem):\n",
    "        self.queue.insert(0, elem)\n",
    "\n",
    "    def get(self):\n",
    "        if len(self.queue) > 0:\n",
    "            elem = self.queue[-1]\n",
    "            del self.queue[-1]\n",
    "            return elem\n",
    "        else:\n",
    "            raise QueueError\n",
    "\n",
    "\n",
    "que = Queue()\n",
    "que.put(1)\n",
    "que.put(\"dog\")\n",
    "que.put(False)\n",
    "try:\n",
    "    for i in range(4):\n",
    "        print(que.get())\n",
    "except:\n",
    "    print(\"Queue error\")"
   ]
  }
 ],
 "metadata": {
  "interpreter": {
   "hash": "b78c21ee4300035dc702c1248f36619584a967018b0e3362776c2639c116c18c"
  },
  "kernelspec": {
   "display_name": "Python 3.10.4 64-bit",
   "language": "python",
   "name": "python3"
  },
  "language_info": {
   "codemirror_mode": {
    "name": "ipython",
    "version": 3
   },
   "file_extension": ".py",
   "mimetype": "text/x-python",
   "name": "python",
   "nbconvert_exporter": "python",
   "pygments_lexer": "ipython3",
   "version": "3.10.4"
  },
  "orig_nbformat": 4
 },
 "nbformat": 4,
 "nbformat_minor": 2
}
