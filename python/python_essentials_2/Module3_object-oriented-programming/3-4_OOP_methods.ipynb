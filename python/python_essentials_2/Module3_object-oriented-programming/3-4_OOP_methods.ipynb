{
 "cells": [
  {
   "cell_type": "markdown",
   "metadata": {},
   "source": [
    "3.4.1.1\n",
    "\n",
    "\n",
    "Methods in detail\n",
    "\n",
    "Let's summarize all the facts regarding the use of methods in Python classes.\n",
    "\n",
    "As you already know, a method is a function embedded inside a class.\n",
    "\n",
    "There is one fundamental requirement - a method is obliged to have at least one parameter (there are no such thing as parameterless methods - a method may be invoked without an argument, but not declared without parameters).\n",
    "\n",
    "The first (or only) parameter is usually named self. We suggest that you follow the convention - it's commonly used, and you'll cause a few surprises by using other names for it.\n",
    "\n",
    "The name self suggests the parameter's purpose - it identifies the object for which the method is invoked.\n",
    "\n",
    "If you're going to invoke a method, you mustn't pass the argument for the self parameter - Python will set it for you.\n",
    "\n",
    "The example in the editor shows the difference.\n",
    "\n",
    "The code outputs:\n",
    "\n",
    "method\n",
    "output\n",
    "\n",
    "Note the way we've created the object - we've treated the class name like a function, returning a newly instantiated object of the class.\n",
    "\n",
    "If you want the method to accept parameters other than self, you should:\n",
    "\n",
    "   # place them after self in the method's definition;\n",
    "   # deliver them during invocation without specifying self (as previously)\n",
    "\n",
    "Just like here:"
   ]
  },
  {
   "cell_type": "code",
   "execution_count": null,
   "metadata": {},
   "outputs": [],
   "source": [
    "class Classy:\n",
    "    def method(self):\n",
    "        print(\"method\")\n",
    "\n",
    "\n",
    "obj = Classy()\n",
    "obj.method()\n"
   ]
  },
  {
   "cell_type": "code",
   "execution_count": null,
   "metadata": {},
   "outputs": [],
   "source": [
    "class Classy:\n",
    "    def method(self, par):\n",
    "        print(\"method:\", par)\n",
    "\n",
    "\n",
    "obj = Classy()\n",
    "obj.method(1)\n",
    "obj.method(2)\n",
    "obj.method(3)\n"
   ]
  },
  {
   "cell_type": "markdown",
   "metadata": {},
   "source": [
    "3.4.1.2\n",
    "\n",
    "Methods in detail: continued\n",
    "\n",
    "The self parameter is used to obtain access to the object's instance and class variables.\n",
    "\n",
    "The example shows both ways of utilizing self:"
   ]
  },
  {
   "cell_type": "code",
   "execution_count": 1,
   "metadata": {},
   "outputs": [
    {
     "name": "stdout",
     "output_type": "stream",
     "text": [
      "2 3\n"
     ]
    }
   ],
   "source": [
    "class Classy:\n",
    "    varia = 2\n",
    "    def method(self):\n",
    "        print(self.varia, self.var)\n",
    "\n",
    "\n",
    "obj = Classy()\n",
    "obj.var = 3\n",
    "obj.method()"
   ]
  },
  {
   "cell_type": "markdown",
   "metadata": {},
   "source": [
    "The self parameter is also used to invoke other object/class methods from inside the class.\n",
    "\n",
    "Just like here:"
   ]
  },
  {
   "cell_type": "code",
   "execution_count": 2,
   "metadata": {},
   "outputs": [
    {
     "name": "stdout",
     "output_type": "stream",
     "text": [
      "method\n",
      "other\n"
     ]
    }
   ],
   "source": [
    "class Classy:\n",
    "    def other(self):\n",
    "        print(\"other\")\n",
    "\n",
    "    def method(self):\n",
    "        print(\"method\")\n",
    "        self.other()\n",
    "\n",
    "\n",
    "obj = Classy()\n",
    "obj.method()"
   ]
  },
  {
   "cell_type": "markdown",
   "metadata": {},
   "source": [
    "3.4.1.3\n",
    "\n",
    "\n",
    "Methods in detail: continued\n",
    "\n",
    "If you name a method like this: __init__, it won't be a regular method - it will be a constructor.\n",
    "\n",
    "If a class has a constructor, it is invoked automatically and implicitly when the object of the class is instantiated.\n",
    "\n",
    "The constructor:\n",
    "\n",
    "   # is obliged to have the self parameter (it's set automatically, as usual);\n",
    "   # may (but doesn't need to) have more parameters than just self; if this happens, the way in which the class name is used to create the object must reflect the __init__ definition;\n",
    "   # can be used to set up the object, i.e., properly initialize its internal state, create instance variables, instantiate any other objects if their existence is needed, etc.\n",
    "\n",
    "Look at the code in the editor. The example shows a very simple constructor at work.\n",
    "\n",
    "Run it. The code outputs:\n",
    "\n",
    "object\n",
    "output\n",
    "\n",
    "Note that the constructor:\n",
    "\n",
    "   # cannot return a value, as it is designed to return a newly created object and nothing else;\n",
    "   # cannot be invoked directly either from the object or from inside the class (you can invoke a constructor from any of the object's subclasses, but we'll discuss this issue later.)\n"
   ]
  },
  {
   "cell_type": "code",
   "execution_count": null,
   "metadata": {},
   "outputs": [],
   "source": [
    "class Classy:\n",
    "    def __init__(self, value):\n",
    "        self.var = value\n",
    "\n",
    "\n",
    "obj_1 = Classy(\"object\")\n",
    "\n",
    "print(obj_1.var)\n"
   ]
  },
  {
   "cell_type": "markdown",
   "metadata": {},
   "source": [
    "3.4.1.4\n",
    "\n",
    "Methods in detail: continued\n",
    "\n",
    "As __init__ is a method, and a method is a function, you can do the same tricks with constructors/methods as you do with ordinary functions.\n",
    "\n",
    "The example in the editor shows how to define a constructor with a default argument value. Test it.\n",
    "\n",
    "The code outputs:\n",
    "\n",
    "object\n",
    "None\n",
    "output\n",
    "\n",
    "Everything we've said about property name mangling applies to method names, too - a method whose name starts with __ is (partially) hidden.\n",
    "\n",
    "The example shows this effect:"
   ]
  },
  {
   "cell_type": "code",
   "execution_count": 4,
   "metadata": {},
   "outputs": [
    {
     "name": "stdout",
     "output_type": "stream",
     "text": [
      "object\n",
      "None\n"
     ]
    }
   ],
   "source": [
    "class Classy:\n",
    "    def __init__(self, value = None):\n",
    "        self.var = value\n",
    "\n",
    "\n",
    "obj_1 = Classy(\"object\")\n",
    "obj_2 = Classy()\n",
    "\n",
    "print(obj_1.var)\n",
    "print(obj_2.var)\n"
   ]
  },
  {
   "cell_type": "code",
   "execution_count": 3,
   "metadata": {},
   "outputs": [
    {
     "name": "stdout",
     "output_type": "stream",
     "text": [
      "visible\n",
      "failed\n",
      "hidden\n"
     ]
    }
   ],
   "source": [
    "class Classy:\n",
    "    def visible(self):\n",
    "        print(\"visible\")\n",
    "    \n",
    "    def __hidden(self):\n",
    "        print(\"hidden\")\n",
    "\n",
    "\n",
    "obj = Classy()\n",
    "obj.visible()\n",
    "\n",
    "try:\n",
    "    obj.__hidden()\n",
    "except:\n",
    "    print(\"failed\")\n",
    "\n",
    "obj._Classy__hidden()"
   ]
  },
  {
   "cell_type": "markdown",
   "metadata": {},
   "source": [
    "3.4.1.5\n",
    "\n",
    "\n",
    "The inner life of classes and objects\n",
    "\n",
    "Each Python class and each Python object is pre-equipped with a set of useful attributes which can be used to examine its capabilities.\n",
    "\n",
    "You already know one of these - it's the __dict__ property.\n",
    "\n",
    "Let's observe how it deals with methods - look at the code in the editor.\n",
    "\n",
    "Run it to see what it outputs. Check the output carefully.\n",
    "\n",
    "Find all the defined methods and attributes. Locate the context in which they exist: inside the object or inside the class.\n",
    "\n"
   ]
  },
  {
   "cell_type": "code",
   "execution_count": 5,
   "metadata": {},
   "outputs": [
    {
     "name": "stdout",
     "output_type": "stream",
     "text": [
      "{'var': 2}\n",
      "{'__module__': '__main__', 'varia': 1, '__init__': <function Classy.__init__ at 0x000002612BD23A30>, 'method': <function Classy.method at 0x000002612BD23AC0>, '_Classy__hidden': <function Classy.__hidden at 0x000002612BE04310>, '__dict__': <attribute '__dict__' of 'Classy' objects>, '__weakref__': <attribute '__weakref__' of 'Classy' objects>, '__doc__': None}\n"
     ]
    }
   ],
   "source": [
    "class Classy:\n",
    "    varia = 1\n",
    "    def __init__(self):\n",
    "        self.var = 2\n",
    "\n",
    "    def method(self):\n",
    "        pass\n",
    "\n",
    "    def __hidden(self):\n",
    "        pass\n",
    "\n",
    "\n",
    "obj = Classy()\n",
    "\n",
    "print(obj.__dict__)\n",
    "print(Classy.__dict__)\n"
   ]
  },
  {
   "cell_type": "markdown",
   "metadata": {},
   "source": [
    "3.4.1.6 \n",
    "\n",
    "\n",
    "The inner life of classes and objects: continued\n",
    "\n",
    "__dict__ is a dictionary. Another built-in property worth mentioning is __name__, which is a string.\n",
    "\n",
    "The property contains the name of the class. It's nothing exciting, just a string.\n",
    "\n",
    "Note: the __name__ attribute is absent from the object - it exists only inside classes.\n",
    "\n",
    "\n",
    "If you want to find the class of a particular object, you can use a function named type(), which is able (among other things) to find a class which has been used to instantiate any object.\n",
    "\n",
    "Look at the code in the editor, run it, and see for yourself.\n",
    "\n",
    "The code outputs:\n",
    "\n",
    "Classy\n",
    "Classy\n",
    "output\n",
    "\n",
    "Note that a statement like this one:\n",
    "\n",
    "print(obj.__name__)\n",
    "\n",
    "\n",
    "will cause an error."
   ]
  },
  {
   "cell_type": "code",
   "execution_count": 6,
   "metadata": {},
   "outputs": [
    {
     "name": "stdout",
     "output_type": "stream",
     "text": [
      "Classy\n",
      "Classy\n"
     ]
    }
   ],
   "source": [
    "class Classy:\n",
    "    pass\n",
    "\n",
    "\n",
    "print(Classy.__name__)\n",
    "obj = Classy()\n",
    "print(type(obj).__name__) # type() function => find the class of a particular object\n"
   ]
  },
  {
   "cell_type": "markdown",
   "metadata": {},
   "source": [
    "3.4.1.7\n",
    "\n",
    "\n",
    "The inner life of classes and objects: continued\n",
    "__module__ is a string, too - it stores the name of the module which contains the definition of the class.\n",
    "\n",
    "Let's check it - run the code in the editor.\n",
    "\n",
    "The code outputs:\n",
    "\n",
    "__main__\n",
    "__main__\n",
    "output\n",
    "\n",
    "As you know, any module named __main__ is actually not a module, but the file currently being run.\n",
    "\n",
    "\n"
   ]
  },
  {
   "cell_type": "code",
   "execution_count": 7,
   "metadata": {},
   "outputs": [
    {
     "name": "stdout",
     "output_type": "stream",
     "text": [
      "__main__\n",
      "__main__\n"
     ]
    }
   ],
   "source": [
    "class Classy:\n",
    "    pass\n",
    "\n",
    "\n",
    "print(Classy.__module__)\n",
    "obj = Classy()\n",
    "print(obj.__module__)\n"
   ]
  },
  {
   "cell_type": "markdown",
   "metadata": {},
   "source": [
    "3.4.1.8\n",
    "\n",
    "The inner life of classes and objects: continued\n",
    "\n",
    "__bases__ is a tuple. The tuple contains classes (not class names) which are direct superclasses for the class.\n",
    "\n",
    "The order is the same as that used inside the class definition.\n",
    "\n",
    "We'll show you only a very basic example, as we want to highlight how inheritance works.\n",
    "\n",
    "Moreover, we're going to show you how to use this attribute when we discuss the objective aspects of exceptions.\n",
    "\n",
    "Note: only classes have this attribute - objects don't.\n",
    "\n",
    "We've defined a function named printbases(), designed to present the tuple's contents clearly.\n",
    "\n",
    "Look at the code in the editor. Analyze it and run it. It will output:\n",
    "\n",
    "( object )\n",
    "( object )\n",
    "( SuperOne SuperTwo )\n",
    "output\n",
    "\n",
    "Note: a class without explicit superclasses points to object (a predefined Python class) as its direct ancestor."
   ]
  },
  {
   "cell_type": "code",
   "execution_count": 8,
   "metadata": {},
   "outputs": [
    {
     "name": "stdout",
     "output_type": "stream",
     "text": [
      "( object )\n",
      "( object )\n",
      "( SuperOne SuperTwo )\n"
     ]
    }
   ],
   "source": [
    "#NOTE: a class withoout explicit superclasses \n",
    "#      points to object(a predifined Python Class)\n",
    "\n",
    "class SuperOne:\n",
    "    pass\n",
    "\n",
    "\n",
    "class SuperTwo:\n",
    "    pass\n",
    "\n",
    "\n",
    "class Sub(SuperOne, SuperTwo):\n",
    "    pass\n",
    "\n",
    "\n",
    "def printBases(cls):\n",
    "    print('( ', end='')\n",
    "\n",
    "    for x in cls.__bases__: # __bases__ => tuple => contains \n",
    "                            # classes which are direct superclasses for the class\n",
    "        print(x.__name__, end=' ')\n",
    "    print(')')\n",
    "\n",
    "\n",
    "printBases(SuperOne) \n",
    "printBases(SuperTwo)\n",
    "printBases(Sub)\n"
   ]
  },
  {
   "cell_type": "markdown",
   "metadata": {},
   "source": [
    "3.4.1.9\n",
    "\n",
    "Reflection and introspection\n",
    "\n",
    "All these means allow the Python programmer to perform two important activities specific to many objective languages. They are:\n",
    "\n",
    "   - introspection, which is the ability of a program to examine the type or properties of an object at runtime;\n",
    "   - reflection, which goes a step further, and is the ability of a program to manipulate the values, properties and/or functions of an object at runtime.\n",
    "\n",
    "In other words, you don't have to know a complete class/object definition to manipulate the object, as the object and/or its class contain the metadata allowing you to recognize its features during program execution.\n",
    "\n",
    "\n",
    "Introspection:\n",
    "   - the ability of a program to examine the type or properties of an object at runtime\n",
    "Reflection\n",
    "   - the ability of a program to manipulate the values, properties and/or functions of an object at runtime \n"
   ]
  },
  {
   "cell_type": "markdown",
   "metadata": {},
   "source": [
    "3.4.1.10\n",
    "\n",
    "Investigating classes\n",
    "\n",
    "What can you find out about classes in Python? The answer is simple - everything.\n",
    "\n",
    "Both reflection and introspection enable a programmer to do anything with every object, no matter where it comes from.\n",
    "\n",
    "Analyze the the code in the editor.\n",
    "\n",
    "The function named incIntsI() gets an object of any class, scans its contents in order to find all integer attributes with names starting with i, and increments them by one.\n",
    "\n",
    "Impossible? Not at all!\n",
    "\n",
    "This is how it works:\n",
    "\n",
    "   - line 1: define a very simple class...\n",
    "   - lines 3 through 10: ... and fill it with some attributes;\n",
    "   - line 12: this is our function!\n",
    "   - line 13: scan the __dict__ attribute, looking for all attribute names;\n",
    "   - line 14: if a name starts with i...\n",
    "   - line 15: ... use the getattr() function to get its current value; note: getattr() takes two arguments: an object, and its property name (as a string), and returns the current attribute's value;\n",
    "   - line 16: check if the value is of type integer, and use the function isinstance() for this purpose (we'll discuss this later);\n",
    "   - line 17: if the check goes well, increment the property's value by making use of the setattr() function; the function takes three arguments: an object, the property name (as a string), and the property's new value.\n",
    "\n",
    "The code outputs:\n",
    "\n",
    "{'a': 1, 'integer': 4, 'b': 2, 'i': 3, 'z': 5, 'ireal': 3.5}\n",
    "{'a': 1, 'integer': 5, 'b': 2, 'i': 4, 'z': 5, 'ireal': 3.5}\n",
    "output\n",
    "\n",
    "That's all!\n",
    "\n"
   ]
  },
  {
   "cell_type": "code",
   "execution_count": 3,
   "metadata": {},
   "outputs": [
    {
     "name": "stdout",
     "output_type": "stream",
     "text": [
      "{'a': 1, 'b': 2, 'i': 3, 'ireal': 3.5, 'integer': 4, 'z': 5}\n",
      "{'a': 1, 'b': 2, 'i': 4, 'ireal': 3.5, 'integer': 5, 'z': 5}\n"
     ]
    }
   ],
   "source": [
    "class MyClass:\n",
    "    pass\n",
    "\n",
    "\n",
    "obj = MyClass()\n",
    "obj.a = 1\n",
    "obj.b = 2\n",
    "obj.i = 3\n",
    "obj.ireal = 3.5\n",
    "obj.integer = 4\n",
    "obj.z = 5\n",
    "\n",
    "\n",
    "def incIntsI(obj):\n",
    "    for name in obj.__dict__.keys():\n",
    "        if name.startswith('i'):\n",
    "            val = getattr(obj, name)\n",
    "            if isinstance(val, int):\n",
    "                setattr(obj, name, val + 1)\n",
    "\n",
    "\n",
    "print(obj.__dict__)\n",
    "incIntsI(obj)\n",
    "print(obj.__dict__)\n"
   ]
  },
  {
   "cell_type": "markdown",
   "metadata": {},
   "source": [
    "Key takeaways\n",
    "\n",
    "1. A method is a function embedded inside a class. The first (or only) parameter of each method is usually named self, which is designed to identify the object for which the method is invoked in order to access the object's properties or invoke its methods.\n",
    "\n",
    "\n",
    "2. If a class contains a constructor (a method named __init__) it cannot return any value and cannot be invoked directly.\n",
    "\n",
    "\n",
    "3. All classes (but not objects) contain a property named __name__, which stores the name of the class. Additionally, a property named __module__ stores the name of the module in which the class has been declared, while the property named __bases__ is a tuple containing a class's superclasses.\n",
    "\n",
    "For example:\n",
    "\n",
    "class Sample:\n",
    "    def __init__(self):\n",
    "        self.name = Sample.__name__\n",
    "    def myself(self):\n",
    "        print(\"My name is \" + self.name + \" living in a \" + Sample.__module__)\n",
    "\n",
    "\n",
    "obj = Sample()\n",
    "obj.myself()\n",
    "\n",
    "\n",
    "The code outputs:\n",
    "\n",
    "My name is Sample living in a __main__\n",
    "output\n",
    "\n",
    "\n",
    "\n",
    "Exercise 1\n",
    "\n",
    "The declaration of the Snake class is given below. Enrich the class with a method named increment(), adding 1 to the __victims property.\n",
    "\n",
    "class Snake:\n",
    "    def __init__(self):\n",
    "        self.victims = 0\n",
    "\n",
    "Check\n",
    "class Snake:\n",
    "    def __init__(self):\n",
    "        self.victims = 0\n",
    "\n",
    "    def increment(self):\n",
    "        self.victims += 1\n",
    "\n",
    "\n",
    "\n",
    "\n",
    "Exercise 2\n",
    "\n",
    "Redefine the Snake class constructor so that is has a parameter to initialize the victims field with a value passed to the object during construction.\n",
    "\n",
    "\n",
    "Check\n",
    "class Snake:\n",
    "    def __init__(self, victims):\n",
    "        self.victims = victims\t\n",
    "\n",
    "\n",
    "\n",
    "Exercise 3\n",
    "\n",
    "Can you predict the output of the following code?\n",
    "\n",
    "class Snake:\n",
    "    pass\n",
    "\n",
    "\n",
    "class Python(Snake):\n",
    "    pass\n",
    "\n",
    "\n",
    "print(Python.__name__, 'is a', Snake.__name__)\n",
    "print(Python.__bases__[0].__name__, 'can be', Python.__name__)\n",
    "\n",
    "\n",
    "Check\n",
    "Python is a Snake\n",
    "Snake can be Python\n"
   ]
  },
  {
   "cell_type": "code",
   "execution_count": null,
   "metadata": {},
   "outputs": [],
   "source": []
  }
 ],
 "metadata": {
  "interpreter": {
   "hash": "b78c21ee4300035dc702c1248f36619584a967018b0e3362776c2639c116c18c"
  },
  "kernelspec": {
   "display_name": "Python 3.10.4 64-bit",
   "language": "python",
   "name": "python3"
  },
  "language_info": {
   "codemirror_mode": {
    "name": "ipython",
    "version": 3
   },
   "file_extension": ".py",
   "mimetype": "text/x-python",
   "name": "python",
   "nbconvert_exporter": "python",
   "pygments_lexer": "ipython3",
   "version": "3.10.4"
  },
  "orig_nbformat": 4
 },
 "nbformat": 4,
 "nbformat_minor": 2
}
