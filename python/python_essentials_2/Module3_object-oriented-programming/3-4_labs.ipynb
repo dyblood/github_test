{
 "cells": [
  {
   "cell_type": "markdown",
   "metadata": {},
   "source": [
    "3.4.1.12 - The Timer Class\n",
    "\n",
    "Scenario\n",
    "\n",
    "We need a class able to count seconds. Easy? Not as much as you may think as we're going to have some specific expectations.\n",
    "\n",
    "Read them carefully as the class you're about write will be used to launch rockets carrying international missions to Mars. It's a great responsibility. We're counting on you!\n",
    "\n",
    "Your class will be called Timer. Its constructor accepts three arguments representing hours (a value from range [0..23] - we will be using the military time), minutes (from range [0..59]) and seconds (from range [0..59]).\n",
    "\n",
    "Zero is the default value for all of the above parameters. There is no need to perform any validation checks.\n",
    "\n",
    "The class itself should provide the following facilities:\n",
    "\n",
    "   - objects of the class should be \"printable\", i.e. they should be able to implicitly convert themselves into strings of the following form: \"hh:mm:ss\", with leading zeros added when any of the values is less than 10;\n",
    "   - the class should be equipped with parameterless methods called next_second() and previous_second(), incrementing the time stored inside objects by +1/-1 second respectively.\n",
    "Use the following hints:\n",
    "\n",
    "all object's properties should be private;\n",
    "consider writing a separate function (not method!) to format the time string."
   ]
  },
  {
   "cell_type": "code",
   "execution_count": 2,
   "metadata": {},
   "outputs": [
    {
     "name": "stdout",
     "output_type": "stream",
     "text": [
      "23:59:59\n",
      "00:00:00\n",
      "23:59:59\n"
     ]
    }
   ],
   "source": [
    "def two_digits(val): # function to ensure two there are two digits if value < 10\n",
    "    s = str(val)\n",
    "    if len(s) == 1:\n",
    "        s = '0' + s\n",
    "    return s\n",
    "\n",
    "class Timer: \n",
    "    def __init__(self, hours = 0, minutes = 0, seconds = 0): # using military time\n",
    "        self.__hours = hours\n",
    "        self.__minutes = minutes\n",
    "        self.__seconds = seconds\n",
    "\n",
    "    def __str__(self):\n",
    "        return two_digits(self.__hours) + \":\" + \\\n",
    "            two_digits(self.__minutes) + \":\" + \\\n",
    "            two_digits(self.__seconds)\n",
    "\n",
    "    def next_second(self):\n",
    "        self.__seconds += 1\n",
    "        if self.__seconds > 59:\n",
    "            self.__seconds = 0\n",
    "            self.__minutes += 1\n",
    "            if self.__minutes > 59:\n",
    "                self.__minutes = 0\n",
    "                self.__hours += 1\n",
    "                if self.__hours > 23:\n",
    "                    self.__hours = 0\n",
    "\n",
    "    def prev_second(self):\n",
    "        self.__seconds -= 1\n",
    "        if self.__seconds < 0:\n",
    "            self.__seconds = 59\n",
    "            self.__minutes -= 1\n",
    "            if self.__minutes < 0:\n",
    "                self.__minutes = 59\n",
    "                self.__hours -= 1\n",
    "                if self.__hours < 0:\n",
    "                    self.__hours = 23\n",
    "\n",
    "\n",
    "timer = Timer(23, 59, 59)\n",
    "print(timer)\n",
    "timer.next_second()\n",
    "print(timer)\n",
    "timer.prev_second()\n",
    "print(timer)\n"
   ]
  },
  {
   "cell_type": "markdown",
   "metadata": {},
   "source": [
    "3.4.1.13 - Lab: Days of the Week\n",
    "\n",
    "Scenario\n",
    "\n",
    "Your task is to implement a class called Weeker. Yes, your eyes don't deceive you – this name comes from the fact that objects of that class will be able to store and to manipulate the days of the week.\n",
    "\n",
    "The class constructor accepts one argument – a string. The string represents the name of the day of the week and the only acceptable values must come from the following set:\n",
    "\n",
    "Mon Tue Wed Thu Fri Sat Sun\n",
    "\n",
    "Invoking the constructor with an argument from outside this set should raise the WeekDayError exception (define it yourself; don't worry, we'll talk about the objective nature of exceptions soon). The class should provide the following facilities:\n",
    "\n",
    "   - objects of the class should be \"printable\", i.e. they should be able to implicitly convert themselves into strings of the same form as the constructor arguments;\n",
    "   - the class should be equipped with one-parameter methods called add_days(n) and subtract_days(n), with n being an integer number and updating the day of week stored inside the object in the way reflecting the change of date by the indicated number of days, forward or backward.\n",
    "   - all object's properties should be private;\n",
    "\n",
    "Complete the template we've provided in the editor and run your code and check whether your output looks the same as ours.\n",
    "\n",
    "Expected output:\n",
    "\n",
    "Mon\n",
    "Tue\n",
    "Sun\n",
    "Sorry, I can't serve your request."
   ]
  },
  {
   "cell_type": "code",
   "execution_count": 4,
   "metadata": {},
   "outputs": [
    {
     "name": "stdout",
     "output_type": "stream",
     "text": [
      "Mon\n",
      "Tue\n",
      "Sun\n",
      "Sorry, I can't serve your request.\n"
     ]
    }
   ],
   "source": [
    "class WeekDayError(Exception): # creating WeekDayError exception class\n",
    "    pass\n",
    "\t\n",
    "\n",
    "class Weeker:\n",
    "    __names = ['Mon', 'Tue', 'Wed', 'Thu', 'Fri', 'Sat', 'Sun']\n",
    "    # list of the days of the week\n",
    "\n",
    "    def __init__(self, day):\n",
    "       try:\n",
    "           self.__current = Weeker.__names.index(day) # gets the index of the current\n",
    "                                                      # day of the week\n",
    "       except ValueError:\n",
    "           raise WeekDayError\n",
    "\n",
    "    def __str__(self):\n",
    "        return Weeker.__names[self.__current] # converts index to the str\n",
    "\n",
    "    def add_days(self, n):\n",
    "        self.__current = (self.__current + n) % 7 # index can't be greater than 6\n",
    "        # adds n days and finds the remainder after dividing by 7\n",
    "\n",
    "    def subtract_days(self, n):\n",
    "        self.__current = (self.__current - n) % 7\n",
    "        # subtracts n days and finds the remainder after dividing by 7\n",
    "\n",
    "\n",
    "try:\n",
    "    weekday = Weeker('Mon')\n",
    "    print(weekday)\n",
    "    weekday.add_days(15)\n",
    "    print(weekday)\n",
    "    weekday.subtract_days(23)\n",
    "    print(weekday)\n",
    "    weekday = Weeker('Monday') # will raise error\n",
    "except WeekDayError:\n",
    "    print(\"Sorry, I can't serve your request.\")\n"
   ]
  },
  {
   "cell_type": "markdown",
   "metadata": {},
   "source": [
    "3.4.1.14 - Points on a plane\n",
    "\n",
    "Scenario\n",
    "Let's visit a very special place - a plane with the Cartesian coordinate system (you can learn more about this concept here: https://en.wikipedia.org/wiki/Cartesian_coordinate_system).\n",
    "\n",
    "Each point located on the plane can be described as a pair of coordinates customarily called x and y. We expect that you are able to write a Python class which stores both coordinates as float numbers. Moreover, we want the objects of this class to evaluate the distances between any of the two points situated on the plane.\n",
    "\n",
    "The task is rather easy if you employ the function named hypot() (available through the math module) which evaluates the length of the hypotenuse of a right triangle (more details here: https://en.wikipedia.org/wiki/Hypotenuse) and here: https://docs.python.org/3.7/library/math.html#trigonometric-functions.\n",
    "\n",
    "This is how we imagine the class:\n",
    "\n",
    "   - it's called Point;\n",
    "   - its constructor accepts two arguments (x and y respectively), both default to zero;\n",
    "   - all the properties should be private;\n",
    "   - the class contains two parameterless methods called getx() and gety(), which return each of the two coordinates (the coordinates are stored privately, so they cannot be accessed directly from within the object);\n",
    "   - the class provides a method called distance_from_xy(x,y), which calculates and returns the distance between the point stored inside the object and the other point given as a pair of floats;\n",
    "   - the class provides a method called distance_from_point(point), which calculates the distance (like the previous method), but the other point's location is given as another Point class object;\n",
    "\n",
    "Complete the template we've provided in the editor and run your code and check whether your output looks the same as ours.\n",
    "\n",
    "Expected output\n",
    "1.4142135623730951\n",
    "1.4142135623730951"
   ]
  },
  {
   "cell_type": "code",
   "execution_count": 1,
   "metadata": {},
   "outputs": [
    {
     "name": "stdout",
     "output_type": "stream",
     "text": [
      "1.4142135623730951\n",
      "1.4142135623730951\n"
     ]
    }
   ],
   "source": [
    "import math \n",
    "\n",
    "\n",
    "class Point:\n",
    "    def __init__(self, x=0.0, y=0.0):\n",
    "        self.__x = x\n",
    "        self.__y = y\n",
    "\n",
    "    def getx(self):\n",
    "        return self.__x\n",
    "\n",
    "    def gety(self):\n",
    "        return self.__y\n",
    "\n",
    "    def distance_from_xy(self, x, y):\n",
    "        return math.hypot(abs(self.__x - x), abs(self.__y - y))\n",
    "\n",
    "    def distance_from_point(self, point):\n",
    "        return self.distance_from_xy(point.getx(), point.gety())\n",
    "\n",
    "\n",
    "point1 = Point(0, 0)\n",
    "point2 = Point(1, 1)\n",
    "print(point1.distance_from_point(point2))\n",
    "print(point2.distance_from_xy(2, 0))\n"
   ]
  },
  {
   "cell_type": "markdown",
   "metadata": {},
   "source": [
    "3.4.1.15 - Lab: Triangle\n",
    "\n",
    "Scenario\n",
    "Now we're going to embed the Point class (see Lab 3.4.1.14) inside another class. Also, we're going to put three points into one class, which will let us define a triangle. How can we do it?\n",
    "\n",
    "The new class will be called Triangle and this is the list of our expectations:\n",
    "\n",
    "   - the constructor accepts three arguments - all of them are objects of the Point class;\n",
    "   - the points are stored inside the object as a private list;\n",
    "   - the class provides a parameterless method called perimeter(), which calculates the perimeter of the triangle described by the three points; the perimeter is a sum of all legs' lengths (we mention it for the record, although we are sure that you know it perfectly yourself.)\n",
    "\n",
    "Complete the template we've provided in the editor. Run your code and check whether the evaluated perimeter is the same as ours.\n",
    "\n",
    "Below you can copy the Point class code we used in the previous lab:"
   ]
  },
  {
   "cell_type": "code",
   "execution_count": 4,
   "metadata": {},
   "outputs": [
    {
     "name": "stdout",
     "output_type": "stream",
     "text": [
      "3.414213562373095\n"
     ]
    }
   ],
   "source": [
    "import math \n",
    "\n",
    "\n",
    "class Point:\n",
    "    def __init__(self, x=0.0, y=0.0):\n",
    "        self.__x = x\n",
    "        self.__y = y\n",
    "\n",
    "    def getx(self):\n",
    "        return self.__x\n",
    "\n",
    "    def gety(self):\n",
    "        return self.__y\n",
    "\n",
    "    def distance_from_xy(self, x, y):\n",
    "        return math.hypot(abs(self.__x - x), abs(self.__y - y))\n",
    "\n",
    "    def distance_from_point(self, point):\n",
    "        return self.distance_from_xy(point.getx(), point.gety())\n",
    "\n",
    "class Triangle:\n",
    "    def __init__(self, vertice1, vertice2, vertice3):\n",
    "        self.__vertices = [vertice1, vertice2, vertice3]\n",
    "\n",
    "    def perimeter(self):\n",
    "        per = 0 \n",
    "        for i in range(3):\n",
    "            per += self.__vertices[i].distance_from_point(self.__vertices[(i+1) % 3])\n",
    "        return per \n",
    "\n",
    "\n",
    "triangle = Triangle(Point(0, 0), Point(1, 0), Point(0, 1))\n",
    "print(triangle.perimeter())\n"
   ]
  }
 ],
 "metadata": {
  "interpreter": {
   "hash": "b78c21ee4300035dc702c1248f36619584a967018b0e3362776c2639c116c18c"
  },
  "kernelspec": {
   "display_name": "Python 3.10.4 64-bit",
   "language": "python",
   "name": "python3"
  },
  "language_info": {
   "codemirror_mode": {
    "name": "ipython",
    "version": 3
   },
   "file_extension": ".py",
   "mimetype": "text/x-python",
   "name": "python",
   "nbconvert_exporter": "python",
   "pygments_lexer": "ipython3",
   "version": "3.10.4"
  },
  "orig_nbformat": 4
 },
 "nbformat": 4,
 "nbformat_minor": 2
}
