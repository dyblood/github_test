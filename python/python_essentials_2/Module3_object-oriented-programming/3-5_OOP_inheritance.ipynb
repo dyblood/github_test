{
 "cells": [
  {
   "cell_type": "markdown",
   "metadata": {},
   "source": [
    "3.5.1.1\n",
    "\n",
    "\n",
    "Inheritance - why and how?\n",
    "\n",
    "Before we start talking about inheritance, we want to present a new, handy mechanism utilized by Python's classes and objects - it's the way in which the object is able to introduce itself.\n",
    "\n",
    "Let's start with an example. Look at the code in the editor.\n",
    "\n",
    "The program prints out just one line of text, which in our case is this:\n",
    "\n",
    "<__main__.Star object at 0x7f1074cc7c50>\n",
    "output\n",
    "\n",
    "If you run the same code on your computer, you'll see something very similar, although the hexadecimal number (the substring starting with 0x) will be different, as it's just an internal object identifier used by Python, and it's unlikely that it would appear the same when the same code is run in a different environment.\n",
    "\n",
    "As you can see, the printout here isn't really useful, and something more specific, or just prettier, may be more preferable.\n",
    "\n",
    "Fortunately, Python offers just such a function."
   ]
  },
  {
   "cell_type": "code",
   "execution_count": 1,
   "metadata": {},
   "outputs": [
    {
     "name": "stdout",
     "output_type": "stream",
     "text": [
      "<__main__.Star object at 0x000001A3AE1BD8D0>\n"
     ]
    }
   ],
   "source": [
    "class Star:\n",
    "    def __init__(self, name, galaxy):\n",
    "        self.name = name\n",
    "        self.galaxy = galaxy\n",
    "\n",
    "\n",
    "sun = Star(\"Sun\", \"Milky Way\")\n",
    "print(sun)\n"
   ]
  },
  {
   "cell_type": "markdown",
   "metadata": {},
   "source": [
    "3.5.1.2\n",
    "\n",
    "\n",
    "Inheritance - why and how?\n",
    "When Python needs any class/object to be presented as a string (putting an object as an argument in the print() function invocation fits this condition) it tries to invoke a method named __str__() from the object and to use the string it returns.\n",
    "\n",
    "The default __str__() method returns the previous string - ugly and not very informative. You can change it just by defining your own method of the name.\n",
    "\n",
    "We've just done it - look at the code in the editor.\n",
    "\n",
    "This new __str__() method makes a string consisting of the star's and galaxy's names - nothing special, but the print results look better now, doesn't it?\n",
    "\n",
    "Can you guess the output? Run the code to check if you were right.\n",
    "\n",
    "\n"
   ]
  },
  {
   "cell_type": "code",
   "execution_count": null,
   "metadata": {},
   "outputs": [],
   "source": [
    "class Star:\n",
    "    def __init__(self, name, galaxy):\n",
    "        self.name = name\n",
    "        self.galaxy = galaxy\n",
    "\n",
    "    def __str__(self):\n",
    "        return self.name + ' in ' + self.galaxy\n",
    "\n",
    "\n",
    "sun = Star(\"Sun\", \"Milky Way\")\n",
    "print(sun)\n"
   ]
  },
  {
   "cell_type": "markdown",
   "metadata": {},
   "source": [
    "3.5.1.3\n",
    "\n",
    "Inheritance - why and how?\n",
    "\n",
    "The term inheritance is older than computer programming, and it describes the common practice of passing different goods from one person to another upon that person's death. The term, when related to computer programming, has an entirely different meaning.\n",
    "\n",
    "\n",
    "The concept of inheritance\n",
    "\n",
    "\n",
    "Let's define the term for our purposes:\n",
    "\n",
    "Inheritance is a common practice (in object programming) of passing attributes and methods from the superclass (defined and existing) to a newly created class, called the subclass.\n",
    "\n",
    "In other words, inheritance is a way of building a new class, not from scratch, but by using an already defined repertoire of traits. The new class inherits (and this is the key) all the already existing equipment, but is able to add some new ones if needed.\n",
    "\n",
    "Thanks to that, it's possible to build more specialized (more concrete) classes using some sets of predefined general rules and behaviors.\n",
    "\n",
    "\n",
    "\n",
    "\n",
    "The most important factor of the process is the relation between the superclass and all of its subclasses (note: if B is a subclass of A and C is a subclass of B, this also means than C is a subclass of A, as the relationship is fully transitive).\n",
    "\n",
    "A very simple example of two-level inheritance is presented here:\n",
    "\n",
    "class Vehicle:\n",
    "    pass\n",
    "\n",
    "\n",
    "class LandVehicle(Vehicle):\n",
    "    pass\n",
    "\n",
    "\n",
    "class TrackedVehicle(LandVehicle):\n",
    "    pass\n",
    "\n",
    "\n",
    "All the presented classes are empty for now, as we're going to show you how the mutual relations between the super- and subclasses work. We'll fill them with contents soon.\n",
    "\n",
    "We can say that:\n",
    "\n",
    "   - The Vehicle class is the superclass for both the LandVehicle and TrackedVehicle classes;\n",
    "   - The LandVehicle class is a subclass of Vehicle and a superclass of TrackedVehicle at the same time;\n",
    "   - The TrackedVehicle class is a subclass of both the Vehicle and LandVehicle classes.\n",
    "The above knowledge comes from reading the code (in other words, we know it because we can see it).\n",
    "\n",
    "Does Python know the same? Is it possible to ask Python about it? Yes, it is.\n",
    "\n"
   ]
  },
  {
   "cell_type": "markdown",
   "metadata": {},
   "source": [
    "3.5.1.4\n",
    "\n",
    "Inheritance: issubclass()\n",
    "Python offers a function which is able to identify a relationship between two classes, and although its diagnosis isn't complex, it can check if a particular class is a subclass of any other class.\n",
    "\n",
    "This is how it looks:\n",
    "\n",
    "issubclass(ClassOne, ClassTwo)\n",
    "\n",
    "\n",
    "The function returns True if ClassOne is a subclass of ClassTwo, and False otherwise.\n",
    "\n",
    "Let's see it in action - it may surprise you. Look at the code in the editor. Read it carefully.\n",
    "\n",
    "There are two nested loops. Their purpose is to check all possible ordered pairs of classes, and to print the results of the check to determine whether the pair matches the subclass-superclass relationship.\n",
    "\n",
    "Run the code. The program produces the following output:\n",
    "\n",
    "Let's make the result more readable:\n",
    "\n",
    "↓ is a subclass of →\tVehicle\t   LandVehicle\t    TrackedVehicle\n",
    "Vehicle\t                  True\t    False\t            False\n",
    "LandVehicle\t              True\t    True                False\n",
    "TrackedVehicle\t          True\t    True\t            True\n",
    "\n",
    "\n",
    "output\n",
    "\n",
    "Let's make the result more readable:\n",
    "\n",
    "↓ is a subclass of →\tVehicle\tLandVehicle\tTrackedVehicle\n",
    "Vehicle\tTrue\tFalse\tFalse\n",
    "LandVehicle\tTrue\tTrue\tFalse\n",
    "TrackedVehicle\tTrue\tTrue\tTrue\n",
    "There is one important observation to make: each class is considered to be a subclass of itself.\n",
    "\n"
   ]
  },
  {
   "cell_type": "code",
   "execution_count": 1,
   "metadata": {},
   "outputs": [
    {
     "name": "stdout",
     "output_type": "stream",
     "text": [
      "True\tFalse\tFalse\t\n",
      "True\tTrue\tFalse\t\n",
      "True\tTrue\tTrue\t\n"
     ]
    }
   ],
   "source": [
    "class Vehicle:\n",
    "    pass\n",
    "\n",
    "\n",
    "class LandVehicle(Vehicle):\n",
    "    pass\n",
    "\n",
    "\n",
    "class TrackedVehicle(LandVehicle):\n",
    "    pass\n",
    "\n",
    "\n",
    "for cls1 in [Vehicle, LandVehicle, TrackedVehicle]:\n",
    "    for cls2 in [Vehicle, LandVehicle, TrackedVehicle]:\n",
    "        print(issubclass(cls1, cls2), end=\"\\t\") #using issubclass() function\n",
    "    print()\n"
   ]
  },
  {
   "cell_type": "markdown",
   "metadata": {},
   "source": [
    "3.5.1.5\n",
    "\n",
    "Inheritance: isinstance()\n",
    "\n",
    "As you already know, an object is an incarnation of a class. This means that the object is like a cake baked using a recipe which is included inside the class.\n",
    "\n",
    "This can generate some important issues.\n",
    "\n",
    "Let's assume that you've got a cake (e.g., as an argument passed to your function). You want to know what recipe has been used to make it. Why? Because you want to know what to expect from it, e.g., whether it contains nuts or not, which is crucial information to some people.\n",
    "\n",
    "Similarly, it can be crucial if the object does have (or doesn't have) certain characteristics. In other words, whether it is an object of a certain class or not.\n",
    "\n",
    "Such a fact could be detected by the function named isinstance():\n",
    "\n",
    "isinstance(objectName, ClassName)\n",
    "\n",
    "\n",
    "The functions returns True if the object is an instance of the class, or False otherwise.\n",
    "\n",
    "Being an instance of a class means that the object (the cake) has been prepared using a recipe contained in either the class or one of its superclasses.\n",
    "\n",
    "Don't forget: if a subclass contains at least the same equipment as any of its superclasses, it means that objects of the subclass can do the same as objects derived from the superclass, ergo, it's an instance of its home class and any of its superclasses.\n",
    "\n",
    "Let's test it. Analyze the code in the editor.\n",
    "\n",
    "We've created three objects, one for each of the classes. Next, using two nested loops, we check all possible object-class pairs to find out if the objects are instances of the classes.\n",
    "\n",
    "Run the code.\n",
    "\n",
    "This is what we get:\n",
    "\n",
    "True\tFalse\tFalse\t\n",
    "True\tTrue\tFalse\t\n",
    "True\tTrue\tTrue\t\n",
    "output\n",
    "\n",
    "Let's make the result more readable once again:\n",
    "\n",
    "↓ is an instance of →\tVehicle\tLandVehicle\tTrackedVehicle\n",
    "my_vehicle\tTrue\tFalse\tFalse\n",
    "my_land_vehicle\tTrue\tTrue\tFalse\n",
    "my_tracked_vehicle\tTrue\tTrue\tTrue\n",
    "Does the table confirm our expectations?"
   ]
  },
  {
   "cell_type": "code",
   "execution_count": 2,
   "metadata": {},
   "outputs": [
    {
     "name": "stdout",
     "output_type": "stream",
     "text": [
      "True\tFalse\tFalse\t\n",
      "True\tTrue\tFalse\t\n",
      "True\tTrue\tTrue\t\n"
     ]
    }
   ],
   "source": [
    "class Vehicle:\n",
    "    pass\n",
    "\n",
    "\n",
    "class LandVehicle(Vehicle):\n",
    "    pass\n",
    "\n",
    "\n",
    "class TrackedVehicle(LandVehicle):\n",
    "    pass\n",
    "\n",
    "\n",
    "my_vehicle = Vehicle()\n",
    "my_land_vehicle = LandVehicle()\n",
    "my_tracked_vehicle = TrackedVehicle()\n",
    "\n",
    "for obj in [my_vehicle, my_land_vehicle, my_tracked_vehicle]:\n",
    "    for cls in [Vehicle, LandVehicle, TrackedVehicle]:\n",
    "        print(isinstance(obj, cls), end=\"\\t\")\n",
    "    print()\n"
   ]
  },
  {
   "cell_type": "markdown",
   "metadata": {},
   "source": [
    "3.5.1.6\n",
    "\n",
    "Inheritance: the is operator\n",
    "\n",
    "There is also a Python operator worth mentioning, as it refers directly to objects - here it is:\n",
    "\n",
    "object_one is object_two\n",
    "\n",
    "\n",
    "The is operator checks whether two variables (object_one and object_two here) refer to the same object.\n",
    "\n",
    "Don't forget that variables don't store the objects themselves, but only the handles pointing to the internal Python memory.\n",
    "\n",
    "Assigning a value of an object variable to another variable doesn't copy the object, but only its handle. This is why an operator like is may be very useful in particular circumstances.\n",
    "\n",
    "Take a look at the code in the editor. Let's analyze it:\n",
    "\n",
    "   - there is a very simple class equipped with a simple constructor, creating just one property. The class is used to instantiate two objects. The former is then assigned to another variable, and its val property is incremented by one.\n",
    "   - afterward, the is operator is applied three times to check all possible pairs of objects, and all val property values are also printed.\n",
    "   - the last part of the code carries out another experiment. After three assignments, both strings contain the same texts, but these texts are stored in different objects.\n",
    "The code prints:\n",
    "\n",
    "False\n",
    "False\n",
    "True\n",
    "1 2 1\n",
    "True False\n",
    "output\n",
    "\n",
    "The results prove that object_1 and object_3 are actually the same objects, while string_1 and string_2 aren't, despite their contents being the same.\n",
    "\n"
   ]
  },
  {
   "cell_type": "code",
   "execution_count": 3,
   "metadata": {},
   "outputs": [
    {
     "name": "stdout",
     "output_type": "stream",
     "text": [
      "False\n",
      "False\n",
      "True\n",
      "1 2 1\n",
      "True False\n"
     ]
    }
   ],
   "source": [
    "class SampleClass:\n",
    "    def __init__(self, val):\n",
    "        self.val = val\n",
    "\n",
    "\n",
    "object_1 = SampleClass(0)\n",
    "object_2 = SampleClass(2)\n",
    "object_3 = object_1 #doesn't copy object 1 => copies the handle pointing to the internal python memory\n",
    "object_3.val += 1\n",
    "\n",
    "print(object_1 is object_2) #is operator => checks whether two variables refer to the same object\n",
    "print(object_2 is object_3)\n",
    "print(object_3 is object_1)\n",
    "print(object_1.val, object_2.val, object_3.val)\n",
    "\n",
    "string_1 = \"Mary had a little \"\n",
    "string_2 = \"Mary had a little lamb\"\n",
    "string_1 += \"lamb\"\n",
    "\n",
    "print(string_1 == string_2, string_1 is string_2)\n"
   ]
  },
  {
   "cell_type": "markdown",
   "metadata": {},
   "source": [
    "3.5.1.7\n",
    "\n",
    "\n",
    "How Python finds properties and methods\n",
    "\n",
    "Now we're going to look at how Python deals with inheriting methods.\n",
    "\n",
    "Take a look at the example in the editor. Let's analyze it:\n",
    "\n",
    "   - there is a class named Super, which defines its own constructor used to assign the object's property, named name.\n",
    "   - the class defines the __str__() method, too, which makes the class able to present its identity in clear text form.\n",
    "   - the class is next used as a base to create a subclass named Sub. The Sub class defines its own constructor, which invokes the one from the superclass. Note how we've done it: Super.__init__(self, name).\n",
    "   - we've explicitly named the superclass, and pointed to the method to invoke __init__(), providing all needed arguments.\n",
    "   - we've instantiated one object of class Sub and printed it.\n",
    "The code outputs:\n",
    "\n",
    "My name is Andy.\n",
    "output\n",
    "\n",
    "Note: As there is no __str__() method within the Sub class, the printed string is to be produced within the Super class. This means that the __str__() method has been inherited by the Sub class.\n",
    "\n"
   ]
  },
  {
   "cell_type": "code",
   "execution_count": 4,
   "metadata": {},
   "outputs": [
    {
     "name": "stdout",
     "output_type": "stream",
     "text": [
      "My name is Andy.\n"
     ]
    }
   ],
   "source": [
    "class Super:\n",
    "    def __init__(self, name):\n",
    "        self.name = name\n",
    "\n",
    "    def __str__(self):\n",
    "        return \"My name is \" + self.name + \".\"\n",
    "\n",
    "\n",
    "class Sub(Super):\n",
    "    def __init__(self, name):\n",
    "        Super.__init__(self, name)\n",
    "\n",
    "\n",
    "obj = Sub(\"Andy\")\n",
    "\n",
    "print(obj)\n"
   ]
  },
  {
   "cell_type": "markdown",
   "metadata": {},
   "source": [
    "3.5.1.8\n",
    "\n",
    "How Python finds properties and methods: continued\n",
    "Look at the code in the editor. We've modified it to show you another method of accessing any entity defined inside the superclass.\n",
    "\n",
    "In the last example, we explicitly named the superclass. In this example, we make use of the super() function, which accesses the superclass without needing to know its name:\n",
    "\n",
    "super().__init__(name)\n",
    "\n",
    "\n",
    "The super() function creates a context in which you don't have to (moreover, you mustn't) pass the self argument to the method being invoked - this is why it's possible to activate the superclass constructor using only one argument.\n",
    "\n",
    "Note: you can use this mechanism not only to invoke the superclass constructor, but also to get access to any of the resources available inside the superclass.\n",
    "\n"
   ]
  },
  {
   "cell_type": "code",
   "execution_count": 5,
   "metadata": {},
   "outputs": [
    {
     "name": "stdout",
     "output_type": "stream",
     "text": [
      "My name is Andy.\n"
     ]
    }
   ],
   "source": [
    "class Super:\n",
    "    def __init__(self, name):\n",
    "        self.name = name\n",
    "\n",
    "    def __str__(self):\n",
    "        return \"My name is \" + self.name + \".\"\n",
    "\n",
    "\n",
    "class Sub(Super):\n",
    "    def __init__(self, name):\n",
    "        super().__init__(name) #super() function => accesses the superclass without needing to know its name\n",
    "                               # NOTE: you must not use the self argument with the super() function\n",
    "                               # invokes the superclass constructor, but also get access to any of the \n",
    "                               # resources available inside the superclass\n",
    "\n",
    "obj = Sub(\"Andy\")\n",
    "\n",
    "print(obj)\n"
   ]
  },
  {
   "cell_type": "markdown",
   "metadata": {},
   "source": [
    "\n",
    "How Python finds properties and methods: continued\n",
    "Let's try to do something similar, but with properties (more precisely: with class variables).\n",
    "\n",
    "Take a look at the example in the editor.\n",
    "\n",
    "As you can see, the Super class defines one class variable named supVar, and the Sub class defines a variable named subVar.\n",
    "\n",
    "Both these variables are visible inside the object of class Sub - this is why the code outputs:\n",
    "\n",
    "2\n",
    "1\n",
    "output\n",
    "\n"
   ]
  },
  {
   "cell_type": "code",
   "execution_count": 6,
   "metadata": {},
   "outputs": [
    {
     "name": "stdout",
     "output_type": "stream",
     "text": [
      "2\n",
      "1\n"
     ]
    }
   ],
   "source": [
    "# Testing properties: class variables.\n",
    "class Super:\n",
    "    supVar = 1\n",
    "\n",
    "\n",
    "class Sub(Super):\n",
    "    subVar = 2\n",
    "\n",
    "\n",
    "obj = Sub()\n",
    "\n",
    "print(obj.subVar)\n",
    "print(obj.supVar)\n"
   ]
  },
  {
   "cell_type": "markdown",
   "metadata": {},
   "source": [
    "\n",
    "3.5.1.10\n",
    "\n",
    "How Python finds properties and methods: continued\n",
    "\n",
    "The same effect can be observed with instance variables - take a look at the second example in the editor.\n",
    "\n",
    "The Sub class constructor creates an instance variable named subVar, while the Super constructor does the same with a variable named supVar. As previously, both variables are accessible from within the object of class Sub.\n",
    "\n",
    "The program's output is:\n",
    "\n",
    "12\n",
    "11\n",
    "output\n",
    "\n",
    "Note: the existence of the supVar variable is obviously conditioned by the Super class constructor invocation. Omitting it would result in the absence of the variable in the created object (try it yourself).\n",
    "\n"
   ]
  },
  {
   "cell_type": "code",
   "execution_count": 7,
   "metadata": {},
   "outputs": [
    {
     "name": "stdout",
     "output_type": "stream",
     "text": [
      "12\n",
      "11\n"
     ]
    }
   ],
   "source": [
    "# Testing properties: instance variables.\n",
    "class Super:\n",
    "    def __init__(self):\n",
    "        self.supVar = 11\n",
    "\n",
    "\n",
    "class Sub(Super):\n",
    "    def __init__(self):\n",
    "        super().__init__()\n",
    "        self.subVar = 12\n",
    "\n",
    "\n",
    "obj = Sub()\n",
    "\n",
    "print(obj.subVar)\n",
    "print(obj.supVar)\n"
   ]
  },
  {
   "cell_type": "markdown",
   "metadata": {},
   "source": [
    "3.5.1.11\n",
    "\n",
    "How Python finds properties and methods: continued\n",
    "\n",
    "It's now possible to formulate a general statement describing Python's behavior.\n",
    "\n",
    "When you try to access any object's entity, Python will try to (in this order):\n",
    "\n",
    "   - find it inside the object itself;\n",
    "   - find it in all classes involved in the object's inheritance line from bottom to top;\n",
    "\n",
    "If both of the above fail, an exception (AttributeError) is raised.\n",
    "\n",
    "\n",
    "The first condition may need some additional attention. As you know, all objects deriving from a particular class may have different sets of attributes, and some of the attributes may be added to the object a long time after the object's creation.\n",
    "\n",
    "The example in the editor summarizes this in a three-level inheritance line. Analyze it carefully.\n",
    "\n",
    "All the comments we've made so far are related to single inheritance, when a subclass has exactly one superclass. This is the most common situation (and the recommended one, too).\n",
    "\n",
    "Python, however, offers much more here. In the next lessons we're going to show you some examples of multiple inheritance.\n",
    "\n"
   ]
  },
  {
   "cell_type": "code",
   "execution_count": 8,
   "metadata": {},
   "outputs": [
    {
     "name": "stdout",
     "output_type": "stream",
     "text": [
      "100 101 102\n",
      "200 201 202\n",
      "300 301 302\n"
     ]
    }
   ],
   "source": [
    "class Level1:\n",
    "    variable_1 = 100\n",
    "    def __init__(self):\n",
    "        self.var_1 = 101\n",
    "\n",
    "    def fun_1(self):\n",
    "        return 102\n",
    "\n",
    "\n",
    "class Level2(Level1):\n",
    "    variable_2 = 200\n",
    "    def __init__(self):\n",
    "        super().__init__()\n",
    "        self.var_2 = 201\n",
    "    \n",
    "    def fun_2(self):\n",
    "        return 202\n",
    "\n",
    "\n",
    "class Level3(Level2):\n",
    "    variable_3 = 300\n",
    "    def __init__(self):\n",
    "        super().__init__()\n",
    "        self.var_3 = 301\n",
    "\n",
    "    def fun_3(self):\n",
    "        return 302\n",
    "\n",
    "\n",
    "obj = Level3()\n",
    "\n",
    "print(obj.variable_1, obj.var_1, obj.fun_1())\n",
    "print(obj.variable_2, obj.var_2, obj.fun_2())\n",
    "print(obj.variable_3, obj.var_3, obj.fun_3())\n"
   ]
  },
  {
   "cell_type": "markdown",
   "metadata": {},
   "source": [
    "3.5.1.12\n",
    "\n",
    "How Python finds properties and methods: continued\n",
    "\n",
    "Multiple inheritance occurs when a class has more than one superclass. Syntactically, such inheritance is presented as a comma-separated list of superclasses put inside parentheses after the new class name - just like here:\n",
    "\n",
    "class SuperA:\n",
    "    var_a = 10\n",
    "    def fun_a(self):\n",
    "        return 11\n",
    "\n",
    "\n",
    "class SuperB:\n",
    "    var_b = 20\n",
    "    def fun_b(self):\n",
    "        return 21\n",
    "\n",
    "\n",
    "class Sub(SuperA, SuperB):\n",
    "    pass\n",
    "\n",
    "obj = Sub()\n",
    "\n",
    "print(obj.var_a, obj.fun_a())\n",
    "print(obj.var_b, obj.fun_b())\n",
    "\n",
    "\n",
    "The Sub class has two superclasses: SuperA and SuperB. This means that the Sub class inherits all the goods offered by both SuperA and SuperB.\n",
    "\n",
    "The code prints:\n",
    "\n",
    "10 11\n",
    "20 21\n",
    "output\n",
    "\n",
    "Now it's time to introduce a brand new term - overriding.\n",
    "\n",
    "What do you think will happen if more than one of the superclasses defines an entity of a particular name?\n",
    "\n"
   ]
  },
  {
   "cell_type": "code",
   "execution_count": null,
   "metadata": {},
   "outputs": [],
   "source": [
    "class SuperA:\n",
    "    var_a = 10\n",
    "    def fun_a(self):\n",
    "        return 11\n",
    "\n",
    "\n",
    "class SuperB:\n",
    "    var_b = 20\n",
    "    def fun_b(self):\n",
    "        return 21\n",
    "\n",
    "\n",
    "class Sub(SuperA, SuperB):\n",
    "    pass\n",
    "\n",
    "\n",
    "obj = Sub()\n",
    "\n",
    "print(obj.var_a, obj.fun_a())\n",
    "print(obj.var_b, obj.fun_b())\n"
   ]
  },
  {
   "cell_type": "markdown",
   "metadata": {},
   "source": [
    "3.5.1.13\n",
    "\n",
    "\n",
    "How Python finds properties and methods: continued\n",
    "\n",
    "Let's analyze the example in the editor.\n",
    "\n",
    "Both, Level1 and Level2 classes define a method named fun() and a property named var. Does this mean that the Level3 class object will be able to access two copies of each entity? Not at all.\n",
    "\n",
    "The entity defined later (in the inheritance sense) overrides the same entity defined earlier. This is why the code produces the following output:\n",
    "\n",
    "200 201\n",
    "output\n",
    "\n",
    "As you can see, the var class variable and fun() method from the Level2 class override the entities of the same names derived from the Level1 class.\n",
    "\n",
    "This feature can be intentionally used to modify default (or previously defined) class behaviors when any of its classes needs to act in a different way to its ancestor.\n",
    "\n",
    "We can also say that Python looks for an entity from bottom to top, and is fully satisfied with the first entity of the desired name.\n",
    "\n",
    "How does it work when a class has two ancestors offering the same entity, and they lie on the same level? In other words, what should you expect when a class emerges using multiple inheritance? Let's look at this.\n",
    "\n"
   ]
  },
  {
   "cell_type": "code",
   "execution_count": 12,
   "metadata": {},
   "outputs": [
    {
     "name": "stdout",
     "output_type": "stream",
     "text": [
      "200 201 100\n"
     ]
    }
   ],
   "source": [
    "class Level1:\n",
    "    var1 = 100\n",
    "    def fun(self):\n",
    "        return 101\n",
    "\n",
    "\n",
    "class Level2(Level1):\n",
    "    var = 200\n",
    "    def fun(self):\n",
    "        return 201\n",
    "\n",
    "\n",
    "class Level3(Level2):\n",
    "    pass\n",
    "\n",
    "\n",
    "obj = Level3()\n",
    "\n",
    "print(obj.var, obj.fun(), obj.var1)\n",
    "\n",
    "# Scans superclasses from bottom up\n"
   ]
  },
  {
   "cell_type": "markdown",
   "metadata": {},
   "source": [
    "3.5.1.14\n",
    "\n",
    "How Python finds properties and methods: continued\n",
    "\n",
    "Let's take a look at the example in the editor.\n",
    "\n",
    "The Sub class inherits goods from two superclasses, Left and Right (these names are intended to be meaningful).\n",
    "\n",
    "There is no doubt that the class variable var_right comes from the Right class, and var_left comes from Left respectively.\n",
    "\n",
    "This is clear. But where does var come from? Is it possible to guess it? The same problem is encountered with the fun() method - will it be invoked from Left or from Right? Let's run the program - its output is:\n",
    "\n",
    "L LL RR Left\n",
    "output\n",
    "\n",
    "This proves that both unclear cases have a solution inside the Left class. Is this a sufficient premise to formulate a general rule? Yes, it is.\n",
    "\n",
    "We can say that Python looks for object components in the following order:\n",
    "\n",
    "   - inside the object itself;\n",
    "   - in its superclasses, from bottom to top;\n",
    "   - if there is more than one class on a particular inheritance path, Python scans them from left to right.\n",
    "\n",
    "Do you need anything more? Just make a small amendment in the code - replace: class Sub(Left, Right): with: class Sub(Right, Left):, then run the program again, and see what happens.\n",
    "\n",
    "What do you see now? We see:\n",
    "\n",
    "R LL RR Right\n",
    "output\n",
    "\n",
    "Do you see the same, or something different?\n",
    "\n",
    "\n",
    "\n"
   ]
  },
  {
   "cell_type": "code",
   "execution_count": 9,
   "metadata": {},
   "outputs": [
    {
     "name": "stdout",
     "output_type": "stream",
     "text": [
      "L LL RR Left\n"
     ]
    }
   ],
   "source": [
    "class Left:\n",
    "    var = \"L\"\n",
    "    var_left = \"LL\"\n",
    "    def fun(self):\n",
    "        return \"Left\"\n",
    "\n",
    "\n",
    "class Right:\n",
    "    var = \"R\"\n",
    "    var_right = \"RR\"\n",
    "    def fun(self):\n",
    "        return \"Right\"\n",
    "\n",
    "\n",
    "class Sub(Left, Right): #scans superclasses from Left to right\n",
    "    pass\n",
    "\n",
    "\n",
    "obj = Sub()\n",
    "\n",
    "print(obj.var, obj.var_left, obj.var_right, obj.fun())\n"
   ]
  },
  {
   "cell_type": "code",
   "execution_count": 10,
   "metadata": {},
   "outputs": [
    {
     "name": "stdout",
     "output_type": "stream",
     "text": [
      "R LL RR Right\n"
     ]
    }
   ],
   "source": [
    "class Left:\n",
    "    var = \"L\"\n",
    "    var_left = \"LL\"\n",
    "    def fun(self):\n",
    "        return \"Left\"\n",
    "\n",
    "\n",
    "class Right:\n",
    "    var = \"R\"\n",
    "    var_right = \"RR\"\n",
    "    def fun(self):\n",
    "        return \"Right\"\n",
    "\n",
    "\n",
    "class Sub(Right, Left): # scans superclasses from Left to right\n",
    "    pass\n",
    "\n",
    "\n",
    "obj = Sub()\n",
    "\n",
    "print(obj.var, obj.var_left, obj.var_right, obj.fun())"
   ]
  },
  {
   "cell_type": "markdown",
   "metadata": {},
   "source": [
    "3.5.1.15\n",
    "\n",
    "How to build a hierarchy of classes\n",
    "\n",
    "Building a hierarchy of classes isn't just art for art's sake.\n",
    "\n",
    "If you divide a problem among classes and decide which of them should be located at the top and which should be placed at the bottom of the hierarchy, you have to carefully analyze the issue, but before we show you how to do it (and how not to do it), we want to highlight an interesting effect. It's nothing extraordinary (it's just a consequence of the general rules presented earlier), but remembering it may be key to understanding how some codes work, and how the effect may be used to build a flexible set of classes.\n",
    "\n",
    "Take a look at the code in the editor. Let's analyze it:\n",
    "\n",
    "   - there are two classes, named One and Two, while Two is derived from One. Nothing special. However, one thing looks remarkable - the do_it() method.\n",
    "   - the do_it()method is defined twice: originally inside One and subsequently inside Two. The essence of the example lies in the fact that it is invoked just once - inside One.\n",
    "\n",
    "The question is - which of the two methods will be invoked by the last two lines of the code?\n",
    "\n",
    "\n",
    "The first invocation seems to be simple, and it is simple, actually - invoking doanything() from the object named one will obviously activate the first of the methods.\n",
    "\n",
    "The second invocation needs some attention. It's simple, too if you keep in mind how Python finds class components. The second invocation will launch do_it() in the form existing inside the Two class, regardless of the fact that the invocation takes place within the One class.\n",
    "\n",
    "In effect, the code produces the following output:\n",
    "\n",
    "do_it from One\n",
    "do_it from Two\n",
    "output\n",
    "\n",
    "Note: the situation in which the subclass is able to modify its superclass behavior (just like in the example) is called polymorphism. The word comes from Greek (polys: \"many, much\" and morphe, \"form, shape\"), which means that one and the same class can take various forms depending on the redefinitions done by any of its subclasses.\n",
    "\n",
    "The method, redefined in any of the superclasses, thus changing the behavior of the superclass, is called virtual.\n",
    "\n",
    "In other words, no class is given once and for all. Each class's behavior may be modified at any time by any of its subclasses.\n",
    "\n",
    "We're going to show you how to use polymorphism to extend class flexibility."
   ]
  },
  {
   "cell_type": "code",
   "execution_count": 13,
   "metadata": {},
   "outputs": [
    {
     "name": "stdout",
     "output_type": "stream",
     "text": [
      "do_it from One\n",
      "do_it from Two\n"
     ]
    }
   ],
   "source": [
    "class One:\n",
    "    def do_it(self):\n",
    "        print(\"do_it from One\")\n",
    "\n",
    "    def doanything(self):\n",
    "        self.do_it()\n",
    "\n",
    "\n",
    "class Two(One):\n",
    "    def do_it(self): \n",
    "        print(\"do_it from Two\")\n",
    "\n",
    "\n",
    "one = One()\n",
    "two = Two()\n",
    "\n",
    "one.doanything()\n",
    "two.doanything() # Example of Polymorphism => subclass modifies its superclass behavior\n",
    "                 #doanything() method is invoked from class One =>\n",
    "                 #searches bottom to top again for do_it() method => \n",
    "                 #do_it() method from class Two is found first\n"
   ]
  },
  {
   "cell_type": "markdown",
   "metadata": {},
   "source": [
    "3.5.1.16\n",
    "\n",
    "How to build a hierarchy of classes: continued\n",
    "\n",
    "Look at the example in the editor.\n",
    "\n",
    "Does it resemble anything? Yes, of course it does. It refers to the example shown at the beginning of the module when we talked about the general concepts of objective programming.\n",
    "\n",
    "It may look weird, but we didn't use inheritance in any way - just to show you that it doesn't limit us, and we managed to get ours.\n",
    "\n",
    "We defined two separate classes able to produce two different kinds of land vehicles. The main difference between them is in how they turn. A wheeled vehicle just turns the front wheels (generally). A tracked vehicle has to stop one of the tracks.\n",
    "\n",
    "Can you follow the code?\n",
    "\n",
    "   - a tracked vehicle performs a turn by stopping and moving on one of its tracks (this is done by the control_track() method, which will be implemented later)\n",
    "   - a wheeled vehicle turns when its front wheels turn (this is done by the turn_front_wheels() method)\n",
    "    the turn() method uses the method suitable for each particular vehicle.\n",
    "\n",
    "Can you see what's wrong with the code?\n",
    "\n",
    "The turn() methods look too similar to leave them in this form.\n",
    "\n",
    "Let's rebuild the code - we're going to introduce a superclass to gather all the similar aspects of the driving vehicles, moving all the specifics to the subclasses."
   ]
  },
  {
   "cell_type": "code",
   "execution_count": null,
   "metadata": {},
   "outputs": [],
   "source": [
    "import time\n",
    "\n",
    "class TrackedVehicle:\n",
    "    def control_track(left, stop):\n",
    "        pass\n",
    "\n",
    "    def turn(left):\n",
    "        control_track(left, True)\n",
    "        time.sleep(0.25)\n",
    "        control_track(left, False)\n",
    "\n",
    "\n",
    "class WheeledVehicle:\n",
    "    def turn_front_wheels(left, on):\n",
    "        pass\n",
    "\n",
    "    def turn(left):\n",
    "        turn_front_wheels(left, True)\n",
    "        time.sleep(0.25)\n",
    "        turn_front_wheels(left, False)\n"
   ]
  },
  {
   "cell_type": "markdown",
   "metadata": {},
   "source": [
    "3.5.1.17\n",
    "\n",
    "How to build a hierarchy of classes: continued\n",
    "\n",
    "Look at the code in the editor again. This is what we've done:\n",
    "\n",
    "   - we defined a superclass named Vehicle, which uses the turn() method to implement a general scheme of turning, while the turning itself is done by a method named change_direction(); note: the former method is empty, as we are going to put all the details into the subclass (such a method is often called an abstract method, as it only demonstrates some possibility which will be instantiated later)\n",
    "   - we defined a subclass named TrackedVehicle (note: it's derived from the Vehicle class) which instantiated the change_direction() method by using the specific (concrete) method named control_track()\n",
    "   - respectively, the subclass named WheeledVehicle does the same trick, but uses the turn_front_wheels() method to force the vehicle to turn.\n",
    "   \n",
    "The most important advantage (omitting readability issues) is that this form of code enables you to implement a brand new turning algorithm just by modifying the turn() method, which can be done in just one place, as all the vehicles will obey it.\n",
    "\n",
    "This is how polymorphism helps the developer to keep the code clean and consistent.\n",
    "\n",
    "\n"
   ]
  },
  {
   "cell_type": "code",
   "execution_count": null,
   "metadata": {},
   "outputs": [],
   "source": [
    "import time\n",
    "\n",
    "class Vehicle:\n",
    "    def change_direction(left, on):\n",
    "        pass\n",
    "\n",
    "    def turn(left):\n",
    "        change_direction(left, True)\n",
    "        time.sleep(0.25)\n",
    "        change_direction(left, False)\n",
    "\n",
    "\n",
    "class TrackedVehicle(Vehicle):\n",
    "    def control_track(left, stop):\n",
    "        pass\n",
    "\n",
    "    def change_direction(left, on):\n",
    "        control_track(left, on)\n",
    "\n",
    "\n",
    "class WheeledVehicle(Vehicle):\n",
    "    def turn_front_wheels(left, on):\n",
    "        pass\n",
    "\n",
    "    def change_direction(left, on):\n",
    "        turn_front_wheels(left, on)\n"
   ]
  },
  {
   "cell_type": "markdown",
   "metadata": {},
   "source": [
    "3.5.1.18\n",
    "\n",
    "How to build a hierarchy of classes: continued\n",
    "\n",
    "Inheritance is not the only way of constructing adaptable classes. You can achieve the same goals (not always, but very often) by using a technique named composition.\n",
    "\n",
    "Composition is the process of composing an object using other different objects. The objects used in the composition deliver a set of desired traits (properties and/or methods) so we can say that they act like blocks used to build a more complicated structure.\n",
    "\n",
    "It can be said that:\n",
    "\n",
    "   - inheritance extends a class's capabilities by adding new components and modifying existing ones; in other words, the complete recipe is contained inside the class itself and all its ancestors; the object takes all the class's belongings and makes use of them;\n",
    "   - composition projects a class as a container able to store and use other objects (derived from other classes) where each of the objects implements a part of a desired class's behavior.\n",
    "\n",
    "Let us illustrate the difference by using the previously defined vehicles. The previous approach led us to a hierarchy of classes in which the top-most class was aware of the general rules used in turning the vehicle, but didn't know how to control the appropriate components (wheels or tracks).\n",
    "\n",
    "The subclasses implemented this ability by introducing specialized mechanisms. Let's do (almost) the same thing, but using composition. The class - like in the previous example - is aware of how to turn the vehicle, but the actual turn is done by a specialized object stored in a property named controller. The controller is able to control the vehicle by manipulating the relevant vehicle's parts.\n",
    "\n",
    "Take a look into the editor - this is how it could look.\n",
    "\n",
    "There are two classes named Tracks and Wheels - they know how to control the vehicle's direction. There is also a class named Vehicle which can use any of the available controllers (the two already defined, or any other defined in the future) - the controller itself is passed to the class during initialization.\n",
    "\n",
    "In this way, the vehicle's ability to turn is composed using an external object, not implemented inside the Vehicle class.\n",
    "\n",
    "In other words, we have a universal vehicle and can install either tracks or wheels onto it.\n",
    "\n",
    "The code produces the following output:\n",
    "\n",
    "wheels:  True True\n",
    "wheels:  True False\n",
    "tracks:  False True\n",
    "tracks:  False False\n"
   ]
  },
  {
   "cell_type": "code",
   "execution_count": null,
   "metadata": {},
   "outputs": [],
   "source": [
    "import time\n",
    "\n",
    "class Tracks:\n",
    "    def change_direction(self, left, on):\n",
    "        print(\"tracks: \", left, on)\n",
    " \n",
    "\n",
    "class Wheels:\n",
    "    def change_direction(self, left, on):\n",
    "        print(\"wheels: \", left, on)\n",
    "\n",
    "\n",
    "class Vehicle:\n",
    "    def __init__(self, controller):\n",
    "        self.controller = controller\n",
    "\n",
    "    def turn(self, left):\n",
    "        self.controller.change_direction(left, True)\n",
    "        time.sleep(0.25)\n",
    "        self.controller.change_direction(left, False)\n",
    "\n",
    "\n",
    "wheeled = Vehicle(Wheels())\n",
    "tracked = Vehicle(Tracks())\n",
    "\n",
    "wheeled.turn(True)\n",
    "tracked.turn(False)\n"
   ]
  },
  {
   "cell_type": "markdown",
   "metadata": {},
   "source": [
    "3.5.1.19\n",
    "\n",
    "Single inheritance vs. multiple inheritance\n",
    "\n",
    "As you already know, there are no obstacles to using multiple inheritance in Python. You can derive any new class from more than one previously defined classes.\n",
    "\n",
    "There is only one \"but\". The fact that you can do it does not mean you have to.\n",
    "\n",
    "Don't forget that:\n",
    "\n",
    "   - a single inheritance class is always simpler, safer, and easier to understand and maintain;\n",
    "\n",
    "   - multiple inheritance is always risky, as you have many more opportunities to make a mistake in identifying these parts of the superclasses which will effectively influence the new class;\n",
    "\n",
    "   - multiple inheritance may make overriding extremely tricky; moreover, using the super() function becomes ambiguous;\n",
    "\n",
    "\n",
    "\n",
    "\n",
    "multiple inheritance violates the single responsibility principle (more details here: https://en.wikipedia.org/wiki/Single_responsibility_principle) as it makes a new class of two (or more) classes that know nothing about each other;\n",
    "\n",
    "we strongly suggest multiple inheritance as the last of all possible solutions - if you really need the many different functionalities offered by different classes, composition may be a better alternative.\n",
    "\n"
   ]
  },
  {
   "cell_type": "markdown",
   "metadata": {},
   "source": [
    "3.5.1.20 - Method Resolution Order\n",
    "\n",
    "What is Method Resolution Order (MRO) and why is it that not all inheritances make sense?\n",
    "\n",
    "MRO, in general, is a way (you can call it a strategy) in which a particular programming language scans through the upper part of a class’s hierarchy in order to find the method it currently needs. It's worth emphasizing that different languages use slightly (or even completely) different MROs. Python is a unique creature in this respect, however, and its customs are a bit specific.\n",
    "\n",
    "We're going to show you how Python's MRO works in two peculiar cases that are clear-cut examples of problems which may occur when you try to use multiple inheritance too recklessly. Let's start with a snippet that initially may look simple. Look at what we've prepared for you in the editor.\n",
    "\n",
    "We're sure that if you analyze the snippet yourself, you won't see any anomalies in it. Yes, you're perfectly right - it looks clear and simple, and raises no concerns. If you run the code, it will produce the following, predictable output:\n",
    "\n",
    "bottom\n",
    "middle\n",
    "top\n",
    "output\n",
    "\n",
    "\n",
    "No surprises so far. Let's make a tiny change to this code. Have a look:"
   ]
  },
  {
   "cell_type": "code",
   "execution_count": 1,
   "metadata": {},
   "outputs": [
    {
     "name": "stdout",
     "output_type": "stream",
     "text": [
      "bottom\n",
      "middle\n",
      "top\n"
     ]
    }
   ],
   "source": [
    "class Top:\n",
    "    def m_top(self):\n",
    "        print(\"top\")\n",
    "\n",
    "\n",
    "class Middle(Top):\n",
    "    def m_middle(self):\n",
    "        print(\"middle\")\n",
    "\n",
    "\n",
    "class Bottom(Middle):\n",
    "    def m_bottom(self):\n",
    "        print(\"bottom\")\n",
    "\n",
    "\n",
    "object = Bottom()\n",
    "object.m_bottom()\n",
    "object.m_middle()\n",
    "object.m_top()\n"
   ]
  },
  {
   "cell_type": "code",
   "execution_count": 2,
   "metadata": {},
   "outputs": [
    {
     "name": "stdout",
     "output_type": "stream",
     "text": [
      "bottom\n",
      "middle\n",
      "top\n"
     ]
    }
   ],
   "source": [
    "class Top:\n",
    "    def m_top(self):\n",
    "        print(\"top\")\n",
    "\n",
    "\n",
    "class Middle(Top):\n",
    "    def m_middle(self):\n",
    "        print(\"middle\")\n",
    "\n",
    "\n",
    "class Bottom(Middle, Top):\n",
    "    def m_bottom(self):\n",
    "        print(\"bottom\")\n",
    "\n",
    "\n",
    "object = Bottom()\n",
    "object.m_bottom()\n",
    "object.m_middle()\n",
    "object.m_top()\n",
    "\n"
   ]
  },
  {
   "cell_type": "markdown",
   "metadata": {},
   "source": [
    "Can you see the difference? It's hidden in this line:\n",
    "\n",
    "class Bottom(Middle, Top):\n",
    "\n",
    "In this exotic way, we've turned a very simple code with a clear single-inheritance path into a mysterious multiple-inheritance riddle. “Is it valid?” you may ask. Yes, it is. “How is that possible?” you should ask now, and we hope that you really feel the need to ask this question.\n",
    "\n",
    "As you can see, the order in which the two superclasses have been listed between parenthesis is compliant with the code's structure: the Middle class precedes the Top class, just like in the real inheritance path.\n",
    "\n",
    "Despite its oddity, the sample is correct and works as expected, but it has to be stated that this notation doesn’t bring any new functionality or additional meaning.\n",
    "\n",
    "Let's modify the code once again - now we'll swap both superclass names in the Bottom class definition. This is what the snippet looks like now:"
   ]
  },
  {
   "cell_type": "code",
   "execution_count": 4,
   "metadata": {},
   "outputs": [
    {
     "name": "stdout",
     "output_type": "stream",
     "text": [
      "bottom\n",
      "middle\n",
      "top\n"
     ]
    }
   ],
   "source": [
    "class Top:\n",
    "    def m_top(self):\n",
    "        print(\"top\")\n",
    "\n",
    "\n",
    "class Middle(Top): #If you remove class Top as the superclass then the code would run\n",
    "    def m_middle(self):\n",
    "        print(\"middle\")\n",
    "\n",
    "\n",
    "class Bottom(Top, Middle): # Python won't allow you to start the search for a method from the top of the superclass\n",
    "    def m_bottom(self):\n",
    "        print(\"bottom\")\n",
    "\n",
    "\n",
    "object = Bottom()\n",
    "object.m_bottom()\n",
    "object.m_middle()\n",
    "object.m_top()\n",
    "\n"
   ]
  },
  {
   "cell_type": "markdown",
   "metadata": {},
   "source": [
    "To anticipate your question, we’ll say that this amendment has spoiled the code, and it won't run anymore. What a pity. The order we tried to force (Top, Middle) is incompatible with the inheritance path which is derived from the code's structure. Python won't like it. This is what we'll see:\n",
    "\n",
    "TypeError: Cannot create a consistent method resolution order (MRO) for bases Top, Middle\n",
    "output\n",
    "\n",
    "\n",
    "We think that the message speaks for itself. Python's MRO cannot be bent or violated, not just because that's the way Python works, but also because it’s a rule you have to obey.\n",
    "\n"
   ]
  },
  {
   "cell_type": "markdown",
   "metadata": {},
   "source": [
    "3.5.1.21\n",
    "\n",
    "The diamond problem\n",
    "\n",
    "The second example of the spectrum of issues that can possibly arise from multiple inheritance is illustrated by a classic problem named the diamond problem. The name reflects the shape of the inheritance diagram - take a look at the picture:\n",
    "\n",
    "                    Class A\n",
    "                   /       \\\n",
    "            Class B         Class C\n",
    "                   \\       /\n",
    "                    Class D\n",
    "\n",
    "The diamond problem concept\n",
    "\n",
    "There is the top-most superclass named A;\n",
    "there are two subclasses derived from A: B and C;\n",
    "and there is also the bottom-most subclass named D, derived from B and C (or C and B, as these two variants mean different things in Python)\n",
    "Can you see the diamond there?\n",
    "\n",
    "Have a look at the code in the editor. The same structure, but expressed in Python.\n",
    "\n",
    "Some programming languages forbid multiple inheritance at all, and as a consequence, they won't let you build a diamond - this is the route that Java and C# have chosen to follow since their origins.\n",
    "\n",
    "Python, however, has chosen a different route - it allows multiple inheritance, and it doesn't mind if you write and run code like the one in the editor. But don't forget about MRO - it's always in charge.\n",
    "\n",
    "\n",
    "Let's rebuild our example from the previous page to make it more diamond-like, just like below:\n",
    "\n",
    "class Top:\n",
    "    def m_top(self):\n",
    "        print(\"top\")\n",
    "\n",
    "\n",
    "class Middle_Left(Top):\n",
    "    def m_middle(self):\n",
    "        print(\"middle_left\")\n",
    "\n",
    "\n",
    "class Middle_Right(Top):\n",
    "    def m_middle(self):\n",
    "        print(\"middle_right\")\n",
    "\n",
    "\n",
    "class Bottom(Middle_Left, Middle_Right):\n",
    "    def m_bottom(self):\n",
    "        print(\"bottom\")\n",
    "\n",
    "\n",
    "object = Bottom()\n",
    "object.m_bottom()\n",
    "object.m_middle()\n",
    "object.m_top()\n",
    "\n",
    "\n",
    "Note: both Middle classes define a method of the same name: m_middle().\n",
    "\n",
    "It introduces a small uncertainty to our sample, although we're absolutely sure that you can answer the following key question: which of the two m_middle() methods will actually be invoked when the following line is executed?\n",
    "\n",
    "Object.m_middle()\n",
    "\n",
    "\n",
    "In other words, what will you see on the screen: middle_left or middle_right?\n",
    "\n",
    "You don't need to hurry – think twice and keep Python's MRO in mind!\n",
    "\n",
    "Are you ready?\n",
    "\n",
    "Yes, you're right. The invocation will activate the m_middle() method, which comes from the Middle_Left class. The explanation is simple: the class is listed before Middle_Right on the Bottom class's inheritance list. If you want to make sure that there’s no doubt about it, try to swap these two classes on the list and check the results.\n",
    "\n",
    "If you want to experience some more profound impressions about multiple inheritance and precious gemstones, try to modify our snippet and equip the Upper class with another specimen of the m_middle() method, and investigate its behavior carefully.\n",
    "\n",
    "As you can see, diamonds may bring some problems into your life – both the real ones and those offered by Python.\n",
    "\n",
    "\n"
   ]
  },
  {
   "cell_type": "code",
   "execution_count": null,
   "metadata": {},
   "outputs": [],
   "source": [
    "class A:\n",
    "    pass\n",
    "\n",
    "\n",
    "class B(A):\n",
    "    pass\n",
    "\n",
    "\n",
    "class C(A):\n",
    "    pass\n",
    "\n",
    "\n",
    "class D(B, C):\n",
    "    pass\n",
    "\n",
    "\n",
    "d = D()\n"
   ]
  },
  {
   "cell_type": "code",
   "execution_count": 5,
   "metadata": {},
   "outputs": [
    {
     "name": "stdout",
     "output_type": "stream",
     "text": [
      "bottom\n",
      "middle_left\n",
      "top\n"
     ]
    }
   ],
   "source": [
    "class Top:\n",
    "    def m_top(self):\n",
    "        print(\"top\")\n",
    "\n",
    "\n",
    "class Middle_Left(Top):\n",
    "    def m_middle(self):\n",
    "        print(\"middle_left\")\n",
    "\n",
    "\n",
    "class Middle_Right(Top):\n",
    "    def m_middle(self):\n",
    "        print(\"middle_right\")\n",
    "\n",
    "\n",
    "class Bottom(Middle_Left, Middle_Right):\n",
    "    def m_bottom(self):\n",
    "        print(\"bottom\")\n",
    "\n",
    "\n",
    "object = Bottom()\n",
    "object.m_bottom()\n",
    "object.m_middle()\n",
    "object.m_top()\n",
    "\n"
   ]
  },
  {
   "cell_type": "markdown",
   "metadata": {},
   "source": [
    "                                KEY TAKEAWAYS "
   ]
  },
  {
   "cell_type": "markdown",
   "metadata": {},
   "source": [
    "1. A method named __str__() is responsible for converting an object's contents into a (more or less) readable string. You can redefine it if you want your object to be able to present itself in a more elegant form. For example:"
   ]
  },
  {
   "cell_type": "code",
   "execution_count": null,
   "metadata": {},
   "outputs": [],
   "source": [
    "class Mouse:\n",
    "    def __init__(self, name):\n",
    "        self.my_name = name\n",
    "\n",
    "\n",
    "    def __str__(self):\n",
    "        return self.my_name\n",
    "\n",
    "\n",
    "the_mouse = Mouse('mickey')\n",
    "print(the_mouse)  # Prints \"mickey\". \n",
    "\n"
   ]
  },
  {
   "cell_type": "markdown",
   "metadata": {},
   "source": [
    "2. A function named issubclass(Class_1, Class_2) is able to determine if Class_1 is a subclass of Class_2. For example:"
   ]
  },
  {
   "cell_type": "code",
   "execution_count": 6,
   "metadata": {},
   "outputs": [
    {
     "name": "stdout",
     "output_type": "stream",
     "text": [
      "False True\n"
     ]
    }
   ],
   "source": [
    "class Mouse:\n",
    "    pass\n",
    "\n",
    "\n",
    "class LabMouse(Mouse):\n",
    "    pass\n",
    "\n",
    "\n",
    "print(issubclass(Mouse, LabMouse), issubclass(LabMouse, Mouse))  # Prints \"False True\"\n",
    "\n"
   ]
  },
  {
   "cell_type": "markdown",
   "metadata": {},
   "source": [
    "3. A function named isinstance(Object, Class) checks if an object comes from an indicated class. For example:"
   ]
  },
  {
   "cell_type": "code",
   "execution_count": 7,
   "metadata": {},
   "outputs": [
    {
     "name": "stdout",
     "output_type": "stream",
     "text": [
      "True False\n"
     ]
    }
   ],
   "source": [
    "class Mouse:\n",
    "    pass\n",
    "\n",
    "\n",
    "class LabMouse(Mouse):\n",
    "    pass\n",
    "\n",
    "\n",
    "mickey = Mouse()\n",
    "print(isinstance(mickey, Mouse), isinstance(mickey, LabMouse))  # Prints \"True False\".\n",
    "\n"
   ]
  },
  {
   "cell_type": "markdown",
   "metadata": {},
   "source": [
    "4. A operator called is checks if two variables refer to the same object. For example:"
   ]
  },
  {
   "cell_type": "code",
   "execution_count": null,
   "metadata": {},
   "outputs": [],
   "source": [
    "class Mouse:\n",
    "    pass\n",
    "\n",
    "\n",
    "mickey = Mouse()\n",
    "minnie = Mouse()\n",
    "cloned_mickey = mickey\n",
    "print(mickey is minnie, mickey is cloned_mickey)  # Prints \"False True\".\n",
    "\n"
   ]
  },
  {
   "cell_type": "markdown",
   "metadata": {},
   "source": [
    "5. A parameterless function named super() returns a reference to the nearest superclass of the class. For example:"
   ]
  },
  {
   "cell_type": "code",
   "execution_count": null,
   "metadata": {},
   "outputs": [],
   "source": [
    "class Mouse:\n",
    "    def __str__(self):\n",
    "        return \"Mouse\"\n",
    "\n",
    "\n",
    "class LabMouse(Mouse):\n",
    "    def __str__(self):\n",
    "        return \"Laboratory \" + super().__str__()\n",
    "\n",
    "\n",
    "doctor_mouse = LabMouse();\n",
    "print(doctor_mouse)  # Prints \"Laboratory Mouse\".\n",
    "\n"
   ]
  },
  {
   "cell_type": "markdown",
   "metadata": {},
   "source": [
    "6. Methods as well as instance and class variables defined in a superclass are automatically inherited by their subclasses. For example:"
   ]
  },
  {
   "cell_type": "code",
   "execution_count": 8,
   "metadata": {},
   "outputs": [
    {
     "name": "stdout",
     "output_type": "stream",
     "text": [
      "Hi, my name is Professor Mouser 1\n"
     ]
    }
   ],
   "source": [
    "class Mouse:\n",
    "    Population = 0\n",
    "    def __init__(self, name):\n",
    "        Mouse.Population += 1\n",
    "        self.name = name\n",
    "\n",
    "    def __str__(self):\n",
    "        return \"Hi, my name is \" + self.name\n",
    "\n",
    "class LabMouse(Mouse):\n",
    "    pass\n",
    "\n",
    "professor_mouse = LabMouse(\"Professor Mouser\")\n",
    "print(professor_mouse, Mouse.Population)  # Prints \"Hi, my name is Professor Mouser 1\"\n",
    "\n"
   ]
  },
  {
   "cell_type": "markdown",
   "metadata": {},
   "source": [
    "7. In order to find any object/class property, Python looks for it inside:\n",
    "   - the object itself;\n",
    "   - all classes involved in the object's inheritance line from bottom to top;\n",
    "   - if there is more than one class on a particular inheritance path, Python scans them from left to right;\n",
    "   - if both of the above fail, the AttributeError exception is raised.\n",
    "8. If any of the subclasses defines a method/class variable/instance variable of the same name as existing in the superclass, the new name overrides any of the previous instances of the name. For example:"
   ]
  },
  {
   "cell_type": "code",
   "execution_count": null,
   "metadata": {},
   "outputs": [],
   "source": [
    "class Mouse:\n",
    "    def __init__(self, name):\n",
    "        self.name = name\n",
    "\n",
    "    def __str__(self):\n",
    "        return \"My name is \" + self.name\n",
    "\n",
    "class AncientMouse(Mouse):\n",
    "    def __str__(self):\n",
    "        return \"Meum nomen est \" + self.name\n",
    "\n",
    "mus = AncientMouse(\"Caesar\")  # Prints \"Meum nomen est Caesar\"\n",
    "print(mus)\n",
    "\n"
   ]
  },
  {
   "cell_type": "markdown",
   "metadata": {},
   "source": [
    "Exercises\n",
    "Scenario\n",
    "\n",
    "Assume that the following piece of code has been successfully executed:"
   ]
  },
  {
   "cell_type": "code",
   "execution_count": 12,
   "metadata": {},
   "outputs": [
    {
     "name": "stdout",
     "output_type": "stream",
     "text": [
      "Buddy says: Woof! I don't like mountains!\n"
     ]
    }
   ],
   "source": [
    "class Dog:\n",
    "    kennel = 0\n",
    "    def __init__(self, breed):\n",
    "        self.breed = breed\n",
    "        Dog.kennel += 1\n",
    "    def __str__(self):\n",
    "        return self.breed + \" says: Woof!\"\n",
    "\n",
    "\n",
    "class SheepDog(Dog):\n",
    "    def __str__(self):\n",
    "        return super().__str__() + \" Don't run away, Little Lamb!\"\n",
    "\n",
    "class LowLandDog(SheepDog): # for exercise 4\n",
    "    def __str__(self):\n",
    "        return Dog.__str__(self) + \" I don't like mountains!\"\n",
    "\n",
    "\n",
    "\n",
    "class GuardDog(Dog):\n",
    "    def __str__(self):\n",
    "        return super().__str__() + \" Stay where you are, Mister Intruder!\"\n",
    "\n",
    "\n",
    "rocky = SheepDog(\"Collie\")\n",
    "luna = GuardDog(\"Dobermann\")\n",
    "bud = LowLandDog(\"Buddy\") # for exercise 4\n",
    "\n",
    "print(bud)\n"
   ]
  },
  {
   "cell_type": "markdown",
   "metadata": {},
   "source": [
    "Exercise 1\n",
    "\n",
    "What is the expected output of the following piece of code?\n",
    "\n",
    "print(rocky)\n",
    "print(luna)\n",
    "\n",
    "Answer:\n",
    "Collie says: Woof! Don't run away, Little Lamb!\n",
    "Dobermann says: Woof! Stay where you are, Mister Intruder!\n",
    "\n",
    "Exercise 2\n",
    "\n",
    "What is the expected output of the following piece of code?\n",
    "\n",
    "print(issubclass(SheepDog, Dog), issubclass(SheepDog, GuardDog))\n",
    "print(isinstance(rocky, GuardDog), isinstance(luna, GuardDog))\n",
    "\n",
    "Answer:\n",
    "True False\n",
    "False True\n",
    "\n",
    "Exercise 3\n",
    "\n",
    "What is the expected output of the following piece of code?\n",
    "\n",
    "print(luna is luna, rocky is luna)\n",
    "print(rocky.kennel)\n",
    "\n",
    "Answer:\n",
    "True False\n",
    "2\n",
    "\n",
    "Exercise 4\n",
    "\n",
    "Define a SheepDog's subclass named LowlandDog, and equip it with an __str__() method overriding an inherited method of the same name. The new dog's __str__() method should return the string \"Woof! I don't like mountains!\" .\n",
    "\n",
    "Check\n",
    "Prev Next"
   ]
  }
 ],
 "metadata": {
  "interpreter": {
   "hash": "b78c21ee4300035dc702c1248f36619584a967018b0e3362776c2639c116c18c"
  },
  "kernelspec": {
   "display_name": "Python 3.10.4 64-bit",
   "language": "python",
   "name": "python3"
  },
  "language_info": {
   "codemirror_mode": {
    "name": "ipython",
    "version": 3
   },
   "file_extension": ".py",
   "mimetype": "text/x-python",
   "name": "python",
   "nbconvert_exporter": "python",
   "pygments_lexer": "ipython3",
   "version": "3.10.4"
  },
  "orig_nbformat": 4
 },
 "nbformat": 4,
 "nbformat_minor": 2
}
