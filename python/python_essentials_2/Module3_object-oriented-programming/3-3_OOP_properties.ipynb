{
 "cells": [
  {
   "cell_type": "markdown",
   "metadata": {},
   "source": [
    "Instance variables\n",
    "\n",
    "In general, a class can be equipped with two different kinds of data to form a class's properties. You already saw one of them when we were looking at stacks.\n",
    "\n",
    "This kind of class property exists when and only when it is explicitly created and added to an object. As you already know, this can be done during the object's initialization, performed by the constructor.\n",
    "\n",
    "Moreover, it can be done in any moment of the object's life. Furthermore, any existing property can be removed at any time.\n",
    "\n",
    "Such an approach has some important consequences:\n",
    "\n",
    "   # different objects of the same class may possess different sets of properties;\n",
    "   # there must be a way to safely check if a specific object owns the property you want to utilize (unless you want to provoke an exception - it's always worth considering)\n",
    "   # each object carries its own set of properties - they don't interfere with one another in any way.\n",
    "   # Such variables (properties) are called instance variables.\n",
    "\n",
    "The word instance suggests that they are closely connected to the objects (which are class instances), not to the classes themselves. Let's take a closer look at them.\n",
    "\n",
    "Here is an example:"
   ]
  },
  {
   "cell_type": "code",
   "execution_count": 2,
   "metadata": {},
   "outputs": [
    {
     "name": "stdout",
     "output_type": "stream",
     "text": [
      "{'first': 1}\n",
      "{'first': 2, 'second': 3}\n",
      "{'first': 4, 'third': 5}\n"
     ]
    }
   ],
   "source": [
    "class ExampleClass:\n",
    "    def __init__(self, val = 1):\n",
    "        self.first = val\n",
    "\n",
    "    def set_second(self, val):\n",
    "        self.second = val\n",
    "\n",
    "\n",
    "example_object_1 = ExampleClass()\n",
    "example_object_2 = ExampleClass(2)\n",
    "\n",
    "example_object_2.set_second(3)\n",
    "\n",
    "example_object_3 = ExampleClass(4)\n",
    "example_object_3.third = 5 \n",
    "# NOTE: created .third property w/o it being created as an instance variable \n",
    "#       inside the class\n",
    "\n",
    "print(example_object_1.__dict__)\n",
    "print(example_object_2.__dict__)\n",
    "print(example_object_3.__dict__)\n"
   ]
  },
  {
   "cell_type": "markdown",
   "metadata": {},
   "source": [
    "# NOTE: The last three lines of code\n",
    "    # python objects => Gifted with a small set of predefined properties and methods\n",
    "    # the one used in the example is __dict__ (it's a dictionary)\n",
    "\n",
    "\n",
    "Let's dive into the code now:\n",
    "\n",
    "  #  the class named ExampleClass has a constructor, which unconditionally creates an instance variable named first, and sets it with the value passed through the first argument (from the class user's perspective) or the second argument (from the constructor's perspective); note the default value of the parameter - any trick you can do with a regular function parameter can be applied to methods, too;\n",
    "\n",
    "  #  the class also has a method which creates another instance variable, named second;\n",
    "\n",
    "  #  we've created three objects of the class ExampleClass, but all these instances differ:\n",
    "\n",
    "       # example_object_1 only has the property named first;\n",
    "\n",
    "       # example_object_2 has two properties: first and second;\n",
    "\n",
    "       # example_object_3 has been enriched with a property named third just on the fly, outside the class's code - this is possible and fully permissible.\n",
    "\n",
    "The program's output clearly shows that our assumptions are correct - here it is:\n",
    "\n",
    "{'first': 1}\n",
    "{'second': 3, 'first': 2}\n",
    "{'third': 5, 'first': 4}\n",
    "output\n",
    "\n",
    "There is one additional conclusion that should be stated here: modifying an instance variable of any object has no impact on all the remaining objects. Instance variables are perfectly isolated from each other.\n",
    "\n"
   ]
  },
  {
   "cell_type": "markdown",
   "metadata": {},
   "source": [
    "3.3.1.2\n",
    "\n",
    "Instance variables: continued\n",
    "\n",
    "Take a look at the modified example in the editor.\n",
    "\n",
    "It's nearly the same as the previous one. The only difference is in the property names. We've added two underscores (__) in front of them.\n",
    "\n",
    "As you know, such an addition makes the instance variable private - it becomes inaccessible from the outer world.\n",
    "\n",
    "The actual behavior of these names is a bit more complicated, so let's run the program. This is the output:\n",
    "\n",
    "{'_ExampleClass__first': 1}\n",
    "{'_ExampleClass__first': 2, '_ExampleClass__second': 3}\n",
    "{'_ExampleClass__first': 4, '__third': 5}\n",
    "output\n",
    "\n",
    "Can you see these strange names full of underscores? Where did they come from?\n",
    "\n",
    "When Python sees that you want to add an instance variable to an object and you're going to do it inside any of the object's methods, it mangles the operation in the following way:\n",
    "\n",
    "   # it puts a class name before your name;\n",
    "   # it puts an additional underscore at the beginning.\n",
    "    \n",
    "This is why the __first becomes _ExampleClass__first.\n",
    "\n",
    "The name is now fully accessible from outside the class. You can run a code like this:\n",
    "\n",
    "print(example_object_1._ExampleClass__first)\n",
    "\n",
    "\n",
    "and you'll get a valid result with no errors or exceptions.\n",
    "\n",
    "As you can see, making a property private is limited.\n",
    "\n",
    "The mangling won't work if you add a private instance variable outside the class code. In this case, it'll behave like any other ordinary property.\n",
    "\n"
   ]
  },
  {
   "cell_type": "code",
   "execution_count": 3,
   "metadata": {},
   "outputs": [
    {
     "name": "stdout",
     "output_type": "stream",
     "text": [
      "{'_ExampleClass__first': 1}\n",
      "{'_ExampleClass__first': 2, '_ExampleClass__second': 3}\n",
      "{'_ExampleClass__first': 4, '__third': 5}\n",
      "1\n"
     ]
    }
   ],
   "source": [
    "class ExampleClass:\n",
    "    def __init__(self, val = 1):\n",
    "        self.__first = val # adding __ in front of the instance variable \n",
    "                           # makes it private => makes it inaccessible from outside\n",
    "\n",
    "    def set_second(self, val = 2):\n",
    "        self.__second = val\n",
    "\n",
    "\n",
    "example_object_1 = ExampleClass()\n",
    "example_object_2 = ExampleClass(2)\n",
    "\n",
    "example_object_2.set_second(3)\n",
    "\n",
    "example_object_3 = ExampleClass(4)\n",
    "example_object_3.__third = 5\n",
    "\n",
    "\n",
    "print(example_object_1.__dict__)\n",
    "print(example_object_2.__dict__)\n",
    "print(example_object_3.__dict__)\n",
    "\n",
    "print(example_object_1._ExampleClass__first)\n"
   ]
  },
  {
   "cell_type": "markdown",
   "metadata": {},
   "source": [
    "3.3.1.3\n",
    "\n",
    "Class variables\n",
    "A class variable is a property which exists in just one copy and is stored outside any object.\n",
    "\n",
    "Note: no instance variable exists if there is no object in the class; a class variable exists in one copy even if there are no objects in the class.\n",
    "\n",
    "Class variables are created differently to their instance siblings. The example will tell you more:\n",
    "\n",
    "Look:\n",
    "\n",
    "    # there is an assignment in the first list of the class definition - it sets the variable named counter to 0; initializing the variable inside the class but outside any of its methods makes the variable a class variable;\n",
    "    # accessing such a variable looks the same as accessing any instance attribute - you can see it in the constructor body; as you can see, the constructor increments the variable by one; in effect, the variable counts all the created objects.\n",
    "\n",
    "Running the code will cause the following output:\n",
    "\n",
    "{'_ExampleClass__first': 1} 3\n",
    "{'_ExampleClass__first': 2} 3\n",
    "{'_ExampleClass__first': 4} 3\n",
    "output\n",
    "\n",
    "Two important conclusions come from the example:\n",
    "\n",
    "class variables aren't shown in an object's __dict__ (this is natural as class variables aren't parts of an object) but you can always try to look into the variable of the same name, but at the class level - we'll show you this very soon;\n",
    "a class variable always presents the same value in all class instances (objects)\n",
    "\n"
   ]
  },
  {
   "cell_type": "code",
   "execution_count": 6,
   "metadata": {},
   "outputs": [
    {
     "name": "stdout",
     "output_type": "stream",
     "text": [
      "{'_ExampleClass__first': 1} 3\n",
      "{'_ExampleClass__first': 2} 3\n",
      "{'_ExampleClass__first': 4} 3\n"
     ]
    }
   ],
   "source": [
    "class ExampleClass:\n",
    "    counter = 0  # Class Variable\n",
    "    def __init__(self, val = 1):\n",
    "        self.__first = val\n",
    "        ExampleClass.counter += 1\n",
    "\n",
    "\n",
    "example_object_1 = ExampleClass()\n",
    "example_object_2 = ExampleClass(2)\n",
    "example_object_3 = ExampleClass(4)\n",
    "\n",
    "print(example_object_1.__dict__, example_object_1.counter)\n",
    "print(example_object_2.__dict__, example_object_2.counter)\n",
    "print(example_object_3.__dict__, example_object_3.counter)\n",
    "\n"
   ]
  },
  {
   "cell_type": "markdown",
   "metadata": {},
   "source": [
    "3.3.1.4\n",
    "\n",
    "Class variables: continued\n",
    "Mangling a class variable's name has the same effects as those you're already familiar with.\n",
    "\n",
    "Look at the example in the editor. Can you guess its output?\n",
    "\n",
    "Run the program and check if your predictions were correct. Everything works as expected, doesn't it?"
   ]
  },
  {
   "cell_type": "code",
   "execution_count": 4,
   "metadata": {},
   "outputs": [
    {
     "name": "stdout",
     "output_type": "stream",
     "text": [
      "{'_ExampleClass__first': 1} 3\n",
      "{'_ExampleClass__first': 2} 3\n",
      "{'_ExampleClass__first': 4} 3\n"
     ]
    }
   ],
   "source": [
    "class ExampleClass:\n",
    "    __counter = 0\n",
    "    def __init__(self, val = 1):\n",
    "        self.__first = val\n",
    "        ExampleClass.__counter += 1\n",
    "\n",
    "\n",
    "example_object_1 = ExampleClass()\n",
    "example_object_2 = ExampleClass(2)\n",
    "example_object_3 = ExampleClass(4)\n",
    "\n",
    "print(example_object_1.__dict__, example_object_1._ExampleClass__counter)\n",
    "print(example_object_2.__dict__, example_object_2._ExampleClass__counter)\n",
    "print(example_object_3.__dict__, example_object_3._ExampleClass__counter)\n"
   ]
  },
  {
   "cell_type": "markdown",
   "metadata": {},
   "source": [
    "3.3.1.5\n",
    "\n",
    "Class variables: continued\n",
    "We told you before that class variables exist even when no class instance (object) had been created.\n",
    "\n",
    "Now we're going to take the opportunity to show you the difference between these two __dict__ variables, the one from the class and the one from the object.\n",
    "\n",
    "Look at the code in the editor. The proof is there.\n",
    "\n",
    "Let's take a closer look at it:\n",
    "\n",
    "   1. We define one class named ExampleClass;\n",
    "\n",
    "   2. The class defines one class variable named varia;\n",
    "\n",
    "   3. The class constructor sets the variable with the parameter's value;\n",
    "\n",
    "   4.  Naming the variable is the most important aspect of the example because:\n",
    "       # Changing the assignment to self.varia = val would create an instance variable of the same name as the class's one;\n",
    "       # Changing the assignment to varia = val would operate on a method's local variable; (we strongly encourage you to test both of the above cases - this will make it easier for you to remember the difference)\n",
    "   5. The first line of the off-class code prints the value of the ExampleClass.varia attribute; note - we use the value before the very first object of the class is instantiated.\n",
    "   \n",
    "Run the code in the editor and check its output.\n",
    "\n",
    "As you can see, the class' __dict__ contains much more data than its object's counterpart. Most of them are useless now - the one we want you to check carefully shows the current varia value.\n",
    "\n",
    "Note that the object's __dict__ is empty - the object has no instance variables.\n",
    "\n"
   ]
  },
  {
   "cell_type": "code",
   "execution_count": 11,
   "metadata": {},
   "outputs": [
    {
     "name": "stdout",
     "output_type": "stream",
     "text": [
      "{'__module__': '__main__', 'varia': 1, '__init__': <function ExampleClass.__init__ at 0x000001F1E9CD89D0>, '__dict__': <attribute '__dict__' of 'ExampleClass' objects>, '__weakref__': <attribute '__weakref__' of 'ExampleClass' objects>, '__doc__': None}\n",
      "{'__module__': '__main__', 'varia': 1, '__init__': <function ExampleClass.__init__ at 0x000001F1E9CD89D0>, '__dict__': <attribute '__dict__' of 'ExampleClass' objects>, '__weakref__': <attribute '__weakref__' of 'ExampleClass' objects>, '__doc__': None}\n",
      "{'varia': 2}\n"
     ]
    }
   ],
   "source": [
    "class ExampleClass:\n",
    "    varia = 1\n",
    "    def __init__(self, val):\n",
    "        # ExampleClass.varia = val\n",
    "        self.varia = val\n",
    "\n",
    "\n",
    "print(ExampleClass.__dict__)\n",
    "example_object = ExampleClass(2)\n",
    "\n",
    "print(ExampleClass.__dict__)\n",
    "print(example_object.__dict__)\n"
   ]
  },
  {
   "cell_type": "markdown",
   "metadata": {},
   "source": [
    "3.3.1.6\n",
    "\n",
    "\n",
    "Checking an attribute's existence\n",
    "\n",
    "Python's attitude to object instantiation raises one important issue - in contrast to other programming languages, you may not expect that all objects of the same class have the same sets of properties.\n",
    "\n",
    "Just like in the example in the editor. Look at it carefully.\n",
    "\n",
    "The object created by the constructor can have only one of two possible attributes: a or b.\n",
    "\n",
    "Executing the code will produce the following output:\n",
    "\n",
    "1\n",
    "Traceback (most recent call last):\n",
    "  File \".main.py\", line 11, in \n",
    "    print(example_object.b)\n",
    "AttributeError: 'ExampleClass' object has no attribute 'b'\n",
    "output\n",
    "\n",
    "As you can see, accessing a non-existing object (class) attribute causes an AttributeError exception.\n",
    "\n"
   ]
  },
  {
   "cell_type": "code",
   "execution_count": 15,
   "metadata": {},
   "outputs": [
    {
     "name": "stdout",
     "output_type": "stream",
     "text": [
      "1\n"
     ]
    },
    {
     "ename": "AttributeError",
     "evalue": "'ExampleClass' object has no attribute 'b'",
     "output_type": "error",
     "traceback": [
      "\u001b[1;31m---------------------------------------------------------------------------\u001b[0m",
      "\u001b[1;31mAttributeError\u001b[0m                            Traceback (most recent call last)",
      "\u001b[1;32mc:\\Users\\TDEM\\Desktop\\Youngblood\\github_test\\python\\python_essentials_2\\Module3_object-oriented-programming\\3-3_OOP_properties.ipynb Cell 13'\u001b[0m in \u001b[0;36m<cell line: 12>\u001b[1;34m()\u001b[0m\n\u001b[0;32m      <a href='vscode-notebook-cell:/c%3A/Users/TDEM/Desktop/Youngblood/github_test/python/python_essentials_2/Module3_object-oriented-programming/3-3_OOP_properties.ipynb#ch0000012?line=8'>9</a>\u001b[0m example_object \u001b[39m=\u001b[39m ExampleClass(\u001b[39m5\u001b[39m)\n\u001b[0;32m     <a href='vscode-notebook-cell:/c%3A/Users/TDEM/Desktop/Youngblood/github_test/python/python_essentials_2/Module3_object-oriented-programming/3-3_OOP_properties.ipynb#ch0000012?line=10'>11</a>\u001b[0m \u001b[39mprint\u001b[39m(example_object\u001b[39m.\u001b[39ma)\n\u001b[1;32m---> <a href='vscode-notebook-cell:/c%3A/Users/TDEM/Desktop/Youngblood/github_test/python/python_essentials_2/Module3_object-oriented-programming/3-3_OOP_properties.ipynb#ch0000012?line=11'>12</a>\u001b[0m \u001b[39mprint\u001b[39m(example_object\u001b[39m.\u001b[39;49mb)\n",
      "\u001b[1;31mAttributeError\u001b[0m: 'ExampleClass' object has no attribute 'b'"
     ]
    }
   ],
   "source": [
    "class ExampleClass:\n",
    "    def __init__(self, val):\n",
    "        if val % 2 != 0:\n",
    "            self.a = 1\n",
    "        else:\n",
    "            self.b = 1\n",
    "\n",
    "\n",
    "example_object = ExampleClass(5)\n",
    "\n",
    "print(example_object.a)\n",
    "print(example_object.b)\n"
   ]
  },
  {
   "cell_type": "markdown",
   "metadata": {},
   "source": [
    "3.3.1.7\n",
    "\n",
    "\n",
    "Checking an attribute's existence: continued\n",
    "The try-except instruction gives you the chance to avoid issues with non-existent properties.\n",
    "\n",
    "It's easy - look at the code in the editor.\n",
    "\n",
    "As you can see, this action isn't very sophisticated. Essentially, we've just swept the issue under the carpet.\n",
    "\n",
    "Fortunately, there is one more way to cope with the issue.\n",
    "\n",
    "\n",
    "Python provides a function which is able to safely check if any object/class contains a specified property. The function is named hasattr, and expects two arguments to be passed to it:\n",
    "\n",
    "   # the class or the object being checked;\n",
    "   # the name of the property whose existence has to be reported (note: it has to be a string containing the attribute name, not the name alone)\n",
    "\n",
    "The function returns True or False.\n",
    "\n",
    "This is how you can utilize it:"
   ]
  },
  {
   "cell_type": "code",
   "execution_count": 20,
   "metadata": {},
   "outputs": [
    {
     "name": "stdout",
     "output_type": "stream",
     "text": [
      "1\n"
     ]
    }
   ],
   "source": [
    "class ExampleClass:\n",
    "    def __init__(self, val):\n",
    "        if val % 2 != 0:\n",
    "            self.a = 1\n",
    "        else:\n",
    "            self.b = 1\n",
    "\n",
    "\n",
    "example_object = ExampleClass(1)\n",
    "print(example_object.a)\n",
    "\n",
    "if hasattr(example_object, 'b'): # hasattri() function => two arguments \n",
    "                                 # hasattr(class or object, name of property)\n",
    "    print(example_object.b)"
   ]
  },
  {
   "cell_type": "code",
   "execution_count": 21,
   "metadata": {},
   "outputs": [
    {
     "name": "stdout",
     "output_type": "stream",
     "text": [
      "1\n"
     ]
    }
   ],
   "source": [
    "class ExampleClass:\n",
    "    def __init__(self, val):\n",
    "        if val % 2 != 0:\n",
    "            self.a = 1\n",
    "        else:\n",
    "            self.b = 1\n",
    "\n",
    "\n",
    "example_object = ExampleClass(1)\n",
    "print(example_object.a)\n",
    "\n",
    "try:\n",
    "    print(example_object.b)\n",
    "except AttributeError:\n",
    "    pass"
   ]
  },
  {
   "cell_type": "markdown",
   "metadata": {},
   "source": [
    "3.3.1.8\n",
    "\n",
    "\n",
    "Checking an attribute's existence: continued\n",
    "Don't forget that the hasattr() function can operate on classes, too. You can use it to find out if a class variable is available, just like here in the example in the editor.\n",
    "\n",
    "The function returns True if the specified class contains a given attribute, and False otherwise.\n",
    "\n",
    "Can you guess the code's output? Run it to check your guesses.\n",
    "\n",
    "\n",
    "And one more example - look at the code below and try to predict its output:\n",
    "\n",
    "    # (look at the code below)"
   ]
  },
  {
   "cell_type": "code",
   "execution_count": 22,
   "metadata": {},
   "outputs": [
    {
     "name": "stdout",
     "output_type": "stream",
     "text": [
      "True\n",
      "True\n",
      "False\n",
      "True\n"
     ]
    }
   ],
   "source": [
    "class ExampleClass:\n",
    "    a = 1\n",
    "    def __init__(self):\n",
    "        self.b = 2\n",
    "\n",
    "\n",
    "example_object = ExampleClass()\n",
    "\n",
    "print(hasattr(example_object, 'b'))\n",
    "print(hasattr(example_object, 'a'))\n",
    "print(hasattr(ExampleClass, 'b'))\n",
    "print(hasattr(ExampleClass, 'a'))\n"
   ]
  },
  {
   "cell_type": "code",
   "execution_count": null,
   "metadata": {},
   "outputs": [],
   "source": [
    "class ExampleClass:\n",
    "    attr = 1\n",
    "\n",
    "\n",
    "print(hasattr(ExampleClass, 'attr'))\n",
    "print(hasattr(ExampleClass, 'prop'))\n"
   ]
  },
  {
   "cell_type": "markdown",
   "metadata": {},
   "source": [
    "3.3.1.9 - Section Summary\n",
    "\n",
    "Key takeaways\n",
    "\n",
    "1. An instance variable is a property whose existence depends on the creation of an object. Every object can have a different set of instance variables.\n",
    "\n",
    "Moreover, they can be freely added to and removed from objects during their lifetime. All object instance variables are stored inside a dedicated dictionary named __dict__, contained in every object separately.\n",
    "\n",
    "\n",
    "2. An instance variable can be private when its name starts with __, but don't forget that such a property is still accessible from outside the class using a mangled name constructed as _ClassName__PrivatePropertyName.\n",
    "\n",
    "\n",
    "3. A class variable is a property which exists in exactly one copy, and doesn't need any created object to be accessible. Such variables are not shown as __dict__ content.\n",
    "\n",
    "All a class's class variables are stored inside a dedicated dictionary named __dict__, contained in every class separately.\n",
    "\n",
    "\n",
    "4. A function named hasattr() can be used to determine if any object/class contains a specified property.\n",
    "\n",
    "For example:\n",
    "\n",
    "The code outputs:\n",
    "\n",
    "{'alpha': 1, '_Sample__delta': 3, 'beta': 2}"
   ]
  },
  {
   "cell_type": "code",
   "execution_count": null,
   "metadata": {},
   "outputs": [],
   "source": [
    "class Sample:\n",
    "    gamma = 0 # Class variable.\n",
    "    def __init__(self):\n",
    "        self.alpha = 1 # Instance variable.\n",
    "        self.__delta = 3 # Private instance variable.\n",
    "\n",
    "\n",
    "obj = Sample()\n",
    "obj.beta = 2  # Another instance variable (existing only inside the \"obj\" instance.)\n",
    "print(obj.__dict__)\n"
   ]
  },
  {
   "cell_type": "markdown",
   "metadata": {},
   "source": [
    "Exercise 1\n",
    "\n",
    "Which of the Python class properties are instance variables and which are class variables? Which of them are private?\n",
    "\n",
    "Answer:\n",
    "population and victims are class variables, while length and __venomous are instance variables (the latter is also private)."
   ]
  },
  {
   "cell_type": "code",
   "execution_count": null,
   "metadata": {},
   "outputs": [],
   "source": [
    "class Python:\n",
    "    population = 1\n",
    "    victims = 0\n",
    "    def __init__(self):\n",
    "        self.length_ft = 3\n",
    "        self.__venomous = False"
   ]
  },
  {
   "cell_type": "markdown",
   "metadata": {},
   "source": [
    "Exercise 2\n",
    "\n",
    "You're going to negate the __venomous property of the version_2 object, ignoring the fact that the property is private. How will you do this?\n",
    "\n",
    "version_2 = Python()\n",
    "\n",
    "Answer:\n",
    "\n",
    "    version_2._Python__venomous = not version_2._Python__venomous"
   ]
  },
  {
   "cell_type": "markdown",
   "metadata": {},
   "source": [
    "Exercise 3\n",
    "\n",
    "Write an expression which checks if the version_2 object contains an instance property named constrictor (yes, constrictor!).\n",
    "\n",
    "Answer:\n",
    "hasattr(version_2, 'constrictor')"
   ]
  }
 ],
 "metadata": {
  "interpreter": {
   "hash": "b78c21ee4300035dc702c1248f36619584a967018b0e3362776c2639c116c18c"
  },
  "kernelspec": {
   "display_name": "Python 3.10.4 64-bit",
   "language": "python",
   "name": "python3"
  },
  "language_info": {
   "codemirror_mode": {
    "name": "ipython",
    "version": 3
   },
   "file_extension": ".py",
   "mimetype": "text/x-python",
   "name": "python",
   "nbconvert_exporter": "python",
   "pygments_lexer": "ipython3",
   "version": "3.10.4"
  },
  "orig_nbformat": 4
 },
 "nbformat": 4,
 "nbformat_minor": 2
}
