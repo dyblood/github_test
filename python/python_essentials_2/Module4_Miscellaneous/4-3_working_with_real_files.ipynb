{
 "cells": [
  {
   "cell_type": "markdown",
   "metadata": {},
   "source": [
    "4.3 - Working With Real Files"
   ]
  },
  {
   "cell_type": "markdown",
   "metadata": {},
   "source": [
    "4.3.1.1 - Processing text files\n",
    "\n",
    "In this lesson we're going to prepare a simple text file with some short, simple content.\n",
    "\n",
    "We're going to show you some basic techniques you can utilize to read the file contents in order to process them.\n",
    "\n",
    "The processing will be very simple - you're going to copy the file's contents to the console, and count all the characters the program has read in.\n",
    "\n",
    "But remember - our understanding of a text file is very strict. In our sense, it's a plain text file - it may contain only text, without any additional decorations (formatting, different fonts, etc.).\n",
    "\n",
    "That's why you should avoid creating the file using any advanced text processor like MS Word, LibreOffice Writer, or something like this. Use the very basics your OS offers: Notepad, vim, gedit, etc.\n",
    "\n",
    "If your text files contain some national characters not covered by the standard ASCII charset, you may need an additional step. Your open() function invocation may require an argument denoting specific text encoding.\n",
    "\n",
    "For example, if you're using a Unix/Linux OS configured to use UTF-8 as a system-wide setting, the open() function may look as follows:\n",
    "\n",
    "stream = open('file.txt', 'rt', encoding='utf-8')\n",
    "\n",
    "\n",
    "where the encoding argument has to be set to a value which is a string representing proper text encoding (UTF-8, here).\n",
    "\n",
    "Consult your OS documentation to find an encoding name adequate to your environment.\n",
    "\n",
    "\n",
    "Note\n",
    "\n",
    "For the purposes of our experiments with file processing carried out in this section, we're going to use a pre-uploaded set of files (i.e., tzop.txt, or text.txt files) which you'll be able to work with. If you'd like to work with your own files locally on your machine, we strongly encourage you to do so, and to use IDLE (or any other IDE that you may prefer) to carry out your own tests."
   ]
  },
  {
   "cell_type": "code",
   "execution_count": 3,
   "metadata": {},
   "outputs": [
    {
     "name": "stdout",
     "output_type": "stream",
     "text": [
      "Hello World!\n"
     ]
    }
   ],
   "source": [
    "# Opening tzop.txt in read mode, returning it as a file object:\n",
    "stream = open(\"c:/users/TDEM/Desktop/file.txt\", \"rt\", encoding = \"utf-8\")\n",
    "\n",
    "print(stream.read()) # printing the content of the file\n",
    "\n",
    "stream.close()\n"
   ]
  },
  {
   "cell_type": "markdown",
   "metadata": {},
   "source": [
    "4.3.1.2 - Processing text files: continued\n",
    "\n",
    "Reading a text file's contents can be performed using several different methods - none of them is any better or worse than any other. It's up to you which of them you prefer and like.\n",
    "\n",
    "Some of them will sometimes be handier, and sometimes more troublesome. Be flexible. Don't be afraid to change your preferences.\n",
    "\n",
    "The most basic of these methods is the one offered by the read() function, which you were able to see in action in the previous lesson.\n",
    "\n",
    "If applied to a text file, the function is able to:\n",
    "\n",
    " - read a desired number of characters (including just one) from the file, and return them as a string;\n",
    " - read all the file contents, and return them as a string;\n",
    " - if there is nothing more to read (the virtual reading head reaches the end of the file), the function returns an empty string.\n",
    "\n",
    "We'll start with the simplest variant and use a file named text.txt. The file has the following contents:\n",
    "\n",
    "Beautiful is better than ugly.\n",
    "Explicit is better than implicit.\n",
    "Simple is better than complex.\n",
    "Complex is better than complicated.\n",
    "                                    text.txt\n",
    "\n",
    "\n",
    "Now look at the code in the editor, and let's analyze it.\n",
    "\n",
    "The routine is rather simple:\n",
    "\n",
    " - use the try-except mechanism and open the file of the predetermined name (text.txt in our case)\n",
    " - try to read the very first character from the file (ch = s.read(1))\n",
    " - if you succeed (this is proven by a positive result of the while condition check), output the character (note the end= argument - it's important! You don't want to skip to a new line after every character!);\n",
    " - update the counter (cnt), too;\n",
    " - try to read the next character, and the process repeats."
   ]
  },
  {
   "cell_type": "code",
   "execution_count": 6,
   "metadata": {},
   "outputs": [
    {
     "name": "stdout",
     "output_type": "stream",
     "text": [
      "Beautiful is better than ugly.\n",
      "Explicit is better than implicit.\n",
      "Simple is better than complex.\n",
      "Complex is better than complicated.\n",
      "\n",
      "Characters in file: 131\n"
     ]
    }
   ],
   "source": [
    "from os import strerror\n",
    "\n",
    "try:\n",
    "    cnt = 0\n",
    "    s = open('c:/users/TDEM/Desktop/file.txt', \"rt\")\n",
    "    ch = s.read(1) #argument = number of characters to read at one time\n",
    "    while ch != '':\n",
    "        print(ch, end='') #end ='' so you don't skip to a new line every letter\n",
    "        cnt += 1\n",
    "        ch = s.read(1)\n",
    "    s.close()\n",
    "    print(\"\\n\\nCharacters in file:\", cnt)\n",
    "except IOError as e:\n",
    "    print(\"I/O error occurred: \", strerror(e.errno))"
   ]
  },
  {
   "cell_type": "markdown",
   "metadata": {},
   "source": [
    "4.3.1.3 - Processing text files: continued\n",
    "\n",
    "NOTE: using the read() function to read a file that is too big may corrupt your OS\n",
    "\n",
    "If you're absolutely sure that the file's length is safe and you can read the whole file to the memory at once, you can do it - the read() function, invoked without any arguments or with an argument that evaluates to None, will do the job for you.\n",
    "\n",
    "Remember - reading a terabyte-long file using this method may corrupt your OS.\n",
    "\n",
    "Don't expect miracles - computer memory isn't stretchable.\n",
    "\n",
    "Look at the code in the editor. What do you think of it?\n",
    "\n",
    "Let's analyze it:\n",
    "\n",
    "open the file as previously;\n",
    "read its contents by one read() function invocation;\n",
    "next, process the text, iterating through it with a regular for loop, and updating the counter value at each turn of the loop;\n",
    "The result will be exactly the same as previously.\n",
    "\n"
   ]
  },
  {
   "cell_type": "code",
   "execution_count": null,
   "metadata": {},
   "outputs": [],
   "source": [
    "from os import strerror\n",
    "\n",
    "try:\n",
    "    cnt = 0\n",
    "    s = open('c:/users/TDEM/Desktop/file.txt', \"rt\")\n",
    "    content = s.read() #no argument => read the entire file \n",
    "                       # NOTE: may corrupt OS if file is too big.\n",
    "    for ch in content:\n",
    "        print(ch, end='')\n",
    "        cnt += 1\n",
    "    s.close()\n",
    "    print(\"\\n\\nCharacters in file:\", cnt)\n",
    "except IOError as e:\n",
    "    print(\"I/O error occurred: \", strerr(e.errno))\n"
   ]
  },
  {
   "cell_type": "markdown",
   "metadata": {},
   "source": [
    "4.3.1.4 - Processing text files: readline()\n",
    "\n",
    "If you want to treat the file's contents as a set of lines, not a bunch of characters, the readline() method will help you with that.\n",
    "\n",
    "The method tries to read a complete line of text from the file, and returns it as a string in the case of success. Otherwise, it returns an empty string.\n",
    "\n",
    "This opens up new opportunities - now you can also count lines easily, not only characters.\n",
    "\n",
    "Let's make use of it. Look at the code in the editor.\n",
    "\n",
    "As you can see, the general idea is exactly the same as in both previous examples.\n",
    "\n",
    "\n"
   ]
  },
  {
   "cell_type": "code",
   "execution_count": 7,
   "metadata": {},
   "outputs": [
    {
     "name": "stdout",
     "output_type": "stream",
     "text": [
      "Beautiful is better than ugly.\n",
      "Explicit is better than implicit.\n",
      "Simple is better than complex.\n",
      "Complex is better than complicated.\n",
      "\n",
      "Characters in file: 131\n",
      "Lines in file:      4\n"
     ]
    }
   ],
   "source": [
    "from os import strerror\n",
    "\n",
    "try:\n",
    "    ccnt = lcnt = 0\n",
    "    s = open('c:/users/TDEM/Desktop/file.txt', 'rt')\n",
    "    line = s.readline() # reads all the lines\n",
    "    while line != '':\n",
    "        lcnt += 1\n",
    "        for ch in line:\n",
    "            print(ch, end='')\n",
    "            ccnt += 1\n",
    "        line = s.readline()\n",
    "    s.close()\n",
    "    print(\"\\n\\nCharacters in file:\", ccnt)\n",
    "    print(\"Lines in file:     \", lcnt)\n",
    "except IOError as e:\n",
    "    print(\"I/O error occurred:\", strerror(e.errno))\n"
   ]
  },
  {
   "cell_type": "markdown",
   "metadata": {},
   "source": [
    "4.3.1.5 - Processing text files: readlines()\n",
    "\n",
    "Another method, which treats text file as a set of lines, not characters, is readlines().\n",
    "\n",
    "The readlines() method, when invoked without arguments, tries to read all the file contents, and returns a list of strings, one element per file line.\n",
    "\n",
    "If you're not sure if the file size is small enough and don't want to test the OS, you can convince the readlines() method to read not more than a specified number of bytes at once (the returning value remains the same - it's a list of a string).\n",
    "\n",
    "Feel free to experiment with the following example code to understand how the readlines() method works:\n",
    "\n",
    "s = open(\"text.txt\")\n",
    "print(s.readlines(20))\n",
    "print(s.readlines(20))\n",
    "print(s.readlines(20))\n",
    "print(s.readlines(20))\n",
    "s.close()\n",
    "\n",
    "\n",
    "The maximum accepted input buffer size is passed to the method as its argument.\n",
    "\n",
    "You may expect that readlines() can process a file's contents more effectively than readline(), as it may need to be invoked fewer times.\n",
    "\n",
    "Note: when there is nothing to read from the file, the method returns an empty list. Use it to detect the end of the file.\n",
    "\n",
    "To the extent of the buffer's size, you can expect that increasing it may improve input performance, but there is no golden rule for it - try to find the optimal values yourself.\n",
    "\n",
    "\n",
    "Look at the code in the editor. We've modified it to show you how to use readlines().\n",
    "\n",
    "We've decided to use a 15-byte-long buffer. Don't think it's a recommendation.\n",
    "\n",
    "We've used such a value to avoid the situation in which the first readlines() invocation consumes the whole file.\n",
    "\n",
    "We want the method to be forced to work harder, and to demonstrate its capabilities.\n",
    "\n",
    "There are two nested loops in the code: the outer one uses readlines()'s result to iterate through it, while the inner one prints the lines character by character."
   ]
  },
  {
   "cell_type": "code",
   "execution_count": 12,
   "metadata": {},
   "outputs": [
    {
     "name": "stdout",
     "output_type": "stream",
     "text": [
      "Beautiful is better than ugly.\n",
      "Explicit is better than implicit.\n",
      "Simple is better than complex.\n",
      "Complex is better than complicated.\n",
      "\n",
      "Characters in file: 131\n",
      "Lines in file:      4\n"
     ]
    }
   ],
   "source": [
    "from os import strerror\n",
    "\n",
    "try:\n",
    "    ccnt = lcnt = 0\n",
    "    s = open('c:/users/TDEM/Desktop/file.txt', 'rt')\n",
    "    lines = s.readlines(20)\n",
    "    while len(lines) != 0:\n",
    "        for line in lines:\n",
    "            lcnt += 1\n",
    "            for ch in line:\n",
    "                print(ch, end='')\n",
    "                ccnt += 1\n",
    "        lines = s.readlines(10)\n",
    "    s.close()\n",
    "    print(\"\\n\\nCharacters in file:\", ccnt)\n",
    "    print(\"Lines in file:     \", lcnt)\n",
    "except IOError as e:\n",
    "    print(\"I/O error occurred:\", strerror(e.errno))\n"
   ]
  },
  {
   "cell_type": "code",
   "execution_count": 11,
   "metadata": {},
   "outputs": [
    {
     "name": "stdout",
     "output_type": "stream",
     "text": [
      "['Beautiful is better than ugly.\\n']\n",
      "['Explicit is better than implicit.\\n']\n",
      "['Simple is better than complex.\\n']\n",
      "['Complex is better than complicated.']\n",
      "[]\n"
     ]
    }
   ],
   "source": [
    "from os import strerror\n",
    "\n",
    "try:\n",
    "    s = open('c:/users/TDEM/Desktop/file.txt', 'rt')\n",
    "    print(s.readlines(20)) #argument => maximum input buffer is 20 bytes\n",
    "    print(s.readlines(20))\n",
    "    print(s.readlines(20))\n",
    "    print(s.readlines(20))\n",
    "#NOTE: when there is nothing else from the file to read => an empty list is returned\n",
    "    print(s.readlines(20)) \n",
    "    s.close()\n",
    "except IOError as e:\n",
    "    print(\"I/O error occurred:\", strerror(e.errno))\n",
    "\n"
   ]
  },
  {
   "cell_type": "markdown",
   "metadata": {},
   "source": [
    "4.3.1.6 - Processing text files: continued\n",
    "\n",
    "The last example we want to present shows a very interesting trait of the object returned by the open() function in text mode.\n",
    "\n",
    "We think it may surprise you - the object is an instance of the iterable class.\n",
    "\n",
    "Strange? Not at all. Usable? Yes, absolutely.\n",
    "\n",
    "The iteration protocol defined for the file object is very simple - its __next__ method just returns the next line read in from the file.\n",
    "\n",
    "Moreover, you can expect that the object automatically invokes close() when any of the file reads reaches the end of the file.\n",
    "\n",
    "Look at the editor and see how simple and clear the code has now become.\n",
    "\n"
   ]
  },
  {
   "cell_type": "code",
   "execution_count": 13,
   "metadata": {},
   "outputs": [
    {
     "name": "stdout",
     "output_type": "stream",
     "text": [
      "Beautiful is better than ugly.\n",
      "Explicit is better than implicit.\n",
      "Simple is better than complex.\n",
      "Complex is better than complicated.\n",
      "\n",
      "Characters in file: 131\n",
      "Lines in file:      4\n"
     ]
    }
   ],
   "source": [
    "# object returned by open() function:\n",
    "#       => the object is an instance of the iterable class\n",
    "#       => the iteration protocol defined for the file object is __next__ method => just returns the next line read in from the file\n",
    "#       => you can expect that the object automatically invokes close() when any of the file reads reaches the end of the file\n",
    "\n",
    "from os import strerror\n",
    "\n",
    "try:\n",
    "\tccnt = lcnt = 0\n",
    "\tfor line in open('c:/users/TDEM/Desktop/file.txt', 'rt'):\n",
    "\t\tlcnt += 1\n",
    "\t\tfor ch in line:\n",
    "\t\t\tprint(ch, end='')\n",
    "\t\t\tccnt += 1\n",
    "\tprint(\"\\n\\nCharacters in file:\", ccnt)\n",
    "\tprint(\"Lines in file:     \", lcnt)\n",
    "except IOError as e:\n",
    "\tprint(\"I/O error occurred: \", strerror(e.errno))\n"
   ]
  },
  {
   "cell_type": "markdown",
   "metadata": {},
   "source": [
    "4.3.1.7 - Dealing with text files: write()\n",
    "Writing text files seems to be simpler, as in fact there is one method that can be used to perform such a task.\n",
    "\n",
    "The method is named write() and it expects just one argument - a string that will be transferred to an open file (don't forget - the open mode should reflect the way in which the data is transferred - writing a file opened in read mode won't succeed).\n",
    "\n",
    "No newline character is added to the write()'s argument, so you have to add it yourself if you want the file to be filled with a number of lines.\n",
    "\n",
    "The example in the editor shows a very simple code that creates a file named newtext.txt (note: the open mode w ensures that the file will be created from scratch, even if it exists and contains data) and then puts ten lines into it.\n",
    "\n",
    "The string to be recorded consists of the word line, followed by the line number. We've decided to write the string's contents character by character (this is done by the inner for loop) but you're not obliged to do it in this way.\n",
    "\n",
    "We just wanted to show you that write() is able to operate on single characters.\n",
    "\n",
    "The code creates a file filled with the following text:\n",
    "\n",
    "line #1\n",
    "line #2\n",
    "line #3\n",
    "line #4\n",
    "line #5\n",
    "line #6\n",
    "line #7\n",
    "line #8\n",
    "line #9\n",
    "line #10\n",
    "output\n",
    "\n",
    "\n",
    "Can you print the file's contents to the console?\n",
    "\n",
    "We encourage you to test the behavior of the write() method locally on your machine."
   ]
  },
  {
   "cell_type": "code",
   "execution_count": 1,
   "metadata": {},
   "outputs": [],
   "source": [
    "from os import strerror\n",
    "\n",
    "try:\n",
    "\tfo = open('c:/users/TDEM/Desktop/newtext.txt', 'wt') # A new file (newtext.txt) is created.\n",
    "\tfor i in range(10):\n",
    "\t\ts = \"line #\" + str(i+1) + \"\\n\"\n",
    "\t\tfor ch in s:\n",
    "\t\t\tfo.write(ch) #write is able to operate on single characters\n",
    "\tfo.close()\n",
    "except IOError as e:\n",
    "\tprint(\"I/O error occurred: \", strerror(e.errno))\n"
   ]
  },
  {
   "cell_type": "code",
   "execution_count": 4,
   "metadata": {},
   "outputs": [],
   "source": [
    "from os import strerror\n",
    "\n",
    "try:\n",
    "    fo = open('c:/users/TDEM/Desktop/newtext1.txt', 'wt')\n",
    "    line1 = \"Hey how are you doing.\"\n",
    "    fo.write(line1)\n",
    "    fo.close()\n",
    "except IOError as e:\n",
    "\tprint(\"I/O error occurred: \", strerror(e.errno))"
   ]
  },
  {
   "cell_type": "markdown",
   "metadata": {},
   "source": [
    "4.3.1.8 - Dealing with text files: continued\n",
    "\n",
    "Look at the example in the editor. We've modified the previous code to write whole lines to the text file.\n",
    "\n",
    "The contents of the newly created file are the same.\n",
    "\n",
    "Note: you can use the same method to write to the stderr stream, but don't try to open it, as it's always open implicitly.\n",
    "\n",
    "For example, if you want to send a message string to stderr to distinguish it from normal program output, it may look like this:\n",
    "\n",
    "import sys\n",
    "sys.stderr.write(\"Error message\")\n",
    "\n",
    "\n"
   ]
  },
  {
   "cell_type": "code",
   "execution_count": 6,
   "metadata": {},
   "outputs": [],
   "source": [
    "#modified to to write whole lines to the text file\n",
    "\n",
    "from os import strerror\n",
    "\n",
    "try:\n",
    "    fo = open('c:/users/TDEM/Desktop/newtext1.txt', 'wt')\n",
    "    for i in range(10):\n",
    "        fo.write(\"line #\" + str(i+1) + \"\\n\")\n",
    "    fo.close()\n",
    "except IOError as e:\n",
    "    print(\"I/O error occurred: \", strerror(e.errno))\n"
   ]
  },
  {
   "cell_type": "code",
   "execution_count": 7,
   "metadata": {},
   "outputs": [
    {
     "name": "stderr",
     "output_type": "stream",
     "text": [
      "Error message"
     ]
    },
    {
     "data": {
      "text/plain": [
       "13"
      ]
     },
     "execution_count": 7,
     "metadata": {},
     "output_type": "execute_result"
    }
   ],
   "source": [
    "import sys\n",
    "sys.stderr.write(\"Error message\")"
   ]
  },
  {
   "cell_type": "markdown",
   "metadata": {},
   "source": [
    "4.3.1.9 - What is a bytearray?\n",
    "Before we start talking about binary files, we have to tell you about one of the specialized classes Python uses to store amorphous data.\n",
    "\n",
    "Amorphous data is data which have no specific shape or form - they are just a series of bytes.\n",
    "\n",
    "This doesn't mean that these bytes cannot have their own meaning, or cannot represent any useful object, e.g., bitmap graphics.\n",
    "\n",
    "The most important aspect of this is that in the place where we have contact with the data, we are not able to, or simply don't want to, know anything about it.\n",
    "\n",
    "Amorphous data cannot be stored using any of the previously presented means - they are neither strings nor lists.\n",
    "\n",
    "There should be a special container able to handle such data.\n",
    "\n",
    "\n",
    "\n",
    "\n",
    "Python has more than one such container - one of them is a specialized class name bytearray - as the name suggests, it's an array containing (amorphous) bytes.\n",
    "\n",
    "If you want to have such a container, e.g., in order to read in a bitmap image and process it in any way, you need to create it explicitly, using one of available constructors.\n",
    "\n",
    "Take a look:\n",
    "\n",
    "data = bytearray(10)\n",
    "\n",
    "\n",
    "Such an invocation creates a bytearray object able to store ten bytes.\n",
    "\n",
    "Note: such a constructor fills the whole array with zeros.\n"
   ]
  },
  {
   "cell_type": "markdown",
   "metadata": {},
   "source": [
    "4.3.1.10 - Bytearrays: continued\n",
    "\n",
    "Bytearrays resemble lists in many respects. For example, they are mutable, they're a subject of the len() function, and you can access any of their elements using conventional indexing.\n",
    "\n",
    "There is one important limitation - you mustn't set any byte array elements with a value which is not an integer (violating this rule will cause a TypeError exception) and you're not allowed to assign a value that doesn't come from the range 0 to 255 inclusive (unless you want to provoke a ValueError exception).\n",
    "\n",
    "You can treat any byte array elements as integer values - just like in the example in the editor.\n",
    "\n",
    "Note: we've used two methods to iterate the byte arrays, and made use of the hex() function to see the elements printed as hexadecimal values.\n",
    "\n",
    "Now we're going to show you how to write a byte array to a binary file - binary, as we don't want to save its readable representation - we want to write a one-to-one copy of the physical memory content, byte by byte.\n",
    "\n"
   ]
  },
  {
   "cell_type": "code",
   "execution_count": 8,
   "metadata": {},
   "outputs": [
    {
     "name": "stdout",
     "output_type": "stream",
     "text": [
      "0xa\n",
      "0x9\n",
      "0x8\n",
      "0x7\n",
      "0x6\n",
      "0x5\n",
      "0x4\n",
      "0x3\n",
      "0x2\n",
      "0x1\n"
     ]
    }
   ],
   "source": [
    "data = bytearray(10)\n",
    "\n",
    "for i in range(len(data)):\n",
    "    data[i] = 10 - i\n",
    "\n",
    "for b in data:\n",
    "    print(hex(b))\n"
   ]
  },
  {
   "cell_type": "markdown",
   "metadata": {},
   "source": [
    "4.3.1.11 - Bytearrays: continued\n",
    "So, how do we write a byte array to a binary file?\n",
    "\n",
    "Look at the code in the editor. Let's analyze it:\n",
    "\n",
    "first, we initialize bytearray with subsequent values starting from 10; if you want the file's contents to be clearly readable, replace 10 with something like ord('a') - this will produce bytes containing values corresponding to the alphabetical part of the ASCII code (don't think it will make the file a text file - it's still binary, as it was created with a wb flag);\n",
    "then, we create the file using the open() function - the only difference compared to the previous variants is the open mode containing the b flag;\n",
    "the write() method takes its argument (bytearray) and sends it (as a whole) to the file;\n",
    "the stream is then closed in a routine way.\n",
    "The write() method returns a number of successfully written bytes.\n",
    "\n",
    "If the values differ from the length of the method's arguments, it may announce some write errors.\n",
    "\n",
    "In this case, we haven't made use of the result - this may not be appropriate in every case.\n",
    "\n",
    "Try to run the code and analyze the contents of the newly created output file.\n",
    "\n",
    "You're going to use it in the next step.\n",
    "\n",
    "\n",
    "How to read bytes from a stream\n",
    "Reading from a binary file requires use of a specialized method name readinto(), as the method doesn't create a new byte array object, but fills a previously created one with the values taken from the binary file.\n",
    "\n",
    "Note:\n",
    "\n",
    "the method returns the number of successfully read bytes;\n",
    "the method tries to fill the whole space available inside its argument; if there are more data in the file than space in the argument, the read operation will stop before the end of the file; otherwise, the method's result may indicate that the byte array has only been filled fragmentarily (the result will show you that, too, and the part of the array not being used by the newly read contents remains untouched)\n",
    "Look at the complete code below:\n",
    "\n",
    "from os import strerror\n",
    "\n",
    "data = bytearray(10)\n",
    "\n",
    "try:\n",
    "    bf = open('file.bin', 'rb')\n",
    "    bf.readinto(data)\n",
    "    bf.close()\n",
    "\n",
    "    for b in data:\n",
    "        print(hex(b), end=' ')\n",
    "except IOError as e:\n",
    "    print(\"I/O error occurred:\", strerror(e.errno))\n",
    "\n",
    "\n",
    "Let's analyze it:\n",
    "\n",
    "first, we open the file (the one you created using the previous code) with the mode described as rb;\n",
    "then, we read its contents into the byte array named data, of size ten bytes;\n",
    "finally, we print the byte array contents - are they the same as you expected?\n",
    "Run the code and check if it's working."
   ]
  },
  {
   "cell_type": "code",
   "execution_count": 9,
   "metadata": {},
   "outputs": [],
   "source": [
    "from os import strerror\n",
    "\n",
    "data = bytearray(10)\n",
    "\n",
    "for i in range(len(data)):\n",
    "    data[i] = 10 + i\n",
    "\n",
    "try:\n",
    "    bf = open('c:/users/TDEM/Desktop/file1.bin', 'wb')\n",
    "    bf.write(data)\n",
    "    bf.close()\n",
    "except IOError as e:\n",
    "    print(\"I/O error occurred:\", strerror(e.errno))\n",
    "\n",
    "# Your code that reads bytes from the stream should go here.\n"
   ]
  },
  {
   "cell_type": "code",
   "execution_count": 10,
   "metadata": {},
   "outputs": [
    {
     "name": "stdout",
     "output_type": "stream",
     "text": [
      "0xa 0xb 0xc 0xd 0xe 0xf 0x10 0x11 0x12 0x13 "
     ]
    }
   ],
   "source": [
    "# code that reads into the binary file\n",
    "\n",
    "from os import strerror\n",
    "\n",
    "data = bytearray(10)\n",
    "\n",
    "try:\n",
    "    bf = open('c:/users/TDEM/Desktop/file1.bin', 'rb')\n",
    "    bf.readinto(data) # reads the contents into the bytearray named data\n",
    "    bf.close()\n",
    "\n",
    "    for b in data:\n",
    "        print(hex(b), end=' ')\n",
    "except IOError as e:\n",
    "    print(\"I/O error occurred:\", strerror(e.errno))\n",
    "\n"
   ]
  },
  {
   "cell_type": "markdown",
   "metadata": {},
   "source": [
    "4.3.1.12 - How to read bytes from a stream\n",
    "An alternative way of reading the contents of a binary file is offered by the method named read().\n",
    "\n",
    "Invoked without arguments, it tries to read all the contents of the file into the memory, making them a part of a newly created object of the bytes class.\n",
    "\n",
    "This class has some similarities to bytearray, with the exception of one significant difference - it's immutable.\n",
    "\n",
    "Fortunately, there are no obstacles to creating a byte array by taking its initial value directly from the bytes object, just like here:\n",
    "\n",
    "from os import strerror\n",
    "\n",
    "try:\n",
    "    bf = open('file.bin', 'rb')\n",
    "    data = bytearray(bf.read())\n",
    "    bf.close()\n",
    "\n",
    "    for b in data:\n",
    "        print(hex(b), end=' ')\n",
    "\n",
    "except IOError as e:\n",
    "    print(\"I/O error occurred:\", strerror(e.errno))\n",
    "\n",
    "\n",
    "Be careful - don't use this kind of read if you're not sure that the file's contents will fit the available memory.\n",
    "\n"
   ]
  },
  {
   "cell_type": "code",
   "execution_count": null,
   "metadata": {},
   "outputs": [],
   "source": [
    "from os import strerror\n",
    "\n",
    "data = bytearray(10)\n",
    "\n",
    "for i in range(len(data)):\n",
    "    data[i] = 10 + i\n",
    "\n",
    "try:\n",
    "    bf = open('c:/users/TDEM/Desktop/file2.bin', 'wb')\n",
    "    bf.write(data)\n",
    "    bf.close()\n",
    "except IOError as e:\n",
    "    print(\"I/O error occurred:\", strerror(e.errno))\n",
    "\n",
    "# Your code that reads bytes from the stream should go here.\n"
   ]
  },
  {
   "cell_type": "code",
   "execution_count": null,
   "metadata": {},
   "outputs": [],
   "source": [
    "#NOTE: don't use this kind of read if you're not sure that the \n",
    "#      file's contents will fit the available memory\n",
    "\n",
    "from os import strerror\n",
    "\n",
    "try:\n",
    "    bf = open('c:/users/TDEM/Desktop/file2.bin', 'rb')\n",
    "    data = bytearray(bf.read())\n",
    "    bf.close()\n",
    "\n",
    "    for b in data:\n",
    "        print(hex(b), end=' ')\n",
    "\n",
    "except IOError as e:\n",
    "    print(\"I/O error occurred:\", strerror(e.errno))\n",
    "\n"
   ]
  },
  {
   "cell_type": "markdown",
   "metadata": {},
   "source": [
    "4.3.1.14 - Copying files - a simple and functional tool\n",
    "Now you're going to amalgamate all this new knowledge, add some fresh elements to it, and use it to write a real code which is able to actually copy a file's contents.\n",
    "\n",
    "Of course, the purpose is not to make a better replacement for commands like copy (MS Windows) or cp (Unix/Linux) but to see one possible way of creating a working tool, even if nobody wants to use it.\n",
    "\n",
    "Look at the code in the editor. Let's analyze it:\n",
    "\n",
    " - lines 3 through 8: ask the user for the name of the file to copy, and try to open it to read; terminate the program execution if the open fails; note: use the exit() function to stop program execution and to pass the completion code to the OS; any completion code other than 0 says that the program has encountered some problems; use the errno value to specify the nature of the issue;\n",
    " - lines 10 through 16: repeat nearly the same action, but this time for the output file;\n",
    " - line 18: prepare a piece of memory for transferring data from the source file to the target one; such a transfer area is often called a buffer, hence the name of the variable; the size of the buffer is arbitrary - in this case, we decided to use 64 kilobytes; technically, a larger buffer is faster at copying items, as a larger buffer means fewer I/O operations; actually, there is always a limit, the crossing of which renders no further improvements; test it yourself if you want.\n",
    " - line 19: count the bytes copied - this is the counter and its initial value;\n",
    " - line 21: try to fill the buffer for the very first time;\n",
    " - line 22: as long as you get a non-zero number of bytes, repeat the same actions;\n",
    " - line 23: write the buffer's contents to the output file (note: we've used a slice to limit the number of bytes being written, as write() always prefer to write the whole buffer)\n",
    " - line 24: update the counter;\n",
    " - line 25: read the next file chunk;\n",
    " - lines 30 through 32: some final cleaning - the job is done.\n",
    "\n"
   ]
  },
  {
   "cell_type": "code",
   "execution_count": 11,
   "metadata": {},
   "outputs": [
    {
     "name": "stdout",
     "output_type": "stream",
     "text": [
      "91 byte(s) succesfully written\n"
     ]
    }
   ],
   "source": [
    "from os import strerror\n",
    "\n",
    "srcname = input(\"Enter the source file name: \")\n",
    "try:\n",
    "    src = open(srcname, 'rb')\n",
    "except IOError as e:\n",
    "    print(\"Cannot open the source file: \", strerror(e.errno))\n",
    "    exit(e.errno)\t\n",
    "\n",
    "dstname = input(\"Enter the destination file name: \")\n",
    "try:\n",
    "    dst = open(dstname, 'wb')\n",
    "except Exception as e:\n",
    "    print(\"Cannot create the destination file: \", strerror(e.errno))\n",
    "    src.close()\n",
    "    exit(e.errno)\t\n",
    "\n",
    "buffer = bytearray(65536) #create buffer\n",
    "total  = 0 # counter\n",
    "try:\n",
    "    readin = src.readinto(buffer)\n",
    "    while readin > 0:\n",
    "        written = dst.write(buffer[:readin])\n",
    "        total += written\n",
    "        readin = src.readinto(buffer)\n",
    "except IOError as e:\n",
    "    print(\"Cannot create the destination file: \", strerror(e.errno))\n",
    "    exit(e.errno)\t\n",
    "    \n",
    "print(total,'byte(s) succesfully written')\n",
    "src.close()\n",
    "dst.close()\n"
   ]
  }
 ],
 "metadata": {
  "interpreter": {
   "hash": "b78c21ee4300035dc702c1248f36619584a967018b0e3362776c2639c116c18c"
  },
  "kernelspec": {
   "display_name": "Python 3.10.4 64-bit",
   "language": "python",
   "name": "python3"
  },
  "language_info": {
   "codemirror_mode": {
    "name": "ipython",
    "version": 3
   },
   "file_extension": ".py",
   "mimetype": "text/x-python",
   "name": "python",
   "nbconvert_exporter": "python",
   "pygments_lexer": "ipython3",
   "version": "3.10.4"
  },
  "orig_nbformat": 4
 },
 "nbformat": 4,
 "nbformat_minor": 2
}
