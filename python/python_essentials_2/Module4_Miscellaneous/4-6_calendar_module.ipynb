{
 "cells": [
  {
   "cell_type": "markdown",
   "metadata": {},
   "source": [
    "4.6 - The Calendar Module"
   ]
  },
  {
   "cell_type": "markdown",
   "metadata": {},
   "source": [
    "4.6.1.1 - Introduction to the calendar module\n",
    "\n",
    "In addition to the datetime and time modules, the Python standard library provides a module called calendar which, as the name suggests, offers calendar-related functions.\n",
    "\n",
    "One of them is of course displaying the calendar. It's important that the days of the week are displayed from Monday to Sunday, and each day of the week has its representation in the form of an integer:\n",
    "\n",
    "Day of the week\t      Integer value\t  Constant\n",
    "Monday\t              0\t              calendar.MONDAY\n",
    "Tuesday\t              1\t              calendar.TUESDAY\n",
    "Wednesday\t          2\t              calendar.WEDNESDAY\n",
    "Thursday\t          3\t              calendar.THURSDAY\n",
    "Friday\t              4\t              calendar.FRIDAY\n",
    "Saturday\t          5\t              calendar.SATURDAY\n",
    "Sunday\t              6\t              calendar.SUNDAY\n",
    "\n",
    "The table above shows the representation of the days of the week in the calendar module. The first day of the week (Monday) is represented by the value 0 and the calendar.MONDAY constant, while the last day of the week (Sunday) is represented by the value 6 and the calendar.SUNDAY constant.\n",
    "\n",
    "\n",
    "A snake and a calendar\n",
    "\n",
    "\n",
    "For months, integer values are indexed from 1, i.e., January is represented by 1, and December by 12. Unfortunately, there aren't constants that express the months.\n",
    "\n",
    "The above information will be useful to you when working with the calendar module in this part of the course, but first let's start with some simple calendar examples.\n",
    "\n"
   ]
  },
  {
   "cell_type": "markdown",
   "metadata": {},
   "source": [
    "4.6.1.2 - Your first calendar\n",
    "\n",
    "You will start your adventure with the calendar module with a simple function called calendar, which allows you to display the calendar for the whole year. Let's look at how to use it to display the calendar for 2020. Run the code in the editor and see what happens.\n",
    "\n",
    "The result displayed is similar to the result of the cal command available in Unix. If you want to change the default calendar formatting, you can use the following parameters:\n",
    "\n",
    " - w – date column width (default 2)\n",
    " - l – number of lines per week (default 1)\n",
    " - c – number of spaces between month columns (default 6)\n",
    " - m – number of columns (default 3)\n",
    "\n",
    "The calendar function requires you to specify the year, while the other parameters responsible for formatting are optional. We encourage you to try these parameters yourself.\n",
    "\n",
    "A good alternative to the above function is the function called prcal, which also takes the same parameters as the calendar function, but doesn't require the use of the print function to display the calendar. Its use looks like this:\n",
    "\n",
    "import calendar\n",
    "calendar.prcal(2020)"
   ]
  },
  {
   "cell_type": "code",
   "execution_count": 1,
   "metadata": {},
   "outputs": [
    {
     "name": "stdout",
     "output_type": "stream",
     "text": [
      "                                  2022\n",
      "\n",
      "      January                   February                   March\n",
      "Mo Tu We Th Fr Sa Su      Mo Tu We Th Fr Sa Su      Mo Tu We Th Fr Sa Su\n",
      "                1  2          1  2  3  4  5  6          1  2  3  4  5  6\n",
      " 3  4  5  6  7  8  9       7  8  9 10 11 12 13       7  8  9 10 11 12 13\n",
      "10 11 12 13 14 15 16      14 15 16 17 18 19 20      14 15 16 17 18 19 20\n",
      "17 18 19 20 21 22 23      21 22 23 24 25 26 27      21 22 23 24 25 26 27\n",
      "24 25 26 27 28 29 30      28                        28 29 30 31\n",
      "31\n",
      "\n",
      "       April                      May                       June\n",
      "Mo Tu We Th Fr Sa Su      Mo Tu We Th Fr Sa Su      Mo Tu We Th Fr Sa Su\n",
      "             1  2  3                         1             1  2  3  4  5\n",
      " 4  5  6  7  8  9 10       2  3  4  5  6  7  8       6  7  8  9 10 11 12\n",
      "11 12 13 14 15 16 17       9 10 11 12 13 14 15      13 14 15 16 17 18 19\n",
      "18 19 20 21 22 23 24      16 17 18 19 20 21 22      20 21 22 23 24 25 26\n",
      "25 26 27 28 29 30         23 24 25 26 27 28 29      27 28 29 30\n",
      "                          30 31\n",
      "\n",
      "        July                     August                  September\n",
      "Mo Tu We Th Fr Sa Su      Mo Tu We Th Fr Sa Su      Mo Tu We Th Fr Sa Su\n",
      "             1  2  3       1  2  3  4  5  6  7                1  2  3  4\n",
      " 4  5  6  7  8  9 10       8  9 10 11 12 13 14       5  6  7  8  9 10 11\n",
      "11 12 13 14 15 16 17      15 16 17 18 19 20 21      12 13 14 15 16 17 18\n",
      "18 19 20 21 22 23 24      22 23 24 25 26 27 28      19 20 21 22 23 24 25\n",
      "25 26 27 28 29 30 31      29 30 31                  26 27 28 29 30\n",
      "\n",
      "      October                   November                  December\n",
      "Mo Tu We Th Fr Sa Su      Mo Tu We Th Fr Sa Su      Mo Tu We Th Fr Sa Su\n",
      "                1  2          1  2  3  4  5  6                1  2  3  4\n",
      " 3  4  5  6  7  8  9       7  8  9 10 11 12 13       5  6  7  8  9 10 11\n",
      "10 11 12 13 14 15 16      14 15 16 17 18 19 20      12 13 14 15 16 17 18\n",
      "17 18 19 20 21 22 23      21 22 23 24 25 26 27      19 20 21 22 23 24 25\n",
      "24 25 26 27 28 29 30      28 29 30                  26 27 28 29 30 31\n",
      "31\n",
      "\n"
     ]
    }
   ],
   "source": [
    "import calendar\n",
    "\n",
    "print(calendar.calendar(2022))\n"
   ]
  },
  {
   "cell_type": "markdown",
   "metadata": {},
   "source": [
    "4.6.1.3 - Calendar for a specific month\n",
    "\n",
    "The calendar module has a function called month, which allows you to display a calendar for a specific month. Its use is really simple, you just need to specify the year and month - check out the code in the editor.\n",
    "\n",
    "The example displays the calendar for November 2020. As in the calendar function, you can change the default formatting using the following parameters:\n",
    " - w – date column width (default 2)\n",
    " - l – number of lines per week (default 1)\n",
    "\n",
    "Note: You can also use the prmonth function, which has the same parameters as the month function, but doesn't require you to use the print function to display the calendar."
   ]
  },
  {
   "cell_type": "code",
   "execution_count": 2,
   "metadata": {},
   "outputs": [
    {
     "name": "stdout",
     "output_type": "stream",
     "text": [
      "      May 2022\n",
      "Mo Tu We Th Fr Sa Su\n",
      "                   1\n",
      " 2  3  4  5  6  7  8\n",
      " 9 10 11 12 13 14 15\n",
      "16 17 18 19 20 21 22\n",
      "23 24 25 26 27 28 29\n",
      "30 31\n",
      "\n"
     ]
    }
   ],
   "source": [
    "import calendar\n",
    "print(calendar.month(2022, 5))"
   ]
  },
  {
   "cell_type": "code",
   "execution_count": 3,
   "metadata": {},
   "outputs": [
    {
     "name": "stdout",
     "output_type": "stream",
     "text": [
      "      May 2022\n",
      "Mo Tu We Th Fr Sa Su\n",
      "                   1\n",
      " 2  3  4  5  6  7  8\n",
      " 9 10 11 12 13 14 15\n",
      "16 17 18 19 20 21 22\n",
      "23 24 25 26 27 28 29\n",
      "30 31\n"
     ]
    }
   ],
   "source": [
    "import calendar\n",
    "calendar.prmonth(2022, 5) #prmonth function doesn't require the print function"
   ]
  },
  {
   "cell_type": "markdown",
   "metadata": {},
   "source": [
    "4.6.1.4 - The setfirstweekday() function\n",
    "\n",
    "As you already know, by default in the calendar module, the first day of the week is Monday. However, you can change this behavior using a function called setfirstweekday.\n",
    "\n",
    "Do you remember the table showing the days of the week and their representation in the form of integer values? It's time to use it, because the setfirstweekday method requires a parameter expressing the day of the week in the form of an integer value. Take a look at the example in the editor.\n",
    "\n",
    "The example uses the calendar.SUNDAY constant, which contains a value of 6. Of course, you could pass this value directly to the setfirstweekday function, but the version with a constant is more elegant.\n",
    "\n",
    "As a result, we get a calendar showing the month of December 2020, in which the first day of all the weeks is Sunday."
   ]
  },
  {
   "cell_type": "code",
   "execution_count": 4,
   "metadata": {},
   "outputs": [
    {
     "name": "stdout",
     "output_type": "stream",
     "text": [
      "      May 2022\n",
      "Su Mo Tu We Th Fr Sa\n",
      " 1  2  3  4  5  6  7\n",
      " 8  9 10 11 12 13 14\n",
      "15 16 17 18 19 20 21\n",
      "22 23 24 25 26 27 28\n",
      "29 30 31\n"
     ]
    }
   ],
   "source": [
    "import calendar\n",
    "\n",
    "calendar.setfirstweekday(calendar.SUNDAY)\n",
    "calendar.prmonth(2022, 5)"
   ]
  },
  {
   "cell_type": "markdown",
   "metadata": {},
   "source": [
    "4.6.1.5 - The weekday() function\n",
    "\n",
    "Another useful function provided by the calendar module is the function called weekday, which returns the day of the week as an integer value for the given year, month, and day. Let's see it in practice.\n",
    "\n",
    "Run the code in the editor to check the day of the week that falls on December 24, 2020.\n",
    "\n",
    "Result:\n",
    "\n",
    "3\n",
    "output\n",
    "\n",
    "The weekday function returns 3, which means that December 24, 2020 is a Thursday."
   ]
  },
  {
   "cell_type": "code",
   "execution_count": 5,
   "metadata": {},
   "outputs": [
    {
     "name": "stdout",
     "output_type": "stream",
     "text": [
      "3\n"
     ]
    }
   ],
   "source": [
    "import calendar\n",
    "print(calendar.weekday(2020, 12, 24))"
   ]
  },
  {
   "cell_type": "markdown",
   "metadata": {},
   "source": [
    "4.6.1.6 - The weekheader() function\n",
    "\n",
    "You've probably noticed that the calendar contains weekly headers in a shortened form. If needed, you can get short weekday names using the weekheader method.\n",
    "\n",
    "The weekheader method requires you to specify the width in characters for one day of the week. If the width you provide is greater than 3, you'll still get the abbreviated weekday names consisting of three characters.\n",
    "\n",
    "So let's look at how to get a smaller header. Run the code in the editor.\n",
    "\n",
    "Result:\n",
    "\n",
    "Mo Tu We Th Fr Sa Su\n",
    "output\n",
    "\n",
    "Note: If you change the first day of the week, e.g., using the setfirstweekday function, it'll affect the result of the weekheader function."
   ]
  },
  {
   "cell_type": "code",
   "execution_count": 7,
   "metadata": {},
   "outputs": [
    {
     "name": "stdout",
     "output_type": "stream",
     "text": [
      "Mo Tu We Th Fr Sa Su\n"
     ]
    }
   ],
   "source": [
    "import calendar\n",
    "calendar.setfirstweekday(calendar.MONDAY)\n",
    "print(calendar.weekheader(2))"
   ]
  },
  {
   "cell_type": "markdown",
   "metadata": {},
   "source": [
    "4.6.1.7 - How do we check if a year is a leap year?\n",
    "\n",
    "The calendar module provides two useful functions to check whether years are leap years.\n",
    "\n",
    "February 29th\n",
    "\n",
    "\n",
    "The first one, called isleap, returns True if the passed year is leap, or False otherwise. The second one, called leapdays, returns the number of leap years in the given range of years.\n",
    "\n",
    "Run the code in the editor.\n",
    "\n",
    "Result:\n",
    "\n",
    "True\n",
    "3\n",
    "output\n",
    "\n",
    "In the example, we obtain the result 3, because in the period from 2010 to 2020 there are only three leap years (note: 2021 is not included). They are the years 2012, 2016, and 2020."
   ]
  },
  {
   "cell_type": "code",
   "execution_count": 8,
   "metadata": {},
   "outputs": [
    {
     "name": "stdout",
     "output_type": "stream",
     "text": [
      "True\n",
      "3\n"
     ]
    }
   ],
   "source": [
    "import calendar\n",
    "\n",
    "print(calendar.isleap(2020))\n",
    "print(calendar.leapdays(2010, 2021))  # Up to but not including 2021."
   ]
  },
  {
   "cell_type": "markdown",
   "metadata": {},
   "source": [
    "4.6.1.8 - Classes for creating calendars\n",
    "The presented functions aren't everything the calendar module offers. In addition to them, we can use the following classes:\n",
    " - calendar.Calendar – provides methods to prepare calendar data for formatting;\n",
    " - calendar.TextCalendar – is used to create regular text calendars;\n",
    " - calendar.HTMLCalendar – is used to create HTML calendars;\n",
    " - calendar.LocalTextCalendar – is a subclass of the calendar.TextCalendar class. The constructor of this class takes the locale parameter, which is used to return the appropriate months and weekday names.\n",
    " - calendar.LocalHTMLCalendar – is a subclass of the calendar.HTMLCalendar class. The constructor of this class takes the locale parameter, which is used to return the appropriate months and weekday names.\n",
    "\n",
    "During this course, you've already had the opportunity to create text calendars when discussing the functions of the calendar module.\n",
    "\n",
    "Time to try something new. Let's take a closer look at the methods of the calendar class.\n",
    "\n",
    "\n",
    "\n",
    "Different calendars\n",
    "\n"
   ]
  },
  {
   "cell_type": "code",
   "execution_count": 13,
   "metadata": {},
   "outputs": [
    {
     "name": "stdout",
     "output_type": "stream",
     "text": [
      "6 0 1 2 3 4 5 "
     ]
    }
   ],
   "source": [
    "import calendar\n",
    "\n",
    "c = calendar.Calendar(calendar.SUNDAY)\n",
    "\n",
    "for weekday in c. iterweekdays():\n",
    "    print(weekday, end= \" \")"
   ]
  },
  {
   "cell_type": "markdown",
   "metadata": {},
   "source": [
    "4.6.1.10 - The itermonthdates() method\n",
    "\n",
    "The Calendar class has several methods that return an iterator. One of them is the itermonthdates method, which requires specifying the year and month.\n",
    "\n",
    "As a result, all days in the specified month and year are returned, as well as all days before the beginning of the month or the end of the month that are necessary to get a complete week.\n",
    "\n",
    "Each day is represented by a datetime.date object. Take a look at the example in the editor.\n",
    "\n",
    "The code displays all days in November 2019. Because the first day of November 2019 was a Friday, the following days are also returned to get the complete week: 10/28/2019 (Monday) 10/29/2019 (Tuesday) 10/30/2019 (Wednesday) 10/31/2019 (Thursday).\n",
    "\n",
    "The last day of November 2019 was a Saturday, so in order to keep the complete week, one more day is returned 12/01/2019 (Friday)."
   ]
  },
  {
   "cell_type": "code",
   "execution_count": 15,
   "metadata": {},
   "outputs": [
    {
     "name": "stdout",
     "output_type": "stream",
     "text": [
      "2019-10-28 2019-10-29 2019-10-30 2019-10-31 2019-11-01 2019-11-02 2019-11-03 2019-11-04 2019-11-05 2019-11-06 2019-11-07 2019-11-08 2019-11-09 2019-11-10 2019-11-11 2019-11-12 2019-11-13 2019-11-14 2019-11-15 2019-11-16 2019-11-17 2019-11-18 2019-11-19 2019-11-20 2019-11-21 2019-11-22 2019-11-23 2019-11-24 2019-11-25 2019-11-26 2019-11-27 2019-11-28 2019-11-29 2019-11-30 2019-12-01 "
     ]
    }
   ],
   "source": [
    "import calendar  \n",
    "\n",
    "c = calendar.Calendar()\n",
    "\n",
    "for date in c.itermonthdates(2019, 11):\n",
    "    print(date, end=\" \")\n"
   ]
  },
  {
   "cell_type": "markdown",
   "metadata": {},
   "source": [
    "4.6.1.11 - Other methods that return iterators\n",
    "\n",
    "Another useful method in the Calendar class is the method called itermonthdates, which takes year and month as parameters, and then returns the iterator to the days of the week represented by numbers.\n",
    "\n",
    "Take a look at the example in the editor.\n",
    "\n",
    "You’ll have certainly noticed the large number of 0s returned as a result of the example code. These are days outside the specified month range that are added to keep the complete week.\n",
    "\n",
    "The first four zeros represent 10/28/2019 (Monday) 10/29/2019 (Tuesday) 10/30/2019 (Wednesday) 10/31/2019 (Thursday). The remaining numbers are days in the month, except the last value of 0, which replaces the date 12/01/2019 (Sunday).\n",
    "\n",
    "There are four other similar methods in the Calendar class that differ in data returned:\n",
    "\n",
    " - itermonthdates2 – returns days in the form of tuples consisting of a day of the month number and a week day number;\n",
    " - itermonthdates3 – returns days in the form of tuples consisting of a year, a month, and a day of the month numbers. This method has been available since version 3.7;\n",
    " - itermonthdates4 – returns days in the form of tuples consisting of a year, a month, a day of the month, and a day of the week numbers. This method has been available since Python version 3.7.\n",
    "\n",
    "For testing purposes, use the example above and see how the return values of the described methods look in practice."
   ]
  },
  {
   "cell_type": "code",
   "execution_count": 16,
   "metadata": {},
   "outputs": [
    {
     "name": "stdout",
     "output_type": "stream",
     "text": [
      "0 0 0 0 1 2 3 4 5 6 7 8 9 10 11 12 13 14 15 16 17 18 19 20 21 22 23 24 25 26 27 28 29 30 0 "
     ]
    }
   ],
   "source": [
    "import calendar\n",
    "c = calendar.Calendar()\n",
    "\n",
    "for iter in c.itermonthdays(2019, 11):\n",
    "    print(iter, end=\" \")"
   ]
  },
  {
   "cell_type": "code",
   "execution_count": 19,
   "metadata": {},
   "outputs": [
    {
     "name": "stdout",
     "output_type": "stream",
     "text": [
      "(2019, 10, 28, 0) (2019, 10, 29, 1) (2019, 10, 30, 2) (2019, 10, 31, 3) (2019, 11, 1, 4) (2019, 11, 2, 5) (2019, 11, 3, 6) (2019, 11, 4, 0) (2019, 11, 5, 1) (2019, 11, 6, 2) (2019, 11, 7, 3) (2019, 11, 8, 4) (2019, 11, 9, 5) (2019, 11, 10, 6) (2019, 11, 11, 0) (2019, 11, 12, 1) (2019, 11, 13, 2) (2019, 11, 14, 3) (2019, 11, 15, 4) (2019, 11, 16, 5) (2019, 11, 17, 6) (2019, 11, 18, 0) (2019, 11, 19, 1) (2019, 11, 20, 2) (2019, 11, 21, 3) (2019, 11, 22, 4) (2019, 11, 23, 5) (2019, 11, 24, 6) (2019, 11, 25, 0) (2019, 11, 26, 1) (2019, 11, 27, 2) (2019, 11, 28, 3) (2019, 11, 29, 4) (2019, 11, 30, 5) (2019, 12, 1, 6) "
     ]
    }
   ],
   "source": [
    "import calendar\n",
    "c = calendar.Calendar()\n",
    "\n",
    "for iter in c.itermonthdays4(2019, 11):\n",
    "    print(iter, end=\" \")"
   ]
  },
  {
   "cell_type": "markdown",
   "metadata": {},
   "source": [
    "4.6.1.12 - The monthdays2calendar() method\n",
    "The Calendar class has several other useful methods that you can learn more about in the documentation (https://docs.python.org/3/library/calendar.html).\n",
    "\n",
    "One of them is the monthdays2calendar method, which takes the year and month, and then returns a list of weeks in a specific month. Each week is a tuple consisting of day numbers and weekday numbers. Look at the code in the editor.\n",
    "\n",
    "Note that the days numbers outside the month are represented by 0, while the weekday numbers are a number from 0-6, where 0 is Monday and 6 is Sunday.\n",
    "\n",
    "In a moment, this method may be useful for you to complete a laboratory task. Are you ready?"
   ]
  },
  {
   "cell_type": "code",
   "execution_count": null,
   "metadata": {},
   "outputs": [],
   "source": [
    "import calendar  \n",
    "\n",
    "c = calendar.Calendar()\n",
    "\n",
    "for data in c.monthdays2calendar(2020, 12):\n",
    "    print(data)\n"
   ]
  },
  {
   "cell_type": "markdown",
   "metadata": {},
   "source": [
    "4.6.1.13 - LAB: The Calendar Module\n",
    "\n",
    "Estimated time\n",
    "30-60 minutes\n",
    "\n",
    "Level of difficulty\n",
    "Easy\n",
    "\n",
    "Objectives\n",
    "Improving the student's skills in using the Calendar class.\n",
    "Scenario\n",
    "During this course, we looked at the Calendar class a bit. Your task is to extend its functionality with a new method called count_weekday_in_year, which takes a year and a weekday as parameters, and then returns the number of occurrences of a specific weekday in the year.\n",
    "\n",
    "Use the following tips:\n",
    "\n",
    " - Create a class called MyCalendar that extends the Calendar class;\n",
    " - create the count_weekday_in_year method with the year and weekday parameters. The weekday parameter should be a value between 0-6, where 0 is Monday and 6 is Sunday. The method should return the number of days as an integer;\n",
    " - in your implementation, use the monthdays2calendar method of the Calendar class.\n",
    "\n",
    "The following are the expected results:\n",
    "\n",
    "Sample arguments\n",
    "year=2019, weekday=0\n",
    "\n",
    "Expected output\n",
    "52\n",
    "\n",
    "\n",
    "Sample arguments\n",
    "year=2000, weekday=6\n",
    "\n",
    "Expected output\n",
    "53"
   ]
  },
  {
   "cell_type": "code",
   "execution_count": 1,
   "metadata": {},
   "outputs": [
    {
     "name": "stdout",
     "output_type": "stream",
     "text": [
      "52\n"
     ]
    }
   ],
   "source": [
    "import calendar\n",
    "\n",
    "class MyCalendar(calendar.Calendar):\n",
    "    def count_weekday_in_year(self, year, weekday):\n",
    "        current_month = 1\n",
    "        number_of_days = 0\n",
    "        while (current_month <= 12):\n",
    "            for data in self.monthdays2calendar(year, current_month):\n",
    "                if data[weekday][0] != 0:\n",
    "                    number_of_days = number_of_days + 1\n",
    "                \n",
    "            current_month = current_month + 1\n",
    "        return number_of_days\n",
    "\n",
    "my_calendar = MyCalendar()\n",
    "number_of_days = my_calendar.count_weekday_in_year(2019, calendar.MONDAY)\n",
    "\n",
    "print(number_of_days)\n",
    "\n"
   ]
  },
  {
   "cell_type": "code",
   "execution_count": null,
   "metadata": {},
   "outputs": [],
   "source": [
    "#answer from courseware \n",
    "\n",
    "import calendar\n",
    "\n",
    "class MyCalendar(calendar.Calendar):\n",
    "    def count_weekday_in_year(self, year, weekday):\n",
    "        current_month = 1\n",
    "        number_of_days = 0\n",
    "        while (current_month <= 12):\n",
    "            for data in self.monthdays2calendar(year, current_month):\n",
    "                if data[weekday][0] != 0:\n",
    "                    number_of_days = number_of_days + 1\n",
    "\n",
    "            current_month = current_month + 1\n",
    "        return number_of_days\n",
    "\n",
    "my_calendar = MyCalendar()\n",
    "number_of_days = my_calendar.count_weekday_in_year(2019, calendar.MONDAY)\n",
    "\n",
    "print(number_of_days)\n"
   ]
  },
  {
   "cell_type": "markdown",
   "metadata": {},
   "source": [
    "4.6.1.14 - Key takeaways\n",
    "1. In the calendar module, the days of the week are displayed from Monday to Sunday. Each day of the week has its representation in the form of an integer, where the first day of the week (Monday) is represented by the value 0, while the last day of the week (Sunday) is represented by the value 6.\n",
    "\n",
    "\n",
    "2. To display a calendar for any year, call the calendar function with the year passed as its argument, e.g.:\n",
    "\n",
    "import calendar\n",
    "print(calendar.calendar(2020))\n",
    "\n",
    "\n",
    "Note: A good alternative to the above function is the function called prcal, which also takes the same parameters as the calendar function, but doesn't require the use of the print function to display the calendar.\n",
    "\n",
    "\n",
    "3. To display a calendar for any month of the year, call the month function, passing year and month to it. For example:\n",
    "\n",
    "import calendar\n",
    "print(calendar.month(2020, 9))\n",
    "\n",
    "\n",
    "Note: You can also use the prmonth function, which has the same parameters as the month function, but doesn't require the use of the print function to display the calendar.\n",
    "\n",
    "\n",
    "4. The setfirstweekday function allows you to change the first day of the week. It takes a value from 0 to 6, where 0 is Sunday and 6 is Saturday.\n",
    "\n",
    "\n",
    "5. The result of the weekday function is a day of the week as an integer value for a given year, month, and day:\n",
    "\n",
    "import calendar\n",
    "print(calendar.weekday(2020, 9, 29)) # This displays 1, which means Tuesday.\n",
    "\n",
    "\n",
    "\n",
    "6. The weekheader function returns the weekday names in a shortened form. The weekheader method requires you to specify the width in characters for one day of the week. If the width you provide is greater than 3, you'll still get the abbreviated weekday names consisting of only three characters. For example:\n",
    "\n",
    "import calendar\n",
    "print(calendar.weekheader(2)) # This display: Mo Tu We Th Fr Sa Su\n",
    "\n",
    "\n",
    "\n",
    "7. A very useful function available in the calendar module is the function called isleap, which, as the name suggests, allows you to check whether the year is a leap year or not:\n",
    "\n",
    "import calendar\n",
    "print(calendar.isleap(2020)) # This displays: True\n",
    "\n",
    "\n",
    "\n",
    "8. You can create a calendar object yourself using the Calendar class, which, when creating its object, allows you to change the first day of the week with the optional firstweekday parameter, e.g.:\n",
    "\n",
    "import calendar  \n",
    "\n",
    "c = calendar.Calendar(2)\n",
    "\n",
    "for weekday in c.iterweekdays():\n",
    "    print(weekday, end=\" \")\n",
    "# Result: 2 3 4 5 6 0 1\n",
    "\n",
    "\n",
    "The iterweekdays returns an iterator for weekday numbers. The first value returned is always equal to the value of the firstweekday property.\n",
    "\n",
    "\n",
    "\n",
    "\n",
    "Exercise 1\n",
    "\n",
    "What is the output of the following snippet?\n",
    "\n",
    "import calendar\n",
    "print(calendar.weekheader(1))\n",
    "\n",
    "\n",
    "Check\n",
    "M T W T F S S\n",
    "\n",
    "\n",
    "Exercise 2\n",
    "\n",
    "What is the output of the following snippet?\n",
    "\n",
    "import calendar  \n",
    "\n",
    "c = calendar.Calendar()\n",
    "\n",
    "for weekday in c.iterweekdays():\n",
    "    print(weekday, end=\" \")\n",
    "\n",
    "\n",
    "Check\n",
    "0 1 2 3 4 5 6\n"
   ]
  },
  {
   "cell_type": "code",
   "execution_count": 6,
   "metadata": {},
   "outputs": [
    {
     "name": "stdout",
     "output_type": "stream",
     "text": [
      "False\n"
     ]
    }
   ],
   "source": [
    "import calendar\n",
    "\n",
    "cal = calendar.isleap(2019)\n",
    "print(cal)"
   ]
  },
  {
   "cell_type": "code",
   "execution_count": 7,
   "metadata": {},
   "outputs": [
    {
     "name": "stdout",
     "output_type": "stream",
     "text": [
      "bytearray(b'\\x00\\x00\\x00')\n"
     ]
    }
   ],
   "source": [
    "b = bytearray(3)\n",
    "print(b)"
   ]
  },
  {
   "cell_type": "code",
   "execution_count": 11,
   "metadata": {},
   "outputs": [
    {
     "name": "stdout",
     "output_type": "stream",
     "text": [
      "345 days, 0:00:00\n"
     ]
    }
   ],
   "source": [
    "from datetime import date\n",
    "\n",
    "date_1 = date(1992, 1, 16)\n",
    "date_2 = date(1991, 2, 5)\n",
    "\n",
    "print(date_1 - date_2)"
   ]
  },
  {
   "cell_type": "code",
   "execution_count": 12,
   "metadata": {},
   "outputs": [
    {
     "name": "stdout",
     "output_type": "stream",
     "text": [
      "++++++"
     ]
    }
   ],
   "source": [
    "def fun(n):\n",
    "    s = '+'\n",
    "    for i in range(n):\n",
    "        s += s\n",
    "        yield s\n",
    "\n",
    "for x in fun(2):\n",
    "    print(x, end = '')"
   ]
  },
  {
   "cell_type": "code",
   "execution_count": 14,
   "metadata": {},
   "outputs": [
    {
     "name": "stdout",
     "output_type": "stream",
     "text": [
      "0 1 2 3 4 5 6 "
     ]
    }
   ],
   "source": [
    "import calendar\n",
    "\n",
    "c = calendar.Calendar()\n",
    "\n",
    "for weekday in c.iterweekdays():\n",
    "    print(weekday, end=\" \")"
   ]
  },
  {
   "cell_type": "code",
   "execution_count": 1,
   "metadata": {},
   "outputs": [
    {
     "name": "stdout",
     "output_type": "stream",
     "text": [
      "[1, 9]\n"
     ]
    }
   ],
   "source": [
    "numbers = [i*i for i in range(5)]\n",
    "foo = list(filter(lambda x: x%2, numbers))\n",
    "print(foo)"
   ]
  },
  {
   "cell_type": "code",
   "execution_count": 2,
   "metadata": {},
   "outputs": [
    {
     "name": "stdout",
     "output_type": "stream",
     "text": [
      "['__doc__', '__loader__', '__name__', '__package__', '__spec__', 'acos', 'acosh', 'asin', 'asinh', 'atan', 'atan2', 'atanh', 'ceil', 'comb', 'copysign', 'cos', 'cosh', 'degrees', 'dist', 'e', 'erf', 'erfc', 'exp', 'expm1', 'fabs', 'factorial', 'floor', 'fmod', 'frexp', 'fsum', 'gamma', 'gcd', 'hypot', 'inf', 'isclose', 'isfinite', 'isinf', 'isnan', 'isqrt', 'lcm', 'ldexp', 'lgamma', 'log', 'log10', 'log1p', 'log2', 'modf', 'nan', 'nextafter', 'perm', 'pi', 'pow', 'prod', 'radians', 'remainder', 'sin', 'sinh', 'sqrt', 'tan', 'tanh', 'tau', 'trunc', 'ulp']\n"
     ]
    }
   ],
   "source": [
    "import math\n",
    "print(dir(math))"
   ]
  },
  {
   "cell_type": "code",
   "execution_count": 4,
   "metadata": {},
   "outputs": [
    {
     "name": "stdout",
     "output_type": "stream",
     "text": [
      "2\n"
     ]
    }
   ],
   "source": [
    "x = \"\\\\\\\\\"\n",
    "print(len(x))"
   ]
  },
  {
   "cell_type": "code",
   "execution_count": 6,
   "metadata": {},
   "outputs": [
    {
     "name": "stdout",
     "output_type": "stream",
     "text": [
      "3\n"
     ]
    }
   ],
   "source": [
    "class A:\n",
    "    def __init__(self, v=2):\n",
    "        self.v = v\n",
    "\n",
    "    def set(self, v=1):\n",
    "        self.v += v\n",
    "        return self.v\n",
    "\n",
    "a = A()\n",
    "b = a\n",
    "b.set()\n",
    "print(a.v)"
   ]
  },
  {
   "cell_type": "code",
   "execution_count": 7,
   "metadata": {},
   "outputs": [
    {
     "ename": "TypeError",
     "evalue": "A.__init__() takes 1 positional argument but 2 were given",
     "output_type": "error",
     "traceback": [
      "\u001b[1;31m---------------------------------------------------------------------------\u001b[0m",
      "\u001b[1;31mTypeError\u001b[0m                                 Traceback (most recent call last)",
      "\u001b[1;32mc:\\Users\\TDEM\\Desktop\\Youngblood\\github_test\\python\\python_essentials_2\\Module4_Miscellaneous\\4-6_calendar_module.ipynb Cell 38'\u001b[0m in \u001b[0;36m<cell line: 5>\u001b[1;34m()\u001b[0m\n\u001b[0;32m      <a href='vscode-notebook-cell:/c%3A/Users/TDEM/Desktop/Youngblood/github_test/python/python_essentials_2/Module4_Miscellaneous/4-6_calendar_module.ipynb#ch0000037?line=1'>2</a>\u001b[0m     \u001b[39mdef\u001b[39;00m \u001b[39m__init__\u001b[39m(\u001b[39mself\u001b[39m):\n\u001b[0;32m      <a href='vscode-notebook-cell:/c%3A/Users/TDEM/Desktop/Youngblood/github_test/python/python_essentials_2/Module4_Miscellaneous/4-6_calendar_module.ipynb#ch0000037?line=2'>3</a>\u001b[0m         \u001b[39mpass\u001b[39;00m\n\u001b[1;32m----> <a href='vscode-notebook-cell:/c%3A/Users/TDEM/Desktop/Youngblood/github_test/python/python_essentials_2/Module4_Miscellaneous/4-6_calendar_module.ipynb#ch0000037?line=4'>5</a>\u001b[0m a \u001b[39m=\u001b[39m A(\u001b[39m1\u001b[39;49m)\n\u001b[0;32m      <a href='vscode-notebook-cell:/c%3A/Users/TDEM/Desktop/Youngblood/github_test/python/python_essentials_2/Module4_Miscellaneous/4-6_calendar_module.ipynb#ch0000037?line=5'>6</a>\u001b[0m \u001b[39mprint\u001b[39m(\u001b[39mhasattr\u001b[39m(a, \u001b[39m'\u001b[39m\u001b[39mA\u001b[39m\u001b[39m'\u001b[39m))\n",
      "\u001b[1;31mTypeError\u001b[0m: A.__init__() takes 1 positional argument but 2 were given"
     ]
    }
   ],
   "source": [
    "class A:\n",
    "    def __init__(self):\n",
    "        pass\n",
    "\n",
    "a = A(1)\n",
    "print(hasattr(a, 'A'))"
   ]
  },
  {
   "cell_type": "code",
   "execution_count": null,
   "metadata": {},
   "outputs": [],
   "source": []
  }
 ],
 "metadata": {
  "interpreter": {
   "hash": "e182503549a52d5c177a857e4debd59751de583b39078afa281ef6352abee091"
  },
  "kernelspec": {
   "display_name": "Python 3.10.4 64-bit",
   "language": "python",
   "name": "python3"
  },
  "language_info": {
   "codemirror_mode": {
    "name": "ipython",
    "version": 3
   },
   "file_extension": ".py",
   "mimetype": "text/x-python",
   "name": "python",
   "nbconvert_exporter": "python",
   "pygments_lexer": "ipython3",
   "version": "3.10.4"
  },
  "orig_nbformat": 4
 },
 "nbformat": 4,
 "nbformat_minor": 2
}
