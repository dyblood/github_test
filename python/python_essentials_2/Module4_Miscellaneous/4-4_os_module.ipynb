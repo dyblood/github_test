{
 "cells": [
  {
   "cell_type": "markdown",
   "metadata": {},
   "source": [
    "4.4.1.1 - Introduction to the os module\n",
    "\n",
    "In this section, you'll learn about a module called os, which lets you interact with the operating system using Python.\n",
    "\n",
    "It provides functions that are available on Unix and/or Windows systems. If you're familiar with the command console, you'll see that some functions give the same results as the commands available on the operating systems.\n",
    "\n",
    "A good example of this is the mkdir function, which allows you to create a directory just like the mkdir command in Unix and Windows. If you don't know this command, don't worry.\n",
    "\n",
    "You'll soon have the opportunity to learn the functions of the os module, to perform operations on files and directories along with the corresponding commands.\n",
    "\n",
    "In addition to file and directory operations, the os module enables you to:\n",
    "\n",
    "get information about the operating system;\n",
    "manage processes;\n",
    "operate on I/O streams using file descriptors.\n",
    "\n",
    "\n",
    "\n",
    "A penguin, a snake, and a window\n",
    "\n",
    "\n",
    "In a moment, you'll see how to get basic information about your operating system, although process management and working with file descriptors won't be discussed here, because these are more advanced topics that require knowledge of operating system mechanisms.\n",
    "\n",
    "Ready?"
   ]
  },
  {
   "cell_type": "markdown",
   "metadata": {},
   "source": [
    "4.4.1.2 - Getting information about the operating system\n",
    "\n",
    "Before you create your first directory structure, you'll see how you can get information about the current operating system. This is really easy because the os module provides a function called uname, which returns an object containing the following attributes:\n",
    "\n",
    " - systemname — stores the name of the operating system;\n",
    " - nodename — stores the machine name on the network;\n",
    " - release — stores the operating system release;\n",
    " - version — stores the operating system version;\n",
    " - machine — stores the hardware identifier, e.g., x86_64.\n",
    "\n",
    "Let's look at how it is in practice:\n",
    "\n",
    "import os\n",
    "print(os.uname())\n",
    "\n",
    "\n",
    "Result:\n",
    "\n",
    "posix.uname_result(sysname='Linux', nodename='192d19f04766', release='4.4.0-164-generic', version='#192-Ubuntu SMP Fri Sep 13 12:02:50 UTC 2019', machine='x86_64')\n",
    "output\n",
    "\n",
    "As you can see, the uname function returns an object containing information about the operating system. The above code was launched on Ubuntu 16.04.6 LTS, so don't be surprised if you get a different result, because it depends on your operating system.\n",
    "\n",
    "Unfortunately, the uname function only works on some Unix systems. If you use Windows, you can use the uname function in the platform module, which returns a similar result.\n",
    "\n",
    "The os module allows you to quickly distinguish the operating system using the name attribute, which supports one of the following names:\n",
    "\n",
    "posix — you'll get this name if you use Unix;\n",
    "nt — you'll get this name if you use Windows;\n",
    "java — you'll get this name if your code is written in Jython.\n",
    "For Ubuntu 16.04.6 LTS, the name attribute returns the name posix:\n",
    "\n",
    "import os\n",
    "print(os.name)\n",
    "\n",
    "\n",
    "Result:\n",
    "\n",
    "posix\n",
    "output\n",
    "\n",
    "NOTE: On Unix systems, there's a command called uname that returns the same information (if you run it with the -a option) as the uname function."
   ]
  },
  {
   "cell_type": "code",
   "execution_count": 10,
   "metadata": {},
   "outputs": [
    {
     "name": "stdout",
     "output_type": "stream",
     "text": [
      "DirEntry // F_OK // GenericAlias // Mapping // MutableMapping // O_APPEND // O_BINARY // \n",
      "O_CREAT // O_EXCL // O_NOINHERIT // O_RANDOM // O_RDONLY // O_RDWR // O_SEQUENTIAL // \n",
      "O_SHORT_LIVED // O_TEMPORARY // O_TEXT // O_TRUNC // O_WRONLY // P_DETACH // P_NOWAIT // \n",
      "P_NOWAITO // P_OVERLAY // P_WAIT // PathLike // R_OK // SEEK_CUR // SEEK_END // \n",
      "SEEK_SET // TMP_MAX // W_OK // X_OK // _AddedDllDirectory // _Environ // __all__ // \n",
      "__builtins__ // __cached__ // __doc__ // __file__ // __loader__ // __name__ // __package__ // \n",
      "__spec__ // _check_methods // _execvpe // _exists // _exit // _fspath // _get_exports_list // \n",
      "_walk // _wrap_close // abc // abort // access // add_dll_directory // altsep // \n",
      "chdir // chmod // close // closerange // cpu_count // curdir // defpath // \n",
      "device_encoding // devnull // dup // dup2 // environ // error // execl // \n",
      "execle // execlp // execlpe // execv // execve // execvp // execvpe // \n",
      "extsep // fdopen // fsdecode // fsencode // fspath // fstat // fsync // \n",
      "ftruncate // get_exec_path // get_handle_inheritable // get_inheritable // get_terminal_size // getcwd // getcwdb // \n",
      "getenv // getlogin // getpid // getppid // isatty // kill // linesep // \n",
      "link // listdir // lseek // lstat // makedirs // mkdir // name // \n",
      "open // pardir // path // pathsep // pipe // popen // putenv // \n",
      "read // readlink // remove // removedirs // rename // renames // replace // \n",
      "rmdir // scandir // sep // set_handle_inheritable // set_inheritable // spawnl // spawnle // \n",
      "spawnv // spawnve // st // startfile // stat // stat_result // statvfs_result // \n",
      "strerror // supports_bytes_environ // supports_dir_fd // supports_effective_ids // supports_fd // supports_follow_symlinks // symlink // \n",
      "sys // system // terminal_size // times // times_result // truncate // umask // \n",
      "uname_result // unlink // unsetenv // urandom // utime // waitpid // waitstatus_to_exitcode // \n",
      "walk // write // "
     ]
    }
   ],
   "source": [
    "import os\n",
    "count = 0\n",
    "for i in dir(os):\n",
    "    print(i, end=\" // \")\n",
    "    count += 1\n",
    "    if count == 7:\n",
    "        print()\n",
    "        count = 0"
   ]
  },
  {
   "cell_type": "code",
   "execution_count": 15,
   "metadata": {},
   "outputs": [
    {
     "name": "stdout",
     "output_type": "stream",
     "text": [
      "<module 'sys' (built-in)>\n"
     ]
    }
   ],
   "source": [
    "import os\n",
    "print(os.sys)"
   ]
  },
  {
   "cell_type": "markdown",
   "metadata": {},
   "source": [
    "4.4.1.3 - Creating directories in Python\n",
    "\n",
    "The os module provides a function called mkdir, which, like the mkdir command in Unix and Windows, allows you to create a directory. The mkdir function requires a path that can be relative or absolute. Let's recall what both paths look like in practice:\n",
    "\n",
    " - my_first_directory — this is a relative path which will create the my_first_directory directory in the current working directory;\n",
    " - ./my_first_directory — this is a relative path that explicitly points to the current working directory. It has the same effect as the path above;\n",
    " - ../my_first_directory — this is a relative path that will create the my_first_directory directory in the parent directory of the current working directory;\n",
    " - /python/my_first_directory — this is the absolute path that will create the my_first_directory directory, which in turn is in the python directory in the root directory.\n",
    " - Look at the code in the editor. It shows an example of how to create the my_first_directory directory using a relative path. This is the simplest variant of the relative path, which consists of passing only the directory name.\n",
    "\n",
    "If you test your code here, it will output the newly created ['my_first_directory'] directory (and the entire content of the current working catalog).\n",
    "\n",
    "The mkdir function creates a directory in the specified path. Note that running the program twice will raise a FileExistsError.\n",
    "\n",
    "This means that we cannot create a directory if it already exists. In addition to the path argument, the mkdir function can optionally take the mode argument, which specifies directory permissions. However, on some systems, the mode argument is ignored.\n",
    "\n",
    "To change the directory permissions, we recommend the chmod function, which works similarly to the chmod command on Unix systems. You can find more information about it in the documentation.\n",
    "\n",
    "In the above example, another function provided by the os module named listdir is used. The listdir function returns a list containing the names of the files and directories that are in the path passed as an argument.\n",
    "\n",
    "If no argument is passed to it, the current working directory will be used (as in the example above). It's important that the result of the listdir function omits the entries '.' and '..', which are displayed, e.g., when using the ls -a command on Unix systems.\n",
    "\n",
    "NOTE: In both Windows and Unix, there's a command called mkdir, which requires a directory path. The equivalent of the above code that creates the my_first_directory directory is the mkdir my_first_directory command.\n",
    "\n"
   ]
  },
  {
   "cell_type": "code",
   "execution_count": 20,
   "metadata": {},
   "outputs": [
    {
     "name": "stdout",
     "output_type": "stream",
     "text": [
      "['Call Center', 'Call Center.xlsx', 'DDJ-SR_UpdaterApp_v1.08_2.jar', 'desktop.ini', 'file.txt', 'file1.bin', 'Hicks DA4856 - Counseling Statement (04APR2022) (1).pdf', 'Hicks DA4856 - Counseling Statement (04APR2022) M.pdf', 'labtxt.txt', 'lab_4.3.1.17.txt', 'Mandatory Brief Roster.xlsx', 'Microsoft Teams.lnk', 'my_first_directory', 'newtext.txt', 'newtext1.txt', 'newtext2.txt', 'Pine64', 'quarantine_tracker.xlsx', 'Soldier Lookup Call Center.xlsx', 'State Alert Roster2.xlsx', 'team_awards', 'test.xlsx', 'VIA.lnk', 'Visual Studio Code.lnk', 'Youngblood']\n",
      "['my_second_directory']\n"
     ]
    }
   ],
   "source": [
    "import os\n",
    "os.mkdir(\"c:/users/TDEM/Desktop/my_first_directory\")\n",
    "os.mkdir(\"c:/users/TDEM/Desktop/my_first_directory/my_second_directory\")\n",
    "print(os.listdir(\"c:/users/TDEM/Desktop\"))\n",
    "print(os.listdir(\"c:/users/TDEM/Desktop/my_first_directory\"))\n"
   ]
  },
  {
   "cell_type": "markdown",
   "metadata": {},
   "source": [
    "4.4.1.4 - Recursive directory creation\n",
    "\n",
    "The mkdir function is very useful, but what if you need to create another directory in the directory you've just created. Of course, you can go to the created directory and create another directory inside it, but fortunately the os module provides a function called makedirs, which makes this task easier.\n",
    "\n",
    "The makedirs function enables recursive directory creation, which means that all directories in the path will be created. Let's look at the code in the editor and see how it is in practice.\n",
    "\n",
    "The code should produce the following result:\n",
    "\n",
    "['my_second_directory']\n",
    "output\n",
    "\n",
    "The code creates two directories. The first of them is created in the current working directory, while the second in the my_first_directory directory.\n",
    "\n",
    "You don't have to go to the my_first_directory directory to create the my_second_directory directory, because the makedirs function does this for you. In the example above, we go to the my_first_directory directory to show that the makedirs command creates the my_second_directory subdirectory.\n",
    "\n",
    "To move between directories, you can use a function called chdir, which changes the current working directory to the specified path. As an argument, it takes any relative or absolute path. In our example, we pass the first directory name to it.\n",
    "\n",
    "NOTE: The equivalent of the makedirs function on Unix systems is the mkdir command with the -p flag, while in Windows, simply the mkdir command with the path:\n",
    "\n",
    " - Unix-like systems:\n",
    "    mkdir -p my_first_directory/my_second_directory\n",
    "\n",
    " - Windows:\n",
    "    mkdir my_first_directory/my_second_directory"
   ]
  },
  {
   "cell_type": "code",
   "execution_count": 21,
   "metadata": {},
   "outputs": [
    {
     "name": "stdout",
     "output_type": "stream",
     "text": [
      "['my_second_directory']\n"
     ]
    }
   ],
   "source": [
    "import os\n",
    "\n",
    "os.makedirs(\"c:/users/TDEM/Desktop/my_first_directory1/my_second_directory1\")\n",
    "os.chdir(\"c:/users/TDEM/Desktop/my_first_directory\")\n",
    "print(os.listdir())\n"
   ]
  },
  {
   "cell_type": "markdown",
   "metadata": {},
   "source": [
    "4.4.1.5 - Where am I now?\n",
    "\n",
    "You already know how to create directories and how to move between them. Sometimes, when you have a really large directory structure that you navigate, you may not know which directory you're currently working in.\n",
    "\n",
    "\n",
    "Lost programmer\n",
    "\n",
    "\n",
    "As you’ve probably guessed, the os module provides a function that returns information about the current working directory. It's called getcwd. Look at the code in the editor to see how to use it in practice.\n",
    "\n",
    "Result:\n",
    "\n",
    ".../my_first_directory\n",
    ".../my_first_directory/my_second_directory\n",
    "output\n",
    "\n",
    "In the example, we create the my_first_directory directory, and the my_second_directory directory inside it. In the next step, we change the current working directory to the my_first_directory directory, and then display the current working directory (first line of the result).\n",
    "\n",
    "Next, we go to the my_second_directory directory and again display the current working directory (second line of the result). As you can see, the getcwd function returns the absolute path to the directories.\n",
    "\n",
    "NOTE: On Unix-like systems, the equivalent of the getcwd function is the pwd command, which prints the name of the current working directory.\n",
    "\n"
   ]
  },
  {
   "cell_type": "code",
   "execution_count": 24,
   "metadata": {},
   "outputs": [
    {
     "name": "stdout",
     "output_type": "stream",
     "text": [
      "c:\\users\\TDEM\\Desktop\\my_first_directory1\n",
      "c:\\users\\TDEM\\Desktop\\my_first_directory1\\my_second_directory1\n"
     ]
    }
   ],
   "source": [
    "import os\n",
    "\n",
    "os.makedirs(\"c:/users/TDEM/Desktop/my_first_directory1/my_second_directory1\")\n",
    "os.chdir(\"c:/users/TDEM/Desktop/my_first_directory1\")\n",
    "print(os.getcwd())\n",
    "os.chdir(\"my_second_directory1\")\n",
    "print(os.getcwd())"
   ]
  },
  {
   "cell_type": "markdown",
   "metadata": {},
   "source": [
    "4.4.1.6 - Deleting directories in Python\n",
    "\n",
    "The os module also allows you to delete directories. It gives you the option of deleting a single directory or a directory with its subdirectories. To delete a single directory, you can use a function called rmdir, which takes the path as its argument. Look at the code in the editor.\n",
    "\n",
    "The above example is really simple. First, the my_first_directory directory is created, and then it's removed using the rmdir function. The listdir function is used as proof that the directory has been removed successfully. In this case, it returns an empty list. When deleting a directory, make sure it exists and is empty, otherwise an exception will be raised.\n",
    "\n",
    "To remove a directory and its subdirectories, you can use the removedirs function, which requires you to specify a path containing all directories that should be removed:\n",
    "\n",
    "import os\n",
    "\n",
    "os.makedirs(\"my_first_directory/my_second_directory\")\n",
    "os.removedirs(\"my_first_directory/my_second_directory\")\n",
    "print(os.listdir())\n",
    "\n",
    "\n",
    "As with the rmdir function, if one of the directories doesn't exist or isn't empty, an exception will be raised.\n",
    "\n",
    "NOTE: In both Windows and Unix, there's a command called rmdir, which, just like the rmdir function, removes directories. What's more, both systems have commands to delete a directory and its contents. In Unix, this is the rm command with the -r flag."
   ]
  },
  {
   "cell_type": "code",
   "execution_count": null,
   "metadata": {},
   "outputs": [],
   "source": [
    "import os\n",
    "\n",
    "os.mkdir(\"my_first_directory\")\n",
    "print(os.listdir())\n",
    "os.rmdir(\"my_first_directory\")\n",
    "print(os.listdir())\n"
   ]
  },
  {
   "cell_type": "markdown",
   "metadata": {},
   "source": [
    "4.4.1.7 - The system() function\n",
    "\n",
    "All functions presented in this part of the course can be replaced by a function called system, which executes a command passed to it as a string.\n",
    "\n",
    "The system function is available in both Windows and Unix. Depending on the system, it returns a different result.\n",
    "\n",
    "In Windows, it returns the value returned by the shell after running the command given, while in Unix, it returns the exit status of the process.\n",
    "\n",
    "Let's look at the code in the editor and see how it is in practice.\n",
    "\n",
    "Result:\n",
    "\n",
    "0\n",
    "output\n",
    "\n",
    "The above example will work in both Windows and Unix. In our case, we receive exit status 0, which indicates success on Unix systems.\n",
    "\n",
    "This means that the my_first_directory directory has been created. As part of the exercise, try to list the contents of the directory where you created the my_first_directory directory.\n",
    "\n"
   ]
  },
  {
   "cell_type": "code",
   "execution_count": 2,
   "metadata": {},
   "outputs": [
    {
     "name": "stdout",
     "output_type": "stream",
     "text": [
      "1\n"
     ]
    }
   ],
   "source": [
    "import os\n",
    "\n",
    "returned_value = os.system(\"mkdir c:/Users/TDEM/Desktop/my_first\")\n",
    "print(returned_value)\n"
   ]
  },
  {
   "cell_type": "markdown",
   "metadata": {},
   "source": [
    "4.4.1.8 - LAB: The OS Module\n",
    "\n",
    "Estimated time\n",
    "15-30 min\n",
    "\n",
    "Level of difficulty\n",
    "Easy\n",
    "\n",
    "Objectives\n",
    "improving the student's skills in interacting with the operating system;\n",
    "practical use of known functions provided by the os module.\n",
    "Scenario\n",
    "It goes without saying that operating systems allow you to search for files and directories. While studying this part of the course, you learned about the functions of the os module, which have everything you need to write a program that will search for directories in a given location.\n",
    "\n",
    "To make your task easier, we have prepared a test directory structure for you:\n",
    "\n",
    "\n",
    "Directory structure\n",
    "\n",
    "\n",
    "Your program should meet the following requirements:\n",
    "\n",
    " - Write a function or method called find that takes two arguments called path and dir. The path argument should accept a relative or absolute path to a directory where the search should start, while the dir argument should be the name of a directory that you want to find in the given path. Your program should display the absolute paths if it finds a directory with the given name.\n",
    " - The directory search should be done recursively. This means that the search should also include all subdirectories in the given path.\n",
    "\n",
    "Example input:\n",
    "\n",
    "path=\"./tree\", dir=\"python\"\n",
    "\n",
    "Example output:\n",
    "\n",
    ".../tree/python\n",
    ".../tree/cpp/other_courses/python\n",
    ".../tree/c/other_courses/python\n"
   ]
  },
  {
   "cell_type": "code",
   "execution_count": null,
   "metadata": {},
   "outputs": [],
   "source": [
    "import os\n",
    "\n",
    "class DirectorySearcher:\n",
    "    def find(self, path, dir):\n",
    "        try:\n",
    "            os.chdir(path)\n",
    "        except OSError:\n",
    "            # Doesn't process a file that isn't a directory.\n",
    "            return\n",
    "\n",
    "        current_dir = os.getcwd()\n",
    "        for entry in os.listdir(\".\"):\n",
    "            if entry == dir:\n",
    "                print(os.getcwd() + \"/\" + dir)\n",
    "            self.find(current_dir + \"/\" + entry, dir)\n",
    "\n",
    "\n",
    "directory_searcher = DirectorySearcher()\n",
    "directory_searcher.find(\"./tree\", \"python\")\n"
   ]
  },
  {
   "cell_type": "markdown",
   "metadata": {},
   "source": [
    "4.4.1.9 - Key takeaways\n",
    "\n",
    "1. The uname function returns an object that contains information about the current operating system. The object has the following attributes:\n",
    "\n",
    "systemname (stores the name of the operating system)\n",
    "nodename (stores the machine name on the network)\n",
    "release (stores the operating system release)\n",
    "version (stores the operating system version)\n",
    "machine (stores the hardware identifier, e.g. x86_64.)\n",
    "2. The name attribute available in the os module allows you to distinguish the operating system. It returns one of the following three values:\n",
    "\n",
    "posix (you'll get this name if you use Unix)\n",
    "nt (you'll get this name if you use Windows)\n",
    "java (you'll get this name if your code is written in something like Jython)\n",
    "3. The mkdir function creates a directory in the path passed as its argument. The path can be either relative or absolute, e.g:\n",
    "\n",
    "import os\n",
    "\n",
    "os.mkdir(\"hello\") # the relative path\n",
    "os.mkdir(\"/home/python/hello\") # the absolute path\n",
    "\n",
    "\n",
    "Note: If the directory exists, a FileExistsError exception will be thrown. In addition to the mkdir function, the os module provides the makedirs function, which allows you to recursively create all directories in a path.\n",
    "\n",
    "4. The result of the listdir() function is a list containing the names of the files and directories that are in the path passed as its argument.\n",
    "\n",
    "It's important to remember that the listdir function omits the entries '.' and '..', which are displayed, for example, when using the ls -a command on Unix systems. If the path isn't passed, the result will be returned for the current working directory.\n",
    "\n",
    "5. To move between directories, you can use a function called chdir(), which changes the current working directory to the specified path. As its argument, it takes any relative or absolute path.\n",
    "\n",
    "If you want to find out what the current working directory is, you can use the getcwd() function, which returns the path to it.\n",
    "\n",
    "6. To remove a directory, you can use the rmdir() function, but to remove a directory and its subdirectories, use the removedirs() function.\n",
    "\n",
    "7. On both Unix and Windows, you can use the system function, which executes a command passed to it as a string, e.g.:\n",
    "\n",
    "import os\n",
    "\n",
    "returned_value = os.system(\"mkdir hello\")\n",
    "\n",
    "\n",
    "The system function on Windows returns the value returned by shell after running the command given, while on Unix it returns the exit status of the process.\n",
    "\n",
    "\n",
    "\n",
    "\n",
    "Exercise 1\n",
    "\n",
    "What is the output of the following snippet if you run it on Unix?\n",
    "\n",
    "import os\n",
    "print(os.name)\n",
    "\n",
    "\n",
    "Check\n",
    "posix\n",
    "\n",
    "\n",
    "Exercise 2\n",
    "\n",
    "What is the output of the following snippet?\n",
    "\n",
    "import os\n",
    "\n",
    "os.mkdir(\"hello\")\n",
    "print(os.listdir())\n",
    "\n",
    "\n",
    "Check\n",
    "['hello']\n"
   ]
  }
 ],
 "metadata": {
  "interpreter": {
   "hash": "e182503549a52d5c177a857e4debd59751de583b39078afa281ef6352abee091"
  },
  "kernelspec": {
   "display_name": "Python 3.10.4 64-bit",
   "language": "python",
   "name": "python3"
  },
  "language_info": {
   "codemirror_mode": {
    "name": "ipython",
    "version": 3
   },
   "file_extension": ".py",
   "mimetype": "text/x-python",
   "name": "python",
   "nbconvert_exporter": "python",
   "pygments_lexer": "ipython3",
   "version": "3.10.4"
  },
  "orig_nbformat": 4
 },
 "nbformat": 4,
 "nbformat_minor": 2
}
